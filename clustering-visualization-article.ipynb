{
 "cells": [
  {
   "cell_type": "code",
   "execution_count": 1,
   "id": "853d4038",
   "metadata": {},
   "outputs": [],
   "source": [
    "import numpy as np\n",
    "\n",
    "import pandas as pd\n",
    "\n",
    "import math\n",
    "\n",
    "from sklearn.preprocessing import StandardScaler\n",
    "from sklearn.cluster import KMeans\n",
    "from sklearn import metrics\n",
    "from sklearn.mixture import GaussianMixture\n",
    "\n",
    "import plotly.graph_objects as go"
   ]
  },
  {
   "cell_type": "code",
   "execution_count": 2,
   "id": "81f8bcf1",
   "metadata": {},
   "outputs": [
    {
     "data": {
      "text/html": [
       "<div>\n",
       "<style scoped>\n",
       "    .dataframe tbody tr th:only-of-type {\n",
       "        vertical-align: middle;\n",
       "    }\n",
       "\n",
       "    .dataframe tbody tr th {\n",
       "        vertical-align: top;\n",
       "    }\n",
       "\n",
       "    .dataframe thead th {\n",
       "        text-align: right;\n",
       "    }\n",
       "</style>\n",
       "<table border=\"1\" class=\"dataframe\">\n",
       "  <thead>\n",
       "    <tr style=\"text-align: right;\">\n",
       "      <th></th>\n",
       "      <th>client_id</th>\n",
       "      <th>nb_trades</th>\n",
       "      <th>nb_products</th>\n",
       "      <th>aum</th>\n",
       "      <th>age</th>\n",
       "    </tr>\n",
       "  </thead>\n",
       "  <tbody>\n",
       "    <tr>\n",
       "      <th>0</th>\n",
       "      <td>001</td>\n",
       "      <td>32</td>\n",
       "      <td>3</td>\n",
       "      <td>100000</td>\n",
       "      <td>75</td>\n",
       "    </tr>\n",
       "    <tr>\n",
       "      <th>1</th>\n",
       "      <td>002</td>\n",
       "      <td>1</td>\n",
       "      <td>2</td>\n",
       "      <td>3000000</td>\n",
       "      <td>33</td>\n",
       "    </tr>\n",
       "    <tr>\n",
       "      <th>2</th>\n",
       "      <td>003</td>\n",
       "      <td>2</td>\n",
       "      <td>2</td>\n",
       "      <td>3500000</td>\n",
       "      <td>45</td>\n",
       "    </tr>\n",
       "    <tr>\n",
       "      <th>3</th>\n",
       "      <td>004</td>\n",
       "      <td>36</td>\n",
       "      <td>4</td>\n",
       "      <td>200000</td>\n",
       "      <td>73</td>\n",
       "    </tr>\n",
       "    <tr>\n",
       "      <th>4</th>\n",
       "      <td>005</td>\n",
       "      <td>4</td>\n",
       "      <td>9</td>\n",
       "      <td>150000</td>\n",
       "      <td>24</td>\n",
       "    </tr>\n",
       "    <tr>\n",
       "      <th>5</th>\n",
       "      <td>006</td>\n",
       "      <td>41</td>\n",
       "      <td>2</td>\n",
       "      <td>220000</td>\n",
       "      <td>80</td>\n",
       "    </tr>\n",
       "    <tr>\n",
       "      <th>6</th>\n",
       "      <td>007</td>\n",
       "      <td>29</td>\n",
       "      <td>1</td>\n",
       "      <td>100000</td>\n",
       "      <td>79</td>\n",
       "    </tr>\n",
       "    <tr>\n",
       "      <th>7</th>\n",
       "      <td>008</td>\n",
       "      <td>3</td>\n",
       "      <td>10</td>\n",
       "      <td>90000</td>\n",
       "      <td>25</td>\n",
       "    </tr>\n",
       "    <tr>\n",
       "      <th>8</th>\n",
       "      <td>009</td>\n",
       "      <td>2</td>\n",
       "      <td>13</td>\n",
       "      <td>210000</td>\n",
       "      <td>21</td>\n",
       "    </tr>\n",
       "    <tr>\n",
       "      <th>9</th>\n",
       "      <td>010</td>\n",
       "      <td>3</td>\n",
       "      <td>2</td>\n",
       "      <td>4000000</td>\n",
       "      <td>46</td>\n",
       "    </tr>\n",
       "    <tr>\n",
       "      <th>10</th>\n",
       "      <td>011</td>\n",
       "      <td>15</td>\n",
       "      <td>6</td>\n",
       "      <td>4000000</td>\n",
       "      <td>43</td>\n",
       "    </tr>\n",
       "  </tbody>\n",
       "</table>\n",
       "</div>"
      ],
      "text/plain": [
       "   client_id  nb_trades  nb_products      aum  age\n",
       "0        001         32            3   100000   75\n",
       "1        002          1            2  3000000   33\n",
       "2        003          2            2  3500000   45\n",
       "3        004         36            4   200000   73\n",
       "4        005          4            9   150000   24\n",
       "5        006         41            2   220000   80\n",
       "6        007         29            1   100000   79\n",
       "7        008          3           10    90000   25\n",
       "8        009          2           13   210000   21\n",
       "9        010          3            2  4000000   46\n",
       "10       011         15            6  4000000   43"
      ]
     },
     "execution_count": 2,
     "metadata": {},
     "output_type": "execute_result"
    }
   ],
   "source": [
    "# Dataset (example)\n",
    "data = {\n",
    "    'client_id':['001','002','003','004','005','006','007','008','009','010','011'],\n",
    "    'nb_trades':[32,1,2,36,4,41,29,3,2,3,15],\n",
    "    'nb_products':[3,2,2,4,9,2,1,10,13,2,6],\n",
    "    'aum':[100000,3000000,3500000,200000,150000,220000,100000,90000,210000,4000000,4000000],\n",
    "    'age':[75,33,45,73,24,80,79,25,21,46,43]\n",
    "}\n",
    "\n",
    "df = pd.DataFrame(data)\n",
    "df"
   ]
  },
  {
   "cell_type": "code",
   "execution_count": 3,
   "id": "7ee5615c",
   "metadata": {},
   "outputs": [],
   "source": [
    "scaler = StandardScaler()\n",
    "\n",
    "df_pre = scaler.fit_transform(df[['nb_trades','nb_products','aum','age']])"
   ]
  },
  {
   "cell_type": "markdown",
   "id": "37906979",
   "metadata": {},
   "source": [
    "# K-means"
   ]
  },
  {
   "cell_type": "code",
   "execution_count": null,
   "id": "acd74788",
   "metadata": {},
   "outputs": [],
   "source": [
    "df_kmeans = df.copy()\n",
    "df_kmeans_pre = df_pre.copy()"
   ]
  },
  {
   "cell_type": "markdown",
   "id": "84303d9c",
   "metadata": {},
   "source": [
    "#### Clustering"
   ]
  },
  {
   "cell_type": "code",
   "execution_count": null,
   "id": "f59b1522",
   "metadata": {},
   "outputs": [],
   "source": [
    "kmeans = KMeans(n_clusters=3, random_state=0).fit(df_kmeans_pre)"
   ]
  },
  {
   "cell_type": "code",
   "execution_count": null,
   "id": "237b7085",
   "metadata": {},
   "outputs": [],
   "source": [
    "df_kmeans['label'] = kmeans.labels_"
   ]
  },
  {
   "cell_type": "code",
   "execution_count": null,
   "id": "9cef7c0a",
   "metadata": {},
   "outputs": [],
   "source": [
    "df_kmeans"
   ]
  },
  {
   "cell_type": "code",
   "execution_count": null,
   "id": "4806c9f0",
   "metadata": {},
   "outputs": [],
   "source": [
    "dict_label = {\n",
    "    0:'active & old',\n",
    "    1:'passive & wealthy',\n",
    "    2:'diversified & young'\n",
    "}"
   ]
  },
  {
   "cell_type": "markdown",
   "id": "5149ce81",
   "metadata": {},
   "source": [
    "#### Cluster quality"
   ]
  },
  {
   "cell_type": "markdown",
   "id": "ae347a0c",
   "metadata": {},
   "source": [
    "$$s(i) = \\frac{b(i)-a(i)}{max(a(i),b(i))}$$"
   ]
  },
  {
   "cell_type": "code",
   "execution_count": null,
   "id": "0cb1c906",
   "metadata": {},
   "outputs": [],
   "source": [
    "df_kmeans['silhouette'] = metrics.silhouette_samples(df_kmeans_pre, kmeans.labels_)"
   ]
  },
  {
   "cell_type": "code",
   "execution_count": null,
   "id": "c354c004",
   "metadata": {},
   "outputs": [],
   "source": [
    "dict_silhouette_clusters = {\n",
    "    0:np.mean(df_kmeans[df_kmeans['label']==0]['silhouette']),\n",
    "    1:np.mean(df_kmeans[df_kmeans['label']==1]['silhouette']),\n",
    "    2:np.mean(df_kmeans[df_kmeans['label']==2]['silhouette'])\n",
    "}"
   ]
  },
  {
   "cell_type": "markdown",
   "id": "41c64e67",
   "metadata": {},
   "source": [
    "High silhouette => good quality => low variance"
   ]
  },
  {
   "cell_type": "markdown",
   "id": "07ec3d5d",
   "metadata": {},
   "source": [
    "#### Visualization"
   ]
  },
  {
   "cell_type": "code",
   "execution_count": 85,
   "id": "244ef8d8",
   "metadata": {},
   "outputs": [],
   "source": [
    "# mu_list_2 = get_all_circle_coords(x_center=0, y_center=0, radius=1, n_points=10)\n",
    "# fig = go.Figure()\n",
    "# for coord in mu_list_2:\n",
    "#     fig.add_trace(go.Scatter(x=[coord[0]], \n",
    "#                              y=[coord[1]],\n",
    "#                              marker=dict(size=30)))\n",
    "# fig.update_layout({'showlegend':False})\n",
    "# fig.update_xaxes(visible=False, scaleanchor='y', scaleratio=1)\n",
    "# fig.update_yaxes(visible=False, scaleanchor='x', scaleratio=1)"
   ]
  },
  {
   "cell_type": "code",
   "execution_count": 12,
   "id": "9be37a84",
   "metadata": {},
   "outputs": [],
   "source": [
    "# https://gis.stackexchange.com/questions/394955/generating-approximate-polygon-for-circle-with-given-radius-and-centre-without\n",
    "\n",
    "def get_circle_coord(theta, x_center, y_center, radius):\n",
    "    x = radius*math.cos(theta)+x_center\n",
    "    y = radius*math.sin(theta)+y_center\n",
    "    return x,y\n",
    "\n",
    "def get_all_circle_coords(x_center, y_center, radius, n_points):\n",
    "    # equidistant points on perimeter (2*pi*r) = distance in radians = angles in radians\n",
    "    thetas = [i/n_points * 2 * math.pi for i in range(n_points)]\n",
    "    # we use cos/sin formulas to find coordinates\n",
    "    circle_coords = [get_circle_coord(theta, x_center, y_center, radius) for theta in thetas]\n",
    "    return circle_coords\n",
    "\n",
    "mu_list = get_all_circle_coords(x_center=0, y_center=0, radius=1, n_points=3)"
   ]
  },
  {
   "cell_type": "code",
   "execution_count": 13,
   "id": "b6c1b257",
   "metadata": {},
   "outputs": [],
   "source": [
    "def distance_to_center(row, center):\n",
    "    point = np.array(row[['x','y']])\n",
    "    center = np.asarray(center)\n",
    "    return np.linalg.norm(point-center)"
   ]
  },
  {
   "cell_type": "code",
   "execution_count": null,
   "id": "f03c5869",
   "metadata": {},
   "outputs": [],
   "source": [
    "np.random.seed(0)\n",
    "\n",
    "fig = go.Figure()\n",
    "\n",
    "cluster_labels = df_kmeans['label'].unique()\n",
    "\n",
    "for idx, cluster_number in enumerate(cluster_labels):\n",
    "    \n",
    "    df_cluster = df_kmeans[df_kmeans['label']==cluster_number].copy()\n",
    "    n_count = df_cluster.shape[0]\n",
    "    center = mu_list[idx]\n",
    "    \n",
    "    # Generate coordinates\n",
    "    df_simul_cluster = pd.DataFrame()\n",
    "    df_simul_cluster['x'] = np.random.normal(center[0],1-dict_silhouette_clusters[cluster_number],n_count)\n",
    "    df_simul_cluster['y'] = np.random.normal(center[1],1-dict_silhouette_clusters[cluster_number],n_count)\n",
    "    \n",
    "    # Associate coordinates to points w.r.t their distance to the center\n",
    "    df_simul_cluster['distance_to_center'] = df_simul_cluster.apply(lambda x: distance_to_center(x, center), axis=1)\n",
    "    df_simul_cluster = df_simul_cluster.sort_values(by='distance_to_center')\n",
    "    df_cluster = df_cluster.sort_values(by='silhouette', ascending=False)\n",
    "    df_cluster['x'] = df_simul_cluster['x'].values\n",
    "    df_cluster['y'] = df_simul_cluster['y'].values\n",
    "    \n",
    "    d = df_cluster.drop(columns=['x','y','label']).to_dict('index')\n",
    "    info = [d[x] for x in d.keys()]\n",
    "    info_str = [str(x).replace(',','<br>').replace('{','').replace('}','') for x in info]\n",
    "#     df_cluster['info'] = info_str\n",
    "    \n",
    "    # Graph\n",
    "    fig.add_trace(go.Scatter(\n",
    "                             x=df_cluster['x'], \n",
    "                             y=df_cluster['y'], \n",
    "                             text=['client ' + val for val in df_cluster['client_id'].values],\n",
    "                             name=dict_label[cluster_number],\n",
    "                             mode='markers',\n",
    "                             marker=dict(size=20),\n",
    "                             marker_line=dict(width=2),\n",
    "                             hovertemplate=info_str\n",
    "                            )\n",
    "                 )\n",
    "\n",
    "fig.update_layout(yaxis_range=[-2,2])\n",
    "fig.update_layout(xaxis_range=[-1,2])\n",
    "fig.show()"
   ]
  },
  {
   "cell_type": "code",
   "execution_count": null,
   "id": "05e86d1a",
   "metadata": {},
   "outputs": [],
   "source": [
    "df_kmeans[df_kmeans['label']==1]"
   ]
  },
  {
   "cell_type": "markdown",
   "id": "ab4d6045",
   "metadata": {},
   "source": [
    "# GMM"
   ]
  },
  {
   "cell_type": "code",
   "execution_count": 4,
   "id": "99e62a2d",
   "metadata": {},
   "outputs": [],
   "source": [
    "df_gmm = df.copy()\n",
    "df_gmm_pre = df_pre.copy()"
   ]
  },
  {
   "cell_type": "markdown",
   "id": "7f869bfa",
   "metadata": {},
   "source": [
    "#### Clustering"
   ]
  },
  {
   "cell_type": "code",
   "execution_count": 5,
   "id": "da5b2d08",
   "metadata": {},
   "outputs": [],
   "source": [
    "gm = GaussianMixture(n_components=3, random_state=0).fit(df_gmm_pre)"
   ]
  },
  {
   "cell_type": "code",
   "execution_count": 6,
   "id": "146fdb96",
   "metadata": {},
   "outputs": [],
   "source": [
    "df_gmm['label'] = gm.predict(df_gmm_pre)"
   ]
  },
  {
   "cell_type": "code",
   "execution_count": 7,
   "id": "69832676",
   "metadata": {},
   "outputs": [],
   "source": [
    "dict_label = {\n",
    "    0:'active & old',\n",
    "    1:'passive & wealthy',\n",
    "    2:'diversified & young'\n",
    "}"
   ]
  },
  {
   "cell_type": "markdown",
   "id": "565ed608",
   "metadata": {},
   "source": [
    "#### Cluster quality"
   ]
  },
  {
   "cell_type": "code",
   "execution_count": 8,
   "id": "915ebe53",
   "metadata": {},
   "outputs": [],
   "source": [
    "df_gmm['silhouette'] = metrics.silhouette_samples(df_gmm_pre, df_gmm['label'])"
   ]
  },
  {
   "cell_type": "code",
   "execution_count": 10,
   "id": "9fbee52c",
   "metadata": {},
   "outputs": [],
   "source": [
    "dict_silhouette_clusters = {\n",
    "    0:np.mean(df_gmm[df_gmm['label']==0]['silhouette']),\n",
    "    1:np.mean(df_gmm[df_gmm['label']==1]['silhouette']),\n",
    "    2:np.mean(df_gmm[df_gmm['label']==2]['silhouette'])\n",
    "}"
   ]
  },
  {
   "cell_type": "code",
   "execution_count": 86,
   "id": "21f36a34",
   "metadata": {},
   "outputs": [
    {
     "data": {
      "application/vnd.plotly.v1+json": {
       "config": {
        "plotlyServerURL": "https://plot.ly"
       },
       "data": [
        {
         "hovertemplate": [
          "'client_id': '001'<br> 'nb_trades': 32<br> 'nb_products': 3<br> 'aum': 100000<br> 'age': 75<br> 'silhouette': 0.8264772812357588",
          "'client_id': '006'<br> 'nb_trades': 41<br> 'nb_products': 2<br> 'aum': 220000<br> 'age': 80<br> 'silhouette': 0.7958245735413468",
          "'client_id': '004'<br> 'nb_trades': 36<br> 'nb_products': 4<br> 'aum': 200000<br> 'age': 73<br> 'silhouette': 0.7936615144743847",
          "'client_id': '007'<br> 'nb_trades': 29<br> 'nb_products': 1<br> 'aum': 100000<br> 'age': 79<br> 'silhouette': 0.7546604663061691"
         ],
         "marker": {
          "line": {
           "width": 2
          },
          "size": 20
         },
         "mode": "markers",
         "name": "active & old",
         "text": [
          "client 001",
          "client 006",
          "client 004",
          "client 007"
         ],
         "type": "scatter",
         "x": [
          1.0829702126623906,
          1.2029354888129116,
          1.4646358516196578,
          1.3657657421435434
         ],
         "y": [
          -0.20263274490156005,
          0.19699517190211657,
          -0.03138301521966127,
          0.3872270206860566
         ]
        },
        {
         "hovertemplate": [
          "'client_id': '003'<br> 'nb_trades': 2<br> 'nb_products': 2<br> 'aum': 3500000<br> 'age': 45<br> 'silhouette': 0.7574836954398679",
          "'client_id': '010'<br> 'nb_trades': 3<br> 'nb_products': 2<br> 'aum': 4000000<br> 'age': 46<br> 'silhouette': 0.7571594994666454",
          "'client_id': '002'<br> 'nb_trades': 1<br> 'nb_products': 2<br> 'aum': 3000000<br> 'age': 33<br> 'silhouette': 0.6464306926156685",
          "'client_id': '011'<br> 'nb_trades': 15<br> 'nb_products': 6<br> 'aum': 4000000<br> 'age': 43<br> 'silhouette': 0.5040548691290674"
         ],
         "marker": {
          "line": {
           "width": 2
          },
          "size": 20
         },
         "mode": "markers",
         "name": "passive & wealthy",
         "text": [
          "client 003",
          "client 010",
          "client 002",
          "client 011"
         ],
         "type": "scatter",
         "x": [
          -0.3629759668000974,
          -0.4519300947670209,
          -0.5344459692576741,
          -0.014683028897796158
         ],
         "y": [
          0.9066305239220043,
          1.0141504701273594,
          1.1199972473850068,
          0.9773784698483502
         ]
        },
        {
         "hovertemplate": [
          "'client_id': '008'<br> 'nb_trades': 3<br> 'nb_products': 10<br> 'aum': 90000<br> 'age': 25<br> 'silhouette': 0.8168121758285367",
          "'client_id': '005'<br> 'nb_trades': 4<br> 'nb_products': 9<br> 'aum': 150000<br> 'age': 24<br> 'silhouette': 0.7604732816103966",
          "'client_id': '009'<br> 'nb_trades': 2<br> 'nb_products': 13<br> 'aum': 210000<br> 'age': 21<br> 'silhouette': 0.7328312542507603"
         ],
         "marker": {
          "line": {
           "width": 2
          },
          "size": 20
         },
         "mode": "markers",
         "name": "diversified & young",
         "text": [
          "client 008",
          "client 005",
          "client 009"
         ],
         "type": "scatter",
         "x": [
          -0.4280066081737759,
          -0.15641993867147247,
          -0.5471784192102618
         ],
         "y": [
          -0.7157185551433851,
          -1.062434196171537,
          -1.4531137401745506
         ]
        }
       ],
       "layout": {
        "showlegend": false,
        "template": {
         "data": {
          "bar": [
           {
            "error_x": {
             "color": "#2a3f5f"
            },
            "error_y": {
             "color": "#2a3f5f"
            },
            "marker": {
             "line": {
              "color": "#E5ECF6",
              "width": 0.5
             },
             "pattern": {
              "fillmode": "overlay",
              "size": 10,
              "solidity": 0.2
             }
            },
            "type": "bar"
           }
          ],
          "barpolar": [
           {
            "marker": {
             "line": {
              "color": "#E5ECF6",
              "width": 0.5
             },
             "pattern": {
              "fillmode": "overlay",
              "size": 10,
              "solidity": 0.2
             }
            },
            "type": "barpolar"
           }
          ],
          "carpet": [
           {
            "aaxis": {
             "endlinecolor": "#2a3f5f",
             "gridcolor": "white",
             "linecolor": "white",
             "minorgridcolor": "white",
             "startlinecolor": "#2a3f5f"
            },
            "baxis": {
             "endlinecolor": "#2a3f5f",
             "gridcolor": "white",
             "linecolor": "white",
             "minorgridcolor": "white",
             "startlinecolor": "#2a3f5f"
            },
            "type": "carpet"
           }
          ],
          "choropleth": [
           {
            "colorbar": {
             "outlinewidth": 0,
             "ticks": ""
            },
            "type": "choropleth"
           }
          ],
          "contour": [
           {
            "colorbar": {
             "outlinewidth": 0,
             "ticks": ""
            },
            "colorscale": [
             [
              0,
              "#0d0887"
             ],
             [
              0.1111111111111111,
              "#46039f"
             ],
             [
              0.2222222222222222,
              "#7201a8"
             ],
             [
              0.3333333333333333,
              "#9c179e"
             ],
             [
              0.4444444444444444,
              "#bd3786"
             ],
             [
              0.5555555555555556,
              "#d8576b"
             ],
             [
              0.6666666666666666,
              "#ed7953"
             ],
             [
              0.7777777777777778,
              "#fb9f3a"
             ],
             [
              0.8888888888888888,
              "#fdca26"
             ],
             [
              1,
              "#f0f921"
             ]
            ],
            "type": "contour"
           }
          ],
          "contourcarpet": [
           {
            "colorbar": {
             "outlinewidth": 0,
             "ticks": ""
            },
            "type": "contourcarpet"
           }
          ],
          "heatmap": [
           {
            "colorbar": {
             "outlinewidth": 0,
             "ticks": ""
            },
            "colorscale": [
             [
              0,
              "#0d0887"
             ],
             [
              0.1111111111111111,
              "#46039f"
             ],
             [
              0.2222222222222222,
              "#7201a8"
             ],
             [
              0.3333333333333333,
              "#9c179e"
             ],
             [
              0.4444444444444444,
              "#bd3786"
             ],
             [
              0.5555555555555556,
              "#d8576b"
             ],
             [
              0.6666666666666666,
              "#ed7953"
             ],
             [
              0.7777777777777778,
              "#fb9f3a"
             ],
             [
              0.8888888888888888,
              "#fdca26"
             ],
             [
              1,
              "#f0f921"
             ]
            ],
            "type": "heatmap"
           }
          ],
          "heatmapgl": [
           {
            "colorbar": {
             "outlinewidth": 0,
             "ticks": ""
            },
            "colorscale": [
             [
              0,
              "#0d0887"
             ],
             [
              0.1111111111111111,
              "#46039f"
             ],
             [
              0.2222222222222222,
              "#7201a8"
             ],
             [
              0.3333333333333333,
              "#9c179e"
             ],
             [
              0.4444444444444444,
              "#bd3786"
             ],
             [
              0.5555555555555556,
              "#d8576b"
             ],
             [
              0.6666666666666666,
              "#ed7953"
             ],
             [
              0.7777777777777778,
              "#fb9f3a"
             ],
             [
              0.8888888888888888,
              "#fdca26"
             ],
             [
              1,
              "#f0f921"
             ]
            ],
            "type": "heatmapgl"
           }
          ],
          "histogram": [
           {
            "marker": {
             "pattern": {
              "fillmode": "overlay",
              "size": 10,
              "solidity": 0.2
             }
            },
            "type": "histogram"
           }
          ],
          "histogram2d": [
           {
            "colorbar": {
             "outlinewidth": 0,
             "ticks": ""
            },
            "colorscale": [
             [
              0,
              "#0d0887"
             ],
             [
              0.1111111111111111,
              "#46039f"
             ],
             [
              0.2222222222222222,
              "#7201a8"
             ],
             [
              0.3333333333333333,
              "#9c179e"
             ],
             [
              0.4444444444444444,
              "#bd3786"
             ],
             [
              0.5555555555555556,
              "#d8576b"
             ],
             [
              0.6666666666666666,
              "#ed7953"
             ],
             [
              0.7777777777777778,
              "#fb9f3a"
             ],
             [
              0.8888888888888888,
              "#fdca26"
             ],
             [
              1,
              "#f0f921"
             ]
            ],
            "type": "histogram2d"
           }
          ],
          "histogram2dcontour": [
           {
            "colorbar": {
             "outlinewidth": 0,
             "ticks": ""
            },
            "colorscale": [
             [
              0,
              "#0d0887"
             ],
             [
              0.1111111111111111,
              "#46039f"
             ],
             [
              0.2222222222222222,
              "#7201a8"
             ],
             [
              0.3333333333333333,
              "#9c179e"
             ],
             [
              0.4444444444444444,
              "#bd3786"
             ],
             [
              0.5555555555555556,
              "#d8576b"
             ],
             [
              0.6666666666666666,
              "#ed7953"
             ],
             [
              0.7777777777777778,
              "#fb9f3a"
             ],
             [
              0.8888888888888888,
              "#fdca26"
             ],
             [
              1,
              "#f0f921"
             ]
            ],
            "type": "histogram2dcontour"
           }
          ],
          "mesh3d": [
           {
            "colorbar": {
             "outlinewidth": 0,
             "ticks": ""
            },
            "type": "mesh3d"
           }
          ],
          "parcoords": [
           {
            "line": {
             "colorbar": {
              "outlinewidth": 0,
              "ticks": ""
             }
            },
            "type": "parcoords"
           }
          ],
          "pie": [
           {
            "automargin": true,
            "type": "pie"
           }
          ],
          "scatter": [
           {
            "marker": {
             "colorbar": {
              "outlinewidth": 0,
              "ticks": ""
             }
            },
            "type": "scatter"
           }
          ],
          "scatter3d": [
           {
            "line": {
             "colorbar": {
              "outlinewidth": 0,
              "ticks": ""
             }
            },
            "marker": {
             "colorbar": {
              "outlinewidth": 0,
              "ticks": ""
             }
            },
            "type": "scatter3d"
           }
          ],
          "scattercarpet": [
           {
            "marker": {
             "colorbar": {
              "outlinewidth": 0,
              "ticks": ""
             }
            },
            "type": "scattercarpet"
           }
          ],
          "scattergeo": [
           {
            "marker": {
             "colorbar": {
              "outlinewidth": 0,
              "ticks": ""
             }
            },
            "type": "scattergeo"
           }
          ],
          "scattergl": [
           {
            "marker": {
             "colorbar": {
              "outlinewidth": 0,
              "ticks": ""
             }
            },
            "type": "scattergl"
           }
          ],
          "scattermapbox": [
           {
            "marker": {
             "colorbar": {
              "outlinewidth": 0,
              "ticks": ""
             }
            },
            "type": "scattermapbox"
           }
          ],
          "scatterpolar": [
           {
            "marker": {
             "colorbar": {
              "outlinewidth": 0,
              "ticks": ""
             }
            },
            "type": "scatterpolar"
           }
          ],
          "scatterpolargl": [
           {
            "marker": {
             "colorbar": {
              "outlinewidth": 0,
              "ticks": ""
             }
            },
            "type": "scatterpolargl"
           }
          ],
          "scatterternary": [
           {
            "marker": {
             "colorbar": {
              "outlinewidth": 0,
              "ticks": ""
             }
            },
            "type": "scatterternary"
           }
          ],
          "surface": [
           {
            "colorbar": {
             "outlinewidth": 0,
             "ticks": ""
            },
            "colorscale": [
             [
              0,
              "#0d0887"
             ],
             [
              0.1111111111111111,
              "#46039f"
             ],
             [
              0.2222222222222222,
              "#7201a8"
             ],
             [
              0.3333333333333333,
              "#9c179e"
             ],
             [
              0.4444444444444444,
              "#bd3786"
             ],
             [
              0.5555555555555556,
              "#d8576b"
             ],
             [
              0.6666666666666666,
              "#ed7953"
             ],
             [
              0.7777777777777778,
              "#fb9f3a"
             ],
             [
              0.8888888888888888,
              "#fdca26"
             ],
             [
              1,
              "#f0f921"
             ]
            ],
            "type": "surface"
           }
          ],
          "table": [
           {
            "cells": {
             "fill": {
              "color": "#EBF0F8"
             },
             "line": {
              "color": "white"
             }
            },
            "header": {
             "fill": {
              "color": "#C8D4E3"
             },
             "line": {
              "color": "white"
             }
            },
            "type": "table"
           }
          ]
         },
         "layout": {
          "annotationdefaults": {
           "arrowcolor": "#2a3f5f",
           "arrowhead": 0,
           "arrowwidth": 1
          },
          "autotypenumbers": "strict",
          "coloraxis": {
           "colorbar": {
            "outlinewidth": 0,
            "ticks": ""
           }
          },
          "colorscale": {
           "diverging": [
            [
             0,
             "#8e0152"
            ],
            [
             0.1,
             "#c51b7d"
            ],
            [
             0.2,
             "#de77ae"
            ],
            [
             0.3,
             "#f1b6da"
            ],
            [
             0.4,
             "#fde0ef"
            ],
            [
             0.5,
             "#f7f7f7"
            ],
            [
             0.6,
             "#e6f5d0"
            ],
            [
             0.7,
             "#b8e186"
            ],
            [
             0.8,
             "#7fbc41"
            ],
            [
             0.9,
             "#4d9221"
            ],
            [
             1,
             "#276419"
            ]
           ],
           "sequential": [
            [
             0,
             "#0d0887"
            ],
            [
             0.1111111111111111,
             "#46039f"
            ],
            [
             0.2222222222222222,
             "#7201a8"
            ],
            [
             0.3333333333333333,
             "#9c179e"
            ],
            [
             0.4444444444444444,
             "#bd3786"
            ],
            [
             0.5555555555555556,
             "#d8576b"
            ],
            [
             0.6666666666666666,
             "#ed7953"
            ],
            [
             0.7777777777777778,
             "#fb9f3a"
            ],
            [
             0.8888888888888888,
             "#fdca26"
            ],
            [
             1,
             "#f0f921"
            ]
           ],
           "sequentialminus": [
            [
             0,
             "#0d0887"
            ],
            [
             0.1111111111111111,
             "#46039f"
            ],
            [
             0.2222222222222222,
             "#7201a8"
            ],
            [
             0.3333333333333333,
             "#9c179e"
            ],
            [
             0.4444444444444444,
             "#bd3786"
            ],
            [
             0.5555555555555556,
             "#d8576b"
            ],
            [
             0.6666666666666666,
             "#ed7953"
            ],
            [
             0.7777777777777778,
             "#fb9f3a"
            ],
            [
             0.8888888888888888,
             "#fdca26"
            ],
            [
             1,
             "#f0f921"
            ]
           ]
          },
          "colorway": [
           "#636efa",
           "#EF553B",
           "#00cc96",
           "#ab63fa",
           "#FFA15A",
           "#19d3f3",
           "#FF6692",
           "#B6E880",
           "#FF97FF",
           "#FECB52"
          ],
          "font": {
           "color": "#2a3f5f"
          },
          "geo": {
           "bgcolor": "white",
           "lakecolor": "white",
           "landcolor": "#E5ECF6",
           "showlakes": true,
           "showland": true,
           "subunitcolor": "white"
          },
          "hoverlabel": {
           "align": "left"
          },
          "hovermode": "closest",
          "mapbox": {
           "style": "light"
          },
          "paper_bgcolor": "white",
          "plot_bgcolor": "#E5ECF6",
          "polar": {
           "angularaxis": {
            "gridcolor": "white",
            "linecolor": "white",
            "ticks": ""
           },
           "bgcolor": "#E5ECF6",
           "radialaxis": {
            "gridcolor": "white",
            "linecolor": "white",
            "ticks": ""
           }
          },
          "scene": {
           "xaxis": {
            "backgroundcolor": "#E5ECF6",
            "gridcolor": "white",
            "gridwidth": 2,
            "linecolor": "white",
            "showbackground": true,
            "ticks": "",
            "zerolinecolor": "white"
           },
           "yaxis": {
            "backgroundcolor": "#E5ECF6",
            "gridcolor": "white",
            "gridwidth": 2,
            "linecolor": "white",
            "showbackground": true,
            "ticks": "",
            "zerolinecolor": "white"
           },
           "zaxis": {
            "backgroundcolor": "#E5ECF6",
            "gridcolor": "white",
            "gridwidth": 2,
            "linecolor": "white",
            "showbackground": true,
            "ticks": "",
            "zerolinecolor": "white"
           }
          },
          "shapedefaults": {
           "line": {
            "color": "#2a3f5f"
           }
          },
          "ternary": {
           "aaxis": {
            "gridcolor": "white",
            "linecolor": "white",
            "ticks": ""
           },
           "baxis": {
            "gridcolor": "white",
            "linecolor": "white",
            "ticks": ""
           },
           "bgcolor": "#E5ECF6",
           "caxis": {
            "gridcolor": "white",
            "linecolor": "white",
            "ticks": ""
           }
          },
          "title": {
           "x": 0.05
          },
          "xaxis": {
           "automargin": true,
           "gridcolor": "white",
           "linecolor": "white",
           "ticks": "",
           "title": {
            "standoff": 15
           },
           "zerolinecolor": "white",
           "zerolinewidth": 2
          },
          "yaxis": {
           "automargin": true,
           "gridcolor": "white",
           "linecolor": "white",
           "ticks": "",
           "title": {
            "standoff": 15
           },
           "zerolinecolor": "white",
           "zerolinewidth": 2
          }
         }
        },
        "xaxis": {
         "range": [
          -1,
          2
         ],
         "scaleanchor": "y",
         "scaleratio": 1,
         "visible": false
        },
        "yaxis": {
         "range": [
          -2,
          2
         ],
         "scaleanchor": "x",
         "scaleratio": 1,
         "visible": false
        }
       }
      },
      "text/html": [
       "<div>                            <div id=\"0ebd0d43-e1f8-40ee-bcce-5bd02d22ff8c\" class=\"plotly-graph-div\" style=\"height:525px; width:100%;\"></div>            <script type=\"text/javascript\">                require([\"plotly\"], function(Plotly) {                    window.PLOTLYENV=window.PLOTLYENV || {};                                    if (document.getElementById(\"0ebd0d43-e1f8-40ee-bcce-5bd02d22ff8c\")) {                    Plotly.newPlot(                        \"0ebd0d43-e1f8-40ee-bcce-5bd02d22ff8c\",                        [{\"hovertemplate\":[\"'client_id': '001'<br> 'nb_trades': 32<br> 'nb_products': 3<br> 'aum': 100000<br> 'age': 75<br> 'silhouette': 0.8264772812357588\",\"'client_id': '006'<br> 'nb_trades': 41<br> 'nb_products': 2<br> 'aum': 220000<br> 'age': 80<br> 'silhouette': 0.7958245735413468\",\"'client_id': '004'<br> 'nb_trades': 36<br> 'nb_products': 4<br> 'aum': 200000<br> 'age': 73<br> 'silhouette': 0.7936615144743847\",\"'client_id': '007'<br> 'nb_trades': 29<br> 'nb_products': 1<br> 'aum': 100000<br> 'age': 79<br> 'silhouette': 0.7546604663061691\"],\"marker\":{\"line\":{\"width\":2},\"size\":20},\"mode\":\"markers\",\"name\":\"active & old\",\"text\":[\"client 001\",\"client 006\",\"client 004\",\"client 007\"],\"type\":\"scatter\",\"x\":[1.0829702126623906,1.2029354888129116,1.4646358516196578,1.3657657421435434],\"y\":[-0.20263274490156005,0.19699517190211657,-0.03138301521966127,0.3872270206860566]},{\"hovertemplate\":[\"'client_id': '003'<br> 'nb_trades': 2<br> 'nb_products': 2<br> 'aum': 3500000<br> 'age': 45<br> 'silhouette': 0.7574836954398679\",\"'client_id': '010'<br> 'nb_trades': 3<br> 'nb_products': 2<br> 'aum': 4000000<br> 'age': 46<br> 'silhouette': 0.7571594994666454\",\"'client_id': '002'<br> 'nb_trades': 1<br> 'nb_products': 2<br> 'aum': 3000000<br> 'age': 33<br> 'silhouette': 0.6464306926156685\",\"'client_id': '011'<br> 'nb_trades': 15<br> 'nb_products': 6<br> 'aum': 4000000<br> 'age': 43<br> 'silhouette': 0.5040548691290674\"],\"marker\":{\"line\":{\"width\":2},\"size\":20},\"mode\":\"markers\",\"name\":\"passive & wealthy\",\"text\":[\"client 003\",\"client 010\",\"client 002\",\"client 011\"],\"type\":\"scatter\",\"x\":[-0.3629759668000974,-0.4519300947670209,-0.5344459692576741,-0.014683028897796158],\"y\":[0.9066305239220043,1.0141504701273594,1.1199972473850068,0.9773784698483502]},{\"hovertemplate\":[\"'client_id': '008'<br> 'nb_trades': 3<br> 'nb_products': 10<br> 'aum': 90000<br> 'age': 25<br> 'silhouette': 0.8168121758285367\",\"'client_id': '005'<br> 'nb_trades': 4<br> 'nb_products': 9<br> 'aum': 150000<br> 'age': 24<br> 'silhouette': 0.7604732816103966\",\"'client_id': '009'<br> 'nb_trades': 2<br> 'nb_products': 13<br> 'aum': 210000<br> 'age': 21<br> 'silhouette': 0.7328312542507603\"],\"marker\":{\"line\":{\"width\":2},\"size\":20},\"mode\":\"markers\",\"name\":\"diversified & young\",\"text\":[\"client 008\",\"client 005\",\"client 009\"],\"type\":\"scatter\",\"x\":[-0.4280066081737759,-0.15641993867147247,-0.5471784192102618],\"y\":[-0.7157185551433851,-1.062434196171537,-1.4531137401745506]}],                        {\"showlegend\":false,\"template\":{\"data\":{\"bar\":[{\"error_x\":{\"color\":\"#2a3f5f\"},\"error_y\":{\"color\":\"#2a3f5f\"},\"marker\":{\"line\":{\"color\":\"#E5ECF6\",\"width\":0.5},\"pattern\":{\"fillmode\":\"overlay\",\"size\":10,\"solidity\":0.2}},\"type\":\"bar\"}],\"barpolar\":[{\"marker\":{\"line\":{\"color\":\"#E5ECF6\",\"width\":0.5},\"pattern\":{\"fillmode\":\"overlay\",\"size\":10,\"solidity\":0.2}},\"type\":\"barpolar\"}],\"carpet\":[{\"aaxis\":{\"endlinecolor\":\"#2a3f5f\",\"gridcolor\":\"white\",\"linecolor\":\"white\",\"minorgridcolor\":\"white\",\"startlinecolor\":\"#2a3f5f\"},\"baxis\":{\"endlinecolor\":\"#2a3f5f\",\"gridcolor\":\"white\",\"linecolor\":\"white\",\"minorgridcolor\":\"white\",\"startlinecolor\":\"#2a3f5f\"},\"type\":\"carpet\"}],\"choropleth\":[{\"colorbar\":{\"outlinewidth\":0,\"ticks\":\"\"},\"type\":\"choropleth\"}],\"contour\":[{\"colorbar\":{\"outlinewidth\":0,\"ticks\":\"\"},\"colorscale\":[[0.0,\"#0d0887\"],[0.1111111111111111,\"#46039f\"],[0.2222222222222222,\"#7201a8\"],[0.3333333333333333,\"#9c179e\"],[0.4444444444444444,\"#bd3786\"],[0.5555555555555556,\"#d8576b\"],[0.6666666666666666,\"#ed7953\"],[0.7777777777777778,\"#fb9f3a\"],[0.8888888888888888,\"#fdca26\"],[1.0,\"#f0f921\"]],\"type\":\"contour\"}],\"contourcarpet\":[{\"colorbar\":{\"outlinewidth\":0,\"ticks\":\"\"},\"type\":\"contourcarpet\"}],\"heatmap\":[{\"colorbar\":{\"outlinewidth\":0,\"ticks\":\"\"},\"colorscale\":[[0.0,\"#0d0887\"],[0.1111111111111111,\"#46039f\"],[0.2222222222222222,\"#7201a8\"],[0.3333333333333333,\"#9c179e\"],[0.4444444444444444,\"#bd3786\"],[0.5555555555555556,\"#d8576b\"],[0.6666666666666666,\"#ed7953\"],[0.7777777777777778,\"#fb9f3a\"],[0.8888888888888888,\"#fdca26\"],[1.0,\"#f0f921\"]],\"type\":\"heatmap\"}],\"heatmapgl\":[{\"colorbar\":{\"outlinewidth\":0,\"ticks\":\"\"},\"colorscale\":[[0.0,\"#0d0887\"],[0.1111111111111111,\"#46039f\"],[0.2222222222222222,\"#7201a8\"],[0.3333333333333333,\"#9c179e\"],[0.4444444444444444,\"#bd3786\"],[0.5555555555555556,\"#d8576b\"],[0.6666666666666666,\"#ed7953\"],[0.7777777777777778,\"#fb9f3a\"],[0.8888888888888888,\"#fdca26\"],[1.0,\"#f0f921\"]],\"type\":\"heatmapgl\"}],\"histogram\":[{\"marker\":{\"pattern\":{\"fillmode\":\"overlay\",\"size\":10,\"solidity\":0.2}},\"type\":\"histogram\"}],\"histogram2d\":[{\"colorbar\":{\"outlinewidth\":0,\"ticks\":\"\"},\"colorscale\":[[0.0,\"#0d0887\"],[0.1111111111111111,\"#46039f\"],[0.2222222222222222,\"#7201a8\"],[0.3333333333333333,\"#9c179e\"],[0.4444444444444444,\"#bd3786\"],[0.5555555555555556,\"#d8576b\"],[0.6666666666666666,\"#ed7953\"],[0.7777777777777778,\"#fb9f3a\"],[0.8888888888888888,\"#fdca26\"],[1.0,\"#f0f921\"]],\"type\":\"histogram2d\"}],\"histogram2dcontour\":[{\"colorbar\":{\"outlinewidth\":0,\"ticks\":\"\"},\"colorscale\":[[0.0,\"#0d0887\"],[0.1111111111111111,\"#46039f\"],[0.2222222222222222,\"#7201a8\"],[0.3333333333333333,\"#9c179e\"],[0.4444444444444444,\"#bd3786\"],[0.5555555555555556,\"#d8576b\"],[0.6666666666666666,\"#ed7953\"],[0.7777777777777778,\"#fb9f3a\"],[0.8888888888888888,\"#fdca26\"],[1.0,\"#f0f921\"]],\"type\":\"histogram2dcontour\"}],\"mesh3d\":[{\"colorbar\":{\"outlinewidth\":0,\"ticks\":\"\"},\"type\":\"mesh3d\"}],\"parcoords\":[{\"line\":{\"colorbar\":{\"outlinewidth\":0,\"ticks\":\"\"}},\"type\":\"parcoords\"}],\"pie\":[{\"automargin\":true,\"type\":\"pie\"}],\"scatter\":[{\"marker\":{\"colorbar\":{\"outlinewidth\":0,\"ticks\":\"\"}},\"type\":\"scatter\"}],\"scatter3d\":[{\"line\":{\"colorbar\":{\"outlinewidth\":0,\"ticks\":\"\"}},\"marker\":{\"colorbar\":{\"outlinewidth\":0,\"ticks\":\"\"}},\"type\":\"scatter3d\"}],\"scattercarpet\":[{\"marker\":{\"colorbar\":{\"outlinewidth\":0,\"ticks\":\"\"}},\"type\":\"scattercarpet\"}],\"scattergeo\":[{\"marker\":{\"colorbar\":{\"outlinewidth\":0,\"ticks\":\"\"}},\"type\":\"scattergeo\"}],\"scattergl\":[{\"marker\":{\"colorbar\":{\"outlinewidth\":0,\"ticks\":\"\"}},\"type\":\"scattergl\"}],\"scattermapbox\":[{\"marker\":{\"colorbar\":{\"outlinewidth\":0,\"ticks\":\"\"}},\"type\":\"scattermapbox\"}],\"scatterpolar\":[{\"marker\":{\"colorbar\":{\"outlinewidth\":0,\"ticks\":\"\"}},\"type\":\"scatterpolar\"}],\"scatterpolargl\":[{\"marker\":{\"colorbar\":{\"outlinewidth\":0,\"ticks\":\"\"}},\"type\":\"scatterpolargl\"}],\"scatterternary\":[{\"marker\":{\"colorbar\":{\"outlinewidth\":0,\"ticks\":\"\"}},\"type\":\"scatterternary\"}],\"surface\":[{\"colorbar\":{\"outlinewidth\":0,\"ticks\":\"\"},\"colorscale\":[[0.0,\"#0d0887\"],[0.1111111111111111,\"#46039f\"],[0.2222222222222222,\"#7201a8\"],[0.3333333333333333,\"#9c179e\"],[0.4444444444444444,\"#bd3786\"],[0.5555555555555556,\"#d8576b\"],[0.6666666666666666,\"#ed7953\"],[0.7777777777777778,\"#fb9f3a\"],[0.8888888888888888,\"#fdca26\"],[1.0,\"#f0f921\"]],\"type\":\"surface\"}],\"table\":[{\"cells\":{\"fill\":{\"color\":\"#EBF0F8\"},\"line\":{\"color\":\"white\"}},\"header\":{\"fill\":{\"color\":\"#C8D4E3\"},\"line\":{\"color\":\"white\"}},\"type\":\"table\"}]},\"layout\":{\"annotationdefaults\":{\"arrowcolor\":\"#2a3f5f\",\"arrowhead\":0,\"arrowwidth\":1},\"autotypenumbers\":\"strict\",\"coloraxis\":{\"colorbar\":{\"outlinewidth\":0,\"ticks\":\"\"}},\"colorscale\":{\"diverging\":[[0,\"#8e0152\"],[0.1,\"#c51b7d\"],[0.2,\"#de77ae\"],[0.3,\"#f1b6da\"],[0.4,\"#fde0ef\"],[0.5,\"#f7f7f7\"],[0.6,\"#e6f5d0\"],[0.7,\"#b8e186\"],[0.8,\"#7fbc41\"],[0.9,\"#4d9221\"],[1,\"#276419\"]],\"sequential\":[[0.0,\"#0d0887\"],[0.1111111111111111,\"#46039f\"],[0.2222222222222222,\"#7201a8\"],[0.3333333333333333,\"#9c179e\"],[0.4444444444444444,\"#bd3786\"],[0.5555555555555556,\"#d8576b\"],[0.6666666666666666,\"#ed7953\"],[0.7777777777777778,\"#fb9f3a\"],[0.8888888888888888,\"#fdca26\"],[1.0,\"#f0f921\"]],\"sequentialminus\":[[0.0,\"#0d0887\"],[0.1111111111111111,\"#46039f\"],[0.2222222222222222,\"#7201a8\"],[0.3333333333333333,\"#9c179e\"],[0.4444444444444444,\"#bd3786\"],[0.5555555555555556,\"#d8576b\"],[0.6666666666666666,\"#ed7953\"],[0.7777777777777778,\"#fb9f3a\"],[0.8888888888888888,\"#fdca26\"],[1.0,\"#f0f921\"]]},\"colorway\":[\"#636efa\",\"#EF553B\",\"#00cc96\",\"#ab63fa\",\"#FFA15A\",\"#19d3f3\",\"#FF6692\",\"#B6E880\",\"#FF97FF\",\"#FECB52\"],\"font\":{\"color\":\"#2a3f5f\"},\"geo\":{\"bgcolor\":\"white\",\"lakecolor\":\"white\",\"landcolor\":\"#E5ECF6\",\"showlakes\":true,\"showland\":true,\"subunitcolor\":\"white\"},\"hoverlabel\":{\"align\":\"left\"},\"hovermode\":\"closest\",\"mapbox\":{\"style\":\"light\"},\"paper_bgcolor\":\"white\",\"plot_bgcolor\":\"#E5ECF6\",\"polar\":{\"angularaxis\":{\"gridcolor\":\"white\",\"linecolor\":\"white\",\"ticks\":\"\"},\"bgcolor\":\"#E5ECF6\",\"radialaxis\":{\"gridcolor\":\"white\",\"linecolor\":\"white\",\"ticks\":\"\"}},\"scene\":{\"xaxis\":{\"backgroundcolor\":\"#E5ECF6\",\"gridcolor\":\"white\",\"gridwidth\":2,\"linecolor\":\"white\",\"showbackground\":true,\"ticks\":\"\",\"zerolinecolor\":\"white\"},\"yaxis\":{\"backgroundcolor\":\"#E5ECF6\",\"gridcolor\":\"white\",\"gridwidth\":2,\"linecolor\":\"white\",\"showbackground\":true,\"ticks\":\"\",\"zerolinecolor\":\"white\"},\"zaxis\":{\"backgroundcolor\":\"#E5ECF6\",\"gridcolor\":\"white\",\"gridwidth\":2,\"linecolor\":\"white\",\"showbackground\":true,\"ticks\":\"\",\"zerolinecolor\":\"white\"}},\"shapedefaults\":{\"line\":{\"color\":\"#2a3f5f\"}},\"ternary\":{\"aaxis\":{\"gridcolor\":\"white\",\"linecolor\":\"white\",\"ticks\":\"\"},\"baxis\":{\"gridcolor\":\"white\",\"linecolor\":\"white\",\"ticks\":\"\"},\"bgcolor\":\"#E5ECF6\",\"caxis\":{\"gridcolor\":\"white\",\"linecolor\":\"white\",\"ticks\":\"\"}},\"title\":{\"x\":0.05},\"xaxis\":{\"automargin\":true,\"gridcolor\":\"white\",\"linecolor\":\"white\",\"ticks\":\"\",\"title\":{\"standoff\":15},\"zerolinecolor\":\"white\",\"zerolinewidth\":2},\"yaxis\":{\"automargin\":true,\"gridcolor\":\"white\",\"linecolor\":\"white\",\"ticks\":\"\",\"title\":{\"standoff\":15},\"zerolinecolor\":\"white\",\"zerolinewidth\":2}}},\"xaxis\":{\"range\":[-1,2],\"scaleanchor\":\"y\",\"scaleratio\":1,\"visible\":false},\"yaxis\":{\"range\":[-2,2],\"scaleanchor\":\"x\",\"scaleratio\":1,\"visible\":false}},                        {\"responsive\": true}                    ).then(function(){\n",
       "                            \n",
       "var gd = document.getElementById('0ebd0d43-e1f8-40ee-bcce-5bd02d22ff8c');\n",
       "var x = new MutationObserver(function (mutations, observer) {{\n",
       "        var display = window.getComputedStyle(gd).display;\n",
       "        if (!display || display === 'none') {{\n",
       "            console.log([gd, 'removed!']);\n",
       "            Plotly.purge(gd);\n",
       "            observer.disconnect();\n",
       "        }}\n",
       "}});\n",
       "\n",
       "// Listen for the removal of the full notebook cells\n",
       "var notebookContainer = gd.closest('#notebook-container');\n",
       "if (notebookContainer) {{\n",
       "    x.observe(notebookContainer, {childList: true});\n",
       "}}\n",
       "\n",
       "// Listen for the clearing of the current output cell\n",
       "var outputEl = gd.closest('.output');\n",
       "if (outputEl) {{\n",
       "    x.observe(outputEl, {childList: true});\n",
       "}}\n",
       "\n",
       "                        })                };                });            </script>        </div>"
      ]
     },
     "metadata": {},
     "output_type": "display_data"
    }
   ],
   "source": [
    "np.random.seed(0)\n",
    "\n",
    "fig = go.Figure()\n",
    "\n",
    "cluster_labels = df_gmm['label'].unique()\n",
    "\n",
    "for idx, cluster_number in enumerate(cluster_labels):\n",
    "    \n",
    "    df_cluster = df_gmm[df_gmm['label']==cluster_number].copy()\n",
    "    n_count = df_cluster.shape[0]\n",
    "    \n",
    "    # Define centers for each cluster\n",
    "    center = mu_list[idx]\n",
    "    \n",
    "    # Generate coordinates\n",
    "    df_simul_cluster = pd.DataFrame()\n",
    "    df_simul_cluster['x'] = np.random.normal(center[0],1-dict_silhouette_clusters[cluster_number],n_count)\n",
    "    df_simul_cluster['y'] = np.random.normal(center[1],1-dict_silhouette_clusters[cluster_number],n_count)\n",
    "    \n",
    "    # Compute the distance to center\n",
    "    df_simul_cluster['distance_to_center'] = df_simul_cluster.apply(lambda x: distance_to_center(x, center), axis=1)\n",
    "    \n",
    "    # Associate coordinates to points w.r.t their distance to the center\n",
    "    df_simul_cluster = df_simul_cluster.sort_values(by='distance_to_center')\n",
    "    df_cluster = df_cluster.sort_values(by='silhouette', ascending=False)\n",
    "    df_cluster['x'] = df_simul_cluster['x'].values\n",
    "    df_cluster['y'] = df_simul_cluster['y'].values\n",
    "    \n",
    "    d = df_cluster.drop(columns=['x','y','label']).to_dict('index')\n",
    "    info = [d[x] for x in d.keys()]\n",
    "    info_str = [str(x).replace(',','<br>').replace('{','').replace('}','') for x in info]\n",
    "#     df_cluster['info'] = info_str\n",
    "    \n",
    "    # Graph\n",
    "    fig.add_trace(go.Scatter(\n",
    "                             x=df_cluster['x'], \n",
    "                             y=df_cluster['y'], \n",
    "                             text=['client ' + val for val in df_cluster['client_id'].values],\n",
    "                             name=dict_label[cluster_number],\n",
    "                             mode='markers',\n",
    "                             marker=dict(size=20),\n",
    "                             marker_line=dict(width=2),\n",
    "                             hovertemplate=info_str\n",
    "                            )\n",
    "                 )\n",
    "\n",
    "fig.update_layout(yaxis_range=[-2,2])\n",
    "fig.update_layout(xaxis_range=[-1,2])\n",
    "fig.update_layout({'showlegend':False})\n",
    "fig.update_xaxes(visible=False, scaleanchor='y', scaleratio=1)\n",
    "fig.update_yaxes(visible=False, scaleanchor='x', scaleratio=1)\n",
    "fig.show()"
   ]
  },
  {
   "cell_type": "code",
   "execution_count": 19,
   "id": "1252c1be",
   "metadata": {},
   "outputs": [
    {
     "data": {
      "text/html": [
       "<div>\n",
       "<style scoped>\n",
       "    .dataframe tbody tr th:only-of-type {\n",
       "        vertical-align: middle;\n",
       "    }\n",
       "\n",
       "    .dataframe tbody tr th {\n",
       "        vertical-align: top;\n",
       "    }\n",
       "\n",
       "    .dataframe thead th {\n",
       "        text-align: right;\n",
       "    }\n",
       "</style>\n",
       "<table border=\"1\" class=\"dataframe\">\n",
       "  <thead>\n",
       "    <tr style=\"text-align: right;\">\n",
       "      <th></th>\n",
       "      <th>client_id</th>\n",
       "      <th>nb_trades</th>\n",
       "      <th>nb_products</th>\n",
       "      <th>aum</th>\n",
       "      <th>age</th>\n",
       "      <th>label</th>\n",
       "      <th>silhouette</th>\n",
       "    </tr>\n",
       "  </thead>\n",
       "  <tbody>\n",
       "    <tr>\n",
       "      <th>1</th>\n",
       "      <td>002</td>\n",
       "      <td>1</td>\n",
       "      <td>2</td>\n",
       "      <td>3000000</td>\n",
       "      <td>33</td>\n",
       "      <td>1</td>\n",
       "      <td>0.646431</td>\n",
       "    </tr>\n",
       "    <tr>\n",
       "      <th>2</th>\n",
       "      <td>003</td>\n",
       "      <td>2</td>\n",
       "      <td>2</td>\n",
       "      <td>3500000</td>\n",
       "      <td>45</td>\n",
       "      <td>1</td>\n",
       "      <td>0.757484</td>\n",
       "    </tr>\n",
       "    <tr>\n",
       "      <th>9</th>\n",
       "      <td>010</td>\n",
       "      <td>3</td>\n",
       "      <td>2</td>\n",
       "      <td>4000000</td>\n",
       "      <td>46</td>\n",
       "      <td>1</td>\n",
       "      <td>0.757159</td>\n",
       "    </tr>\n",
       "    <tr>\n",
       "      <th>10</th>\n",
       "      <td>011</td>\n",
       "      <td>15</td>\n",
       "      <td>6</td>\n",
       "      <td>4000000</td>\n",
       "      <td>43</td>\n",
       "      <td>1</td>\n",
       "      <td>0.504055</td>\n",
       "    </tr>\n",
       "  </tbody>\n",
       "</table>\n",
       "</div>"
      ],
      "text/plain": [
       "   client_id  nb_trades  nb_products      aum  age  label  silhouette\n",
       "1        002          1            2  3000000   33      1    0.646431\n",
       "2        003          2            2  3500000   45      1    0.757484\n",
       "9        010          3            2  4000000   46      1    0.757159\n",
       "10       011         15            6  4000000   43      1    0.504055"
      ]
     },
     "execution_count": 19,
     "metadata": {},
     "output_type": "execute_result"
    }
   ],
   "source": [
    "df_gmm[df_gmm['label']==1]"
   ]
  }
 ],
 "metadata": {
  "kernelspec": {
   "display_name": "Python 3 (ipykernel)",
   "language": "python",
   "name": "python3"
  },
  "language_info": {
   "codemirror_mode": {
    "name": "ipython",
    "version": 3
   },
   "file_extension": ".py",
   "mimetype": "text/x-python",
   "name": "python",
   "nbconvert_exporter": "python",
   "pygments_lexer": "ipython3",
   "version": "3.8.8"
  }
 },
 "nbformat": 4,
 "nbformat_minor": 5
}
