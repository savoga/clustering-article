{
 "cells": [
  {
   "cell_type": "code",
   "execution_count": 1,
   "id": "853d4038",
   "metadata": {},
   "outputs": [],
   "source": [
    "import numpy as np\n",
    "\n",
    "import pandas as pd\n",
    "\n",
    "import math\n",
    "\n",
    "from sklearn.preprocessing import StandardScaler\n",
    "from sklearn.cluster import KMeans\n",
    "from sklearn import metrics\n",
    "from sklearn.mixture import GaussianMixture\n",
    "\n",
    "import plotly.graph_objects as go"
   ]
  },
  {
   "cell_type": "code",
   "execution_count": 2,
   "id": "81f8bcf1",
   "metadata": {},
   "outputs": [
    {
     "data": {
      "text/html": [
       "<div>\n",
       "<style scoped>\n",
       "    .dataframe tbody tr th:only-of-type {\n",
       "        vertical-align: middle;\n",
       "    }\n",
       "\n",
       "    .dataframe tbody tr th {\n",
       "        vertical-align: top;\n",
       "    }\n",
       "\n",
       "    .dataframe thead th {\n",
       "        text-align: right;\n",
       "    }\n",
       "</style>\n",
       "<table border=\"1\" class=\"dataframe\">\n",
       "  <thead>\n",
       "    <tr style=\"text-align: right;\">\n",
       "      <th></th>\n",
       "      <th>client_id</th>\n",
       "      <th>nb_trades</th>\n",
       "      <th>nb_products</th>\n",
       "      <th>aum</th>\n",
       "      <th>age</th>\n",
       "    </tr>\n",
       "  </thead>\n",
       "  <tbody>\n",
       "    <tr>\n",
       "      <th>0</th>\n",
       "      <td>001</td>\n",
       "      <td>32</td>\n",
       "      <td>3</td>\n",
       "      <td>100000</td>\n",
       "      <td>75</td>\n",
       "    </tr>\n",
       "    <tr>\n",
       "      <th>1</th>\n",
       "      <td>002</td>\n",
       "      <td>1</td>\n",
       "      <td>2</td>\n",
       "      <td>3000000</td>\n",
       "      <td>33</td>\n",
       "    </tr>\n",
       "    <tr>\n",
       "      <th>2</th>\n",
       "      <td>003</td>\n",
       "      <td>2</td>\n",
       "      <td>2</td>\n",
       "      <td>3500000</td>\n",
       "      <td>45</td>\n",
       "    </tr>\n",
       "    <tr>\n",
       "      <th>3</th>\n",
       "      <td>004</td>\n",
       "      <td>36</td>\n",
       "      <td>4</td>\n",
       "      <td>200000</td>\n",
       "      <td>73</td>\n",
       "    </tr>\n",
       "    <tr>\n",
       "      <th>4</th>\n",
       "      <td>005</td>\n",
       "      <td>4</td>\n",
       "      <td>9</td>\n",
       "      <td>150000</td>\n",
       "      <td>24</td>\n",
       "    </tr>\n",
       "    <tr>\n",
       "      <th>5</th>\n",
       "      <td>006</td>\n",
       "      <td>41</td>\n",
       "      <td>2</td>\n",
       "      <td>220000</td>\n",
       "      <td>80</td>\n",
       "    </tr>\n",
       "    <tr>\n",
       "      <th>6</th>\n",
       "      <td>007</td>\n",
       "      <td>29</td>\n",
       "      <td>1</td>\n",
       "      <td>100000</td>\n",
       "      <td>79</td>\n",
       "    </tr>\n",
       "    <tr>\n",
       "      <th>7</th>\n",
       "      <td>008</td>\n",
       "      <td>3</td>\n",
       "      <td>10</td>\n",
       "      <td>90000</td>\n",
       "      <td>25</td>\n",
       "    </tr>\n",
       "    <tr>\n",
       "      <th>8</th>\n",
       "      <td>009</td>\n",
       "      <td>2</td>\n",
       "      <td>13</td>\n",
       "      <td>210000</td>\n",
       "      <td>21</td>\n",
       "    </tr>\n",
       "    <tr>\n",
       "      <th>9</th>\n",
       "      <td>010</td>\n",
       "      <td>3</td>\n",
       "      <td>2</td>\n",
       "      <td>4000000</td>\n",
       "      <td>46</td>\n",
       "    </tr>\n",
       "    <tr>\n",
       "      <th>10</th>\n",
       "      <td>011</td>\n",
       "      <td>15</td>\n",
       "      <td>6</td>\n",
       "      <td>4000000</td>\n",
       "      <td>43</td>\n",
       "    </tr>\n",
       "  </tbody>\n",
       "</table>\n",
       "</div>"
      ],
      "text/plain": [
       "   client_id  nb_trades  nb_products      aum  age\n",
       "0        001         32            3   100000   75\n",
       "1        002          1            2  3000000   33\n",
       "2        003          2            2  3500000   45\n",
       "3        004         36            4   200000   73\n",
       "4        005          4            9   150000   24\n",
       "5        006         41            2   220000   80\n",
       "6        007         29            1   100000   79\n",
       "7        008          3           10    90000   25\n",
       "8        009          2           13   210000   21\n",
       "9        010          3            2  4000000   46\n",
       "10       011         15            6  4000000   43"
      ]
     },
     "execution_count": 2,
     "metadata": {},
     "output_type": "execute_result"
    }
   ],
   "source": [
    "# Dataset (example)\n",
    "data = {\n",
    "    'client_id':['001','002','003','004','005','006','007','008','009','010','011'],\n",
    "    'nb_trades':[32,1,2,36,4,41,29,3,2,3,15],\n",
    "    'nb_products':[3,2,2,4,9,2,1,10,13,2,6],\n",
    "    'aum':[100000,3000000,3500000,200000,150000,220000,100000,90000,210000,4000000,4000000],\n",
    "    'age':[75,33,45,73,24,80,79,25,21,46,43]\n",
    "}\n",
    "\n",
    "df = pd.DataFrame(data)\n",
    "df"
   ]
  },
  {
   "cell_type": "code",
   "execution_count": 3,
   "id": "7ee5615c",
   "metadata": {},
   "outputs": [],
   "source": [
    "scaler = StandardScaler()\n",
    "\n",
    "df_pre = scaler.fit_transform(df[['nb_trades','nb_products','aum','age']])"
   ]
  },
  {
   "cell_type": "markdown",
   "id": "37906979",
   "metadata": {},
   "source": [
    "# K-means"
   ]
  },
  {
   "cell_type": "code",
   "execution_count": 4,
   "id": "acd74788",
   "metadata": {},
   "outputs": [],
   "source": [
    "df_kmeans = df.copy()\n",
    "df_kmeans_pre = df_pre.copy()"
   ]
  },
  {
   "cell_type": "markdown",
   "id": "84303d9c",
   "metadata": {},
   "source": [
    "#### Clustering"
   ]
  },
  {
   "cell_type": "code",
   "execution_count": 5,
   "id": "f59b1522",
   "metadata": {},
   "outputs": [],
   "source": [
    "kmeans = KMeans(n_clusters=3, random_state=0).fit(df_kmeans_pre)"
   ]
  },
  {
   "cell_type": "code",
   "execution_count": 6,
   "id": "237b7085",
   "metadata": {},
   "outputs": [],
   "source": [
    "df_kmeans['label'] = kmeans.labels_"
   ]
  },
  {
   "cell_type": "code",
   "execution_count": 7,
   "id": "9cef7c0a",
   "metadata": {},
   "outputs": [
    {
     "data": {
      "text/html": [
       "<div>\n",
       "<style scoped>\n",
       "    .dataframe tbody tr th:only-of-type {\n",
       "        vertical-align: middle;\n",
       "    }\n",
       "\n",
       "    .dataframe tbody tr th {\n",
       "        vertical-align: top;\n",
       "    }\n",
       "\n",
       "    .dataframe thead th {\n",
       "        text-align: right;\n",
       "    }\n",
       "</style>\n",
       "<table border=\"1\" class=\"dataframe\">\n",
       "  <thead>\n",
       "    <tr style=\"text-align: right;\">\n",
       "      <th></th>\n",
       "      <th>client_id</th>\n",
       "      <th>nb_trades</th>\n",
       "      <th>nb_products</th>\n",
       "      <th>aum</th>\n",
       "      <th>age</th>\n",
       "      <th>label</th>\n",
       "    </tr>\n",
       "  </thead>\n",
       "  <tbody>\n",
       "    <tr>\n",
       "      <th>0</th>\n",
       "      <td>001</td>\n",
       "      <td>32</td>\n",
       "      <td>3</td>\n",
       "      <td>100000</td>\n",
       "      <td>75</td>\n",
       "      <td>0</td>\n",
       "    </tr>\n",
       "    <tr>\n",
       "      <th>1</th>\n",
       "      <td>002</td>\n",
       "      <td>1</td>\n",
       "      <td>2</td>\n",
       "      <td>3000000</td>\n",
       "      <td>33</td>\n",
       "      <td>1</td>\n",
       "    </tr>\n",
       "    <tr>\n",
       "      <th>2</th>\n",
       "      <td>003</td>\n",
       "      <td>2</td>\n",
       "      <td>2</td>\n",
       "      <td>3500000</td>\n",
       "      <td>45</td>\n",
       "      <td>1</td>\n",
       "    </tr>\n",
       "    <tr>\n",
       "      <th>3</th>\n",
       "      <td>004</td>\n",
       "      <td>36</td>\n",
       "      <td>4</td>\n",
       "      <td>200000</td>\n",
       "      <td>73</td>\n",
       "      <td>0</td>\n",
       "    </tr>\n",
       "    <tr>\n",
       "      <th>4</th>\n",
       "      <td>005</td>\n",
       "      <td>4</td>\n",
       "      <td>9</td>\n",
       "      <td>150000</td>\n",
       "      <td>24</td>\n",
       "      <td>2</td>\n",
       "    </tr>\n",
       "    <tr>\n",
       "      <th>5</th>\n",
       "      <td>006</td>\n",
       "      <td>41</td>\n",
       "      <td>2</td>\n",
       "      <td>220000</td>\n",
       "      <td>80</td>\n",
       "      <td>0</td>\n",
       "    </tr>\n",
       "    <tr>\n",
       "      <th>6</th>\n",
       "      <td>007</td>\n",
       "      <td>29</td>\n",
       "      <td>1</td>\n",
       "      <td>100000</td>\n",
       "      <td>79</td>\n",
       "      <td>0</td>\n",
       "    </tr>\n",
       "    <tr>\n",
       "      <th>7</th>\n",
       "      <td>008</td>\n",
       "      <td>3</td>\n",
       "      <td>10</td>\n",
       "      <td>90000</td>\n",
       "      <td>25</td>\n",
       "      <td>2</td>\n",
       "    </tr>\n",
       "    <tr>\n",
       "      <th>8</th>\n",
       "      <td>009</td>\n",
       "      <td>2</td>\n",
       "      <td>13</td>\n",
       "      <td>210000</td>\n",
       "      <td>21</td>\n",
       "      <td>2</td>\n",
       "    </tr>\n",
       "    <tr>\n",
       "      <th>9</th>\n",
       "      <td>010</td>\n",
       "      <td>3</td>\n",
       "      <td>2</td>\n",
       "      <td>4000000</td>\n",
       "      <td>46</td>\n",
       "      <td>1</td>\n",
       "    </tr>\n",
       "    <tr>\n",
       "      <th>10</th>\n",
       "      <td>011</td>\n",
       "      <td>15</td>\n",
       "      <td>6</td>\n",
       "      <td>4000000</td>\n",
       "      <td>43</td>\n",
       "      <td>1</td>\n",
       "    </tr>\n",
       "  </tbody>\n",
       "</table>\n",
       "</div>"
      ],
      "text/plain": [
       "   client_id  nb_trades  nb_products      aum  age  label\n",
       "0        001         32            3   100000   75      0\n",
       "1        002          1            2  3000000   33      1\n",
       "2        003          2            2  3500000   45      1\n",
       "3        004         36            4   200000   73      0\n",
       "4        005          4            9   150000   24      2\n",
       "5        006         41            2   220000   80      0\n",
       "6        007         29            1   100000   79      0\n",
       "7        008          3           10    90000   25      2\n",
       "8        009          2           13   210000   21      2\n",
       "9        010          3            2  4000000   46      1\n",
       "10       011         15            6  4000000   43      1"
      ]
     },
     "execution_count": 7,
     "metadata": {},
     "output_type": "execute_result"
    }
   ],
   "source": [
    "df_kmeans"
   ]
  },
  {
   "cell_type": "code",
   "execution_count": 8,
   "id": "4806c9f0",
   "metadata": {},
   "outputs": [],
   "source": [
    "dict_label = {\n",
    "    0:'active & old',\n",
    "    1:'passive & wealthy',\n",
    "    2:'diversified & young'\n",
    "}"
   ]
  },
  {
   "cell_type": "markdown",
   "id": "5149ce81",
   "metadata": {},
   "source": [
    "#### Cluster quality"
   ]
  },
  {
   "cell_type": "markdown",
   "id": "ae347a0c",
   "metadata": {},
   "source": [
    "$$s(i) = \\frac{b(i)-a(i)}{max(a(i),b(i))}$$"
   ]
  },
  {
   "cell_type": "code",
   "execution_count": 9,
   "id": "0cb1c906",
   "metadata": {},
   "outputs": [],
   "source": [
    "df_kmeans['silhouette'] = metrics.silhouette_samples(df_kmeans_pre, kmeans.labels_)"
   ]
  },
  {
   "cell_type": "code",
   "execution_count": 10,
   "id": "c354c004",
   "metadata": {},
   "outputs": [],
   "source": [
    "dict_silhouette_clusters = {\n",
    "    0:np.mean(df_kmeans[df_kmeans['label']==0]['silhouette']),\n",
    "    1:np.mean(df_kmeans[df_kmeans['label']==1]['silhouette']),\n",
    "    2:np.mean(df_kmeans[df_kmeans['label']==2]['silhouette'])\n",
    "}"
   ]
  },
  {
   "cell_type": "markdown",
   "id": "41c64e67",
   "metadata": {},
   "source": [
    "High silhouette => good quality => low variance"
   ]
  },
  {
   "cell_type": "markdown",
   "id": "07ec3d5d",
   "metadata": {},
   "source": [
    "#### Visualization"
   ]
  },
  {
   "cell_type": "code",
   "execution_count": 11,
   "id": "244ef8d8",
   "metadata": {},
   "outputs": [],
   "source": [
    "# mu_list_2 = get_all_circle_coords(x_center=0, y_center=0, radius=1, n_points=10)\n",
    "# fig = go.Figure()\n",
    "# for coord in mu_list_2:\n",
    "#     fig.add_trace(go.Scatter(x=[coord[0]], \n",
    "#                              y=[coord[1]],\n",
    "#                              marker=dict(size=30)))\n",
    "# fig.update_layout({'showlegend':False})\n",
    "# fig.update_xaxes(visible=False, scaleanchor='y', scaleratio=1)\n",
    "# fig.update_yaxes(visible=False, scaleanchor='x', scaleratio=1)"
   ]
  },
  {
   "cell_type": "code",
   "execution_count": 36,
   "id": "9be37a84",
   "metadata": {},
   "outputs": [],
   "source": [
    "# https://gis.stackexchange.com/questions/394955/generating-approximate-polygon-for-circle-with-given-radius-and-centre-without\n",
    "\n",
    "def get_circle_coord(theta, x_center, y_center, radius):\n",
    "    x = radius*math.cos(theta)+x_center\n",
    "    y = radius*math.sin(theta)+y_center\n",
    "    return x,y\n",
    "\n",
    "def get_all_circle_coords(x_center, y_center, radius, n_points):\n",
    "    # equidistant points on perimeter (2*pi*r) = distance in radians = angles in radians\n",
    "    thetas = [i/n_points * 2 * math.pi for i in range(n_points)]\n",
    "    # we use cos/sin formulas to find coordinates\n",
    "    circle_coords = [get_circle_coord(theta, x_center, y_center, radius) for theta in thetas]\n",
    "    return circle_coords\n",
    "\n",
    "mu_list = get_all_circle_coords(x_center=0, y_center=0, radius=2, n_points=3)"
   ]
  },
  {
   "cell_type": "code",
   "execution_count": 37,
   "id": "b6c1b257",
   "metadata": {},
   "outputs": [],
   "source": [
    "def distance_to_center(row, center):\n",
    "    point = np.array(row[['x','y']])\n",
    "    center = np.asarray(center)\n",
    "    return np.linalg.norm(point-center)"
   ]
  },
  {
   "cell_type": "code",
   "execution_count": 38,
   "id": "f03c5869",
   "metadata": {},
   "outputs": [
    {
     "data": {
      "application/vnd.plotly.v1+json": {
       "config": {
        "plotlyServerURL": "https://plot.ly"
       },
       "data": [
        {
         "hovertemplate": [
          "'client_id': '001'<br> 'nb_trades': 32<br> 'nb_products': 3<br> 'aum': 100000<br> 'age': 75<br> 'silhouette': 0.8264772812357588",
          "'client_id': '006'<br> 'nb_trades': 41<br> 'nb_products': 2<br> 'aum': 220000<br> 'age': 80<br> 'silhouette': 0.7958245735413468",
          "'client_id': '004'<br> 'nb_trades': 36<br> 'nb_products': 4<br> 'aum': 200000<br> 'age': 73<br> 'silhouette': 0.7936615144743847",
          "'client_id': '007'<br> 'nb_trades': 29<br> 'nb_products': 1<br> 'aum': 100000<br> 'age': 79<br> 'silhouette': 0.7546604663061691"
         ],
         "marker": {
          "line": {
           "width": 2
          },
          "size": 20
         },
         "mode": "markers",
         "name": "emerging clients",
         "text": [
          "client 001",
          "client 006",
          "client 004",
          "client 007"
         ],
         "type": "scatter",
         "x": [
          2.1930091146545068,
          2.472077843010209,
          3.0808572315315206,
          2.85086104755851
         ],
         "y": [
          -0.4713735862363379,
          0.4582592053217044,
          -0.0730046095866089,
          0.900785258162852
         ]
        },
        {
         "hovertemplate": [
          "'client_id': '003'<br> 'nb_trades': 2<br> 'nb_products': 2<br> 'aum': 3500000<br> 'age': 45<br> 'silhouette': 0.757483695439868",
          "'client_id': '010'<br> 'nb_trades': 3<br> 'nb_products': 2<br> 'aum': 4000000<br> 'age': 46<br> 'silhouette': 0.7571594994666456",
          "'client_id': '002'<br> 'nb_trades': 1<br> 'nb_products': 2<br> 'aum': 3000000<br> 'age': 33<br> 'silhouette': 0.6464306926156685",
          "'client_id': '011'<br> 'nb_trades': 15<br> 'nb_products': 6<br> 'aum': 4000000<br> 'age': 43<br> 'silhouette': 0.5040548691290675"
         ],
         "marker": {
          "line": {
           "width": 2
          },
          "size": 20
         },
         "mode": "markers",
         "name": "active clients",
         "text": [
          "client 003",
          "client 010",
          "client 002",
          "client 011"
         ],
         "type": "scatter",
         "x": [
          -0.7923382278108884,
          -0.9271494096580848,
          -1.0522033314432122,
          -0.2644955783376608
         ],
         "y": [
          1.7935884153213593,
          1.9565363453542481,
          2.1169485652584923,
          1.9008078824959314
         ]
        },
        {
         "hovertemplate": [
          "'client_id': '008'<br> 'nb_trades': 3<br> 'nb_products': 10<br> 'aum': 90000<br> 'age': 25<br> 'silhouette': 0.816812175828537",
          "'client_id': '005'<br> 'nb_trades': 4<br> 'nb_products': 9<br> 'aum': 150000<br> 'age': 24<br> 'silhouette': 0.760473281610397",
          "'client_id': '009'<br> 'nb_trades': 2<br> 'nb_products': 13<br> 'aum': 210000<br> 'age': 21<br> 'silhouette': 0.7328312542507603"
         ],
         "marker": {
          "line": {
           "width": 2
          },
          "size": 20
         },
         "mode": "markers",
         "name": "passive clients",
         "text": [
          "client 008",
          "client 005",
          "client 009"
         ],
         "type": "scatter",
         "x": [
          -0.8711181522337146,
          -0.38492642121155685,
          -1.0844583327479247
         ],
         "y": [
          -1.4629729951003994,
          -2.083659857209088,
          -2.7830504573510497
         ]
        }
       ],
       "layout": {
        "template": {
         "data": {
          "bar": [
           {
            "error_x": {
             "color": "#2a3f5f"
            },
            "error_y": {
             "color": "#2a3f5f"
            },
            "marker": {
             "line": {
              "color": "#E5ECF6",
              "width": 0.5
             },
             "pattern": {
              "fillmode": "overlay",
              "size": 10,
              "solidity": 0.2
             }
            },
            "type": "bar"
           }
          ],
          "barpolar": [
           {
            "marker": {
             "line": {
              "color": "#E5ECF6",
              "width": 0.5
             },
             "pattern": {
              "fillmode": "overlay",
              "size": 10,
              "solidity": 0.2
             }
            },
            "type": "barpolar"
           }
          ],
          "carpet": [
           {
            "aaxis": {
             "endlinecolor": "#2a3f5f",
             "gridcolor": "white",
             "linecolor": "white",
             "minorgridcolor": "white",
             "startlinecolor": "#2a3f5f"
            },
            "baxis": {
             "endlinecolor": "#2a3f5f",
             "gridcolor": "white",
             "linecolor": "white",
             "minorgridcolor": "white",
             "startlinecolor": "#2a3f5f"
            },
            "type": "carpet"
           }
          ],
          "choropleth": [
           {
            "colorbar": {
             "outlinewidth": 0,
             "ticks": ""
            },
            "type": "choropleth"
           }
          ],
          "contour": [
           {
            "colorbar": {
             "outlinewidth": 0,
             "ticks": ""
            },
            "colorscale": [
             [
              0,
              "#0d0887"
             ],
             [
              0.1111111111111111,
              "#46039f"
             ],
             [
              0.2222222222222222,
              "#7201a8"
             ],
             [
              0.3333333333333333,
              "#9c179e"
             ],
             [
              0.4444444444444444,
              "#bd3786"
             ],
             [
              0.5555555555555556,
              "#d8576b"
             ],
             [
              0.6666666666666666,
              "#ed7953"
             ],
             [
              0.7777777777777778,
              "#fb9f3a"
             ],
             [
              0.8888888888888888,
              "#fdca26"
             ],
             [
              1,
              "#f0f921"
             ]
            ],
            "type": "contour"
           }
          ],
          "contourcarpet": [
           {
            "colorbar": {
             "outlinewidth": 0,
             "ticks": ""
            },
            "type": "contourcarpet"
           }
          ],
          "heatmap": [
           {
            "colorbar": {
             "outlinewidth": 0,
             "ticks": ""
            },
            "colorscale": [
             [
              0,
              "#0d0887"
             ],
             [
              0.1111111111111111,
              "#46039f"
             ],
             [
              0.2222222222222222,
              "#7201a8"
             ],
             [
              0.3333333333333333,
              "#9c179e"
             ],
             [
              0.4444444444444444,
              "#bd3786"
             ],
             [
              0.5555555555555556,
              "#d8576b"
             ],
             [
              0.6666666666666666,
              "#ed7953"
             ],
             [
              0.7777777777777778,
              "#fb9f3a"
             ],
             [
              0.8888888888888888,
              "#fdca26"
             ],
             [
              1,
              "#f0f921"
             ]
            ],
            "type": "heatmap"
           }
          ],
          "heatmapgl": [
           {
            "colorbar": {
             "outlinewidth": 0,
             "ticks": ""
            },
            "colorscale": [
             [
              0,
              "#0d0887"
             ],
             [
              0.1111111111111111,
              "#46039f"
             ],
             [
              0.2222222222222222,
              "#7201a8"
             ],
             [
              0.3333333333333333,
              "#9c179e"
             ],
             [
              0.4444444444444444,
              "#bd3786"
             ],
             [
              0.5555555555555556,
              "#d8576b"
             ],
             [
              0.6666666666666666,
              "#ed7953"
             ],
             [
              0.7777777777777778,
              "#fb9f3a"
             ],
             [
              0.8888888888888888,
              "#fdca26"
             ],
             [
              1,
              "#f0f921"
             ]
            ],
            "type": "heatmapgl"
           }
          ],
          "histogram": [
           {
            "marker": {
             "pattern": {
              "fillmode": "overlay",
              "size": 10,
              "solidity": 0.2
             }
            },
            "type": "histogram"
           }
          ],
          "histogram2d": [
           {
            "colorbar": {
             "outlinewidth": 0,
             "ticks": ""
            },
            "colorscale": [
             [
              0,
              "#0d0887"
             ],
             [
              0.1111111111111111,
              "#46039f"
             ],
             [
              0.2222222222222222,
              "#7201a8"
             ],
             [
              0.3333333333333333,
              "#9c179e"
             ],
             [
              0.4444444444444444,
              "#bd3786"
             ],
             [
              0.5555555555555556,
              "#d8576b"
             ],
             [
              0.6666666666666666,
              "#ed7953"
             ],
             [
              0.7777777777777778,
              "#fb9f3a"
             ],
             [
              0.8888888888888888,
              "#fdca26"
             ],
             [
              1,
              "#f0f921"
             ]
            ],
            "type": "histogram2d"
           }
          ],
          "histogram2dcontour": [
           {
            "colorbar": {
             "outlinewidth": 0,
             "ticks": ""
            },
            "colorscale": [
             [
              0,
              "#0d0887"
             ],
             [
              0.1111111111111111,
              "#46039f"
             ],
             [
              0.2222222222222222,
              "#7201a8"
             ],
             [
              0.3333333333333333,
              "#9c179e"
             ],
             [
              0.4444444444444444,
              "#bd3786"
             ],
             [
              0.5555555555555556,
              "#d8576b"
             ],
             [
              0.6666666666666666,
              "#ed7953"
             ],
             [
              0.7777777777777778,
              "#fb9f3a"
             ],
             [
              0.8888888888888888,
              "#fdca26"
             ],
             [
              1,
              "#f0f921"
             ]
            ],
            "type": "histogram2dcontour"
           }
          ],
          "mesh3d": [
           {
            "colorbar": {
             "outlinewidth": 0,
             "ticks": ""
            },
            "type": "mesh3d"
           }
          ],
          "parcoords": [
           {
            "line": {
             "colorbar": {
              "outlinewidth": 0,
              "ticks": ""
             }
            },
            "type": "parcoords"
           }
          ],
          "pie": [
           {
            "automargin": true,
            "type": "pie"
           }
          ],
          "scatter": [
           {
            "fillpattern": {
             "fillmode": "overlay",
             "size": 10,
             "solidity": 0.2
            },
            "type": "scatter"
           }
          ],
          "scatter3d": [
           {
            "line": {
             "colorbar": {
              "outlinewidth": 0,
              "ticks": ""
             }
            },
            "marker": {
             "colorbar": {
              "outlinewidth": 0,
              "ticks": ""
             }
            },
            "type": "scatter3d"
           }
          ],
          "scattercarpet": [
           {
            "marker": {
             "colorbar": {
              "outlinewidth": 0,
              "ticks": ""
             }
            },
            "type": "scattercarpet"
           }
          ],
          "scattergeo": [
           {
            "marker": {
             "colorbar": {
              "outlinewidth": 0,
              "ticks": ""
             }
            },
            "type": "scattergeo"
           }
          ],
          "scattergl": [
           {
            "marker": {
             "colorbar": {
              "outlinewidth": 0,
              "ticks": ""
             }
            },
            "type": "scattergl"
           }
          ],
          "scattermapbox": [
           {
            "marker": {
             "colorbar": {
              "outlinewidth": 0,
              "ticks": ""
             }
            },
            "type": "scattermapbox"
           }
          ],
          "scatterpolar": [
           {
            "marker": {
             "colorbar": {
              "outlinewidth": 0,
              "ticks": ""
             }
            },
            "type": "scatterpolar"
           }
          ],
          "scatterpolargl": [
           {
            "marker": {
             "colorbar": {
              "outlinewidth": 0,
              "ticks": ""
             }
            },
            "type": "scatterpolargl"
           }
          ],
          "scatterternary": [
           {
            "marker": {
             "colorbar": {
              "outlinewidth": 0,
              "ticks": ""
             }
            },
            "type": "scatterternary"
           }
          ],
          "surface": [
           {
            "colorbar": {
             "outlinewidth": 0,
             "ticks": ""
            },
            "colorscale": [
             [
              0,
              "#0d0887"
             ],
             [
              0.1111111111111111,
              "#46039f"
             ],
             [
              0.2222222222222222,
              "#7201a8"
             ],
             [
              0.3333333333333333,
              "#9c179e"
             ],
             [
              0.4444444444444444,
              "#bd3786"
             ],
             [
              0.5555555555555556,
              "#d8576b"
             ],
             [
              0.6666666666666666,
              "#ed7953"
             ],
             [
              0.7777777777777778,
              "#fb9f3a"
             ],
             [
              0.8888888888888888,
              "#fdca26"
             ],
             [
              1,
              "#f0f921"
             ]
            ],
            "type": "surface"
           }
          ],
          "table": [
           {
            "cells": {
             "fill": {
              "color": "#EBF0F8"
             },
             "line": {
              "color": "white"
             }
            },
            "header": {
             "fill": {
              "color": "#C8D4E3"
             },
             "line": {
              "color": "white"
             }
            },
            "type": "table"
           }
          ]
         },
         "layout": {
          "annotationdefaults": {
           "arrowcolor": "#2a3f5f",
           "arrowhead": 0,
           "arrowwidth": 1
          },
          "autotypenumbers": "strict",
          "coloraxis": {
           "colorbar": {
            "outlinewidth": 0,
            "ticks": ""
           }
          },
          "colorscale": {
           "diverging": [
            [
             0,
             "#8e0152"
            ],
            [
             0.1,
             "#c51b7d"
            ],
            [
             0.2,
             "#de77ae"
            ],
            [
             0.3,
             "#f1b6da"
            ],
            [
             0.4,
             "#fde0ef"
            ],
            [
             0.5,
             "#f7f7f7"
            ],
            [
             0.6,
             "#e6f5d0"
            ],
            [
             0.7,
             "#b8e186"
            ],
            [
             0.8,
             "#7fbc41"
            ],
            [
             0.9,
             "#4d9221"
            ],
            [
             1,
             "#276419"
            ]
           ],
           "sequential": [
            [
             0,
             "#0d0887"
            ],
            [
             0.1111111111111111,
             "#46039f"
            ],
            [
             0.2222222222222222,
             "#7201a8"
            ],
            [
             0.3333333333333333,
             "#9c179e"
            ],
            [
             0.4444444444444444,
             "#bd3786"
            ],
            [
             0.5555555555555556,
             "#d8576b"
            ],
            [
             0.6666666666666666,
             "#ed7953"
            ],
            [
             0.7777777777777778,
             "#fb9f3a"
            ],
            [
             0.8888888888888888,
             "#fdca26"
            ],
            [
             1,
             "#f0f921"
            ]
           ],
           "sequentialminus": [
            [
             0,
             "#0d0887"
            ],
            [
             0.1111111111111111,
             "#46039f"
            ],
            [
             0.2222222222222222,
             "#7201a8"
            ],
            [
             0.3333333333333333,
             "#9c179e"
            ],
            [
             0.4444444444444444,
             "#bd3786"
            ],
            [
             0.5555555555555556,
             "#d8576b"
            ],
            [
             0.6666666666666666,
             "#ed7953"
            ],
            [
             0.7777777777777778,
             "#fb9f3a"
            ],
            [
             0.8888888888888888,
             "#fdca26"
            ],
            [
             1,
             "#f0f921"
            ]
           ]
          },
          "colorway": [
           "#636efa",
           "#EF553B",
           "#00cc96",
           "#ab63fa",
           "#FFA15A",
           "#19d3f3",
           "#FF6692",
           "#B6E880",
           "#FF97FF",
           "#FECB52"
          ],
          "font": {
           "color": "#2a3f5f"
          },
          "geo": {
           "bgcolor": "white",
           "lakecolor": "white",
           "landcolor": "#E5ECF6",
           "showlakes": true,
           "showland": true,
           "subunitcolor": "white"
          },
          "hoverlabel": {
           "align": "left"
          },
          "hovermode": "closest",
          "mapbox": {
           "style": "light"
          },
          "paper_bgcolor": "white",
          "plot_bgcolor": "#E5ECF6",
          "polar": {
           "angularaxis": {
            "gridcolor": "white",
            "linecolor": "white",
            "ticks": ""
           },
           "bgcolor": "#E5ECF6",
           "radialaxis": {
            "gridcolor": "white",
            "linecolor": "white",
            "ticks": ""
           }
          },
          "scene": {
           "xaxis": {
            "backgroundcolor": "#E5ECF6",
            "gridcolor": "white",
            "gridwidth": 2,
            "linecolor": "white",
            "showbackground": true,
            "ticks": "",
            "zerolinecolor": "white"
           },
           "yaxis": {
            "backgroundcolor": "#E5ECF6",
            "gridcolor": "white",
            "gridwidth": 2,
            "linecolor": "white",
            "showbackground": true,
            "ticks": "",
            "zerolinecolor": "white"
           },
           "zaxis": {
            "backgroundcolor": "#E5ECF6",
            "gridcolor": "white",
            "gridwidth": 2,
            "linecolor": "white",
            "showbackground": true,
            "ticks": "",
            "zerolinecolor": "white"
           }
          },
          "shapedefaults": {
           "line": {
            "color": "#2a3f5f"
           }
          },
          "ternary": {
           "aaxis": {
            "gridcolor": "white",
            "linecolor": "white",
            "ticks": ""
           },
           "baxis": {
            "gridcolor": "white",
            "linecolor": "white",
            "ticks": ""
           },
           "bgcolor": "#E5ECF6",
           "caxis": {
            "gridcolor": "white",
            "linecolor": "white",
            "ticks": ""
           }
          },
          "title": {
           "x": 0.05
          },
          "xaxis": {
           "automargin": true,
           "gridcolor": "white",
           "linecolor": "white",
           "ticks": "",
           "title": {
            "standoff": 15
           },
           "zerolinecolor": "white",
           "zerolinewidth": 2
          },
          "yaxis": {
           "automargin": true,
           "gridcolor": "white",
           "linecolor": "white",
           "ticks": "",
           "title": {
            "standoff": 15
           },
           "zerolinecolor": "white",
           "zerolinewidth": 2
          }
         }
        },
        "xaxis": {
         "range": [
          -1,
          2
         ]
        },
        "yaxis": {
         "range": [
          -2,
          2
         ]
        }
       }
      },
      "text/html": [
       "<div>                            <div id=\"0584ff89-6e06-43c8-a7cb-47e3ce441a39\" class=\"plotly-graph-div\" style=\"height:525px; width:100%;\"></div>            <script type=\"text/javascript\">                require([\"plotly\"], function(Plotly) {                    window.PLOTLYENV=window.PLOTLYENV || {};                                    if (document.getElementById(\"0584ff89-6e06-43c8-a7cb-47e3ce441a39\")) {                    Plotly.newPlot(                        \"0584ff89-6e06-43c8-a7cb-47e3ce441a39\",                        [{\"hovertemplate\":[\"'client_id': '001'<br> 'nb_trades': 32<br> 'nb_products': 3<br> 'aum': 100000<br> 'age': 75<br> 'silhouette': 0.8264772812357588\",\"'client_id': '006'<br> 'nb_trades': 41<br> 'nb_products': 2<br> 'aum': 220000<br> 'age': 80<br> 'silhouette': 0.7958245735413468\",\"'client_id': '004'<br> 'nb_trades': 36<br> 'nb_products': 4<br> 'aum': 200000<br> 'age': 73<br> 'silhouette': 0.7936615144743847\",\"'client_id': '007'<br> 'nb_trades': 29<br> 'nb_products': 1<br> 'aum': 100000<br> 'age': 79<br> 'silhouette': 0.7546604663061691\"],\"marker\":{\"line\":{\"width\":2},\"size\":20},\"mode\":\"markers\",\"name\":\"emerging clients\",\"text\":[\"client 001\",\"client 006\",\"client 004\",\"client 007\"],\"x\":[2.1930091146545068,2.472077843010209,3.0808572315315206,2.85086104755851],\"y\":[-0.4713735862363379,0.4582592053217044,-0.0730046095866089,0.900785258162852],\"type\":\"scatter\"},{\"hovertemplate\":[\"'client_id': '003'<br> 'nb_trades': 2<br> 'nb_products': 2<br> 'aum': 3500000<br> 'age': 45<br> 'silhouette': 0.757483695439868\",\"'client_id': '010'<br> 'nb_trades': 3<br> 'nb_products': 2<br> 'aum': 4000000<br> 'age': 46<br> 'silhouette': 0.7571594994666456\",\"'client_id': '002'<br> 'nb_trades': 1<br> 'nb_products': 2<br> 'aum': 3000000<br> 'age': 33<br> 'silhouette': 0.6464306926156685\",\"'client_id': '011'<br> 'nb_trades': 15<br> 'nb_products': 6<br> 'aum': 4000000<br> 'age': 43<br> 'silhouette': 0.5040548691290675\"],\"marker\":{\"line\":{\"width\":2},\"size\":20},\"mode\":\"markers\",\"name\":\"active clients\",\"text\":[\"client 003\",\"client 010\",\"client 002\",\"client 011\"],\"x\":[-0.7923382278108884,-0.9271494096580848,-1.0522033314432122,-0.2644955783376608],\"y\":[1.7935884153213593,1.9565363453542481,2.1169485652584923,1.9008078824959314],\"type\":\"scatter\"},{\"hovertemplate\":[\"'client_id': '008'<br> 'nb_trades': 3<br> 'nb_products': 10<br> 'aum': 90000<br> 'age': 25<br> 'silhouette': 0.816812175828537\",\"'client_id': '005'<br> 'nb_trades': 4<br> 'nb_products': 9<br> 'aum': 150000<br> 'age': 24<br> 'silhouette': 0.760473281610397\",\"'client_id': '009'<br> 'nb_trades': 2<br> 'nb_products': 13<br> 'aum': 210000<br> 'age': 21<br> 'silhouette': 0.7328312542507603\"],\"marker\":{\"line\":{\"width\":2},\"size\":20},\"mode\":\"markers\",\"name\":\"passive clients\",\"text\":[\"client 008\",\"client 005\",\"client 009\"],\"x\":[-0.8711181522337146,-0.38492642121155685,-1.0844583327479247],\"y\":[-1.4629729951003994,-2.083659857209088,-2.7830504573510497],\"type\":\"scatter\"}],                        {\"template\":{\"data\":{\"histogram2dcontour\":[{\"type\":\"histogram2dcontour\",\"colorbar\":{\"outlinewidth\":0,\"ticks\":\"\"},\"colorscale\":[[0.0,\"#0d0887\"],[0.1111111111111111,\"#46039f\"],[0.2222222222222222,\"#7201a8\"],[0.3333333333333333,\"#9c179e\"],[0.4444444444444444,\"#bd3786\"],[0.5555555555555556,\"#d8576b\"],[0.6666666666666666,\"#ed7953\"],[0.7777777777777778,\"#fb9f3a\"],[0.8888888888888888,\"#fdca26\"],[1.0,\"#f0f921\"]]}],\"choropleth\":[{\"type\":\"choropleth\",\"colorbar\":{\"outlinewidth\":0,\"ticks\":\"\"}}],\"histogram2d\":[{\"type\":\"histogram2d\",\"colorbar\":{\"outlinewidth\":0,\"ticks\":\"\"},\"colorscale\":[[0.0,\"#0d0887\"],[0.1111111111111111,\"#46039f\"],[0.2222222222222222,\"#7201a8\"],[0.3333333333333333,\"#9c179e\"],[0.4444444444444444,\"#bd3786\"],[0.5555555555555556,\"#d8576b\"],[0.6666666666666666,\"#ed7953\"],[0.7777777777777778,\"#fb9f3a\"],[0.8888888888888888,\"#fdca26\"],[1.0,\"#f0f921\"]]}],\"heatmap\":[{\"type\":\"heatmap\",\"colorbar\":{\"outlinewidth\":0,\"ticks\":\"\"},\"colorscale\":[[0.0,\"#0d0887\"],[0.1111111111111111,\"#46039f\"],[0.2222222222222222,\"#7201a8\"],[0.3333333333333333,\"#9c179e\"],[0.4444444444444444,\"#bd3786\"],[0.5555555555555556,\"#d8576b\"],[0.6666666666666666,\"#ed7953\"],[0.7777777777777778,\"#fb9f3a\"],[0.8888888888888888,\"#fdca26\"],[1.0,\"#f0f921\"]]}],\"heatmapgl\":[{\"type\":\"heatmapgl\",\"colorbar\":{\"outlinewidth\":0,\"ticks\":\"\"},\"colorscale\":[[0.0,\"#0d0887\"],[0.1111111111111111,\"#46039f\"],[0.2222222222222222,\"#7201a8\"],[0.3333333333333333,\"#9c179e\"],[0.4444444444444444,\"#bd3786\"],[0.5555555555555556,\"#d8576b\"],[0.6666666666666666,\"#ed7953\"],[0.7777777777777778,\"#fb9f3a\"],[0.8888888888888888,\"#fdca26\"],[1.0,\"#f0f921\"]]}],\"contourcarpet\":[{\"type\":\"contourcarpet\",\"colorbar\":{\"outlinewidth\":0,\"ticks\":\"\"}}],\"contour\":[{\"type\":\"contour\",\"colorbar\":{\"outlinewidth\":0,\"ticks\":\"\"},\"colorscale\":[[0.0,\"#0d0887\"],[0.1111111111111111,\"#46039f\"],[0.2222222222222222,\"#7201a8\"],[0.3333333333333333,\"#9c179e\"],[0.4444444444444444,\"#bd3786\"],[0.5555555555555556,\"#d8576b\"],[0.6666666666666666,\"#ed7953\"],[0.7777777777777778,\"#fb9f3a\"],[0.8888888888888888,\"#fdca26\"],[1.0,\"#f0f921\"]]}],\"surface\":[{\"type\":\"surface\",\"colorbar\":{\"outlinewidth\":0,\"ticks\":\"\"},\"colorscale\":[[0.0,\"#0d0887\"],[0.1111111111111111,\"#46039f\"],[0.2222222222222222,\"#7201a8\"],[0.3333333333333333,\"#9c179e\"],[0.4444444444444444,\"#bd3786\"],[0.5555555555555556,\"#d8576b\"],[0.6666666666666666,\"#ed7953\"],[0.7777777777777778,\"#fb9f3a\"],[0.8888888888888888,\"#fdca26\"],[1.0,\"#f0f921\"]]}],\"mesh3d\":[{\"type\":\"mesh3d\",\"colorbar\":{\"outlinewidth\":0,\"ticks\":\"\"}}],\"scatter\":[{\"fillpattern\":{\"fillmode\":\"overlay\",\"size\":10,\"solidity\":0.2},\"type\":\"scatter\"}],\"parcoords\":[{\"type\":\"parcoords\",\"line\":{\"colorbar\":{\"outlinewidth\":0,\"ticks\":\"\"}}}],\"scatterpolargl\":[{\"type\":\"scatterpolargl\",\"marker\":{\"colorbar\":{\"outlinewidth\":0,\"ticks\":\"\"}}}],\"bar\":[{\"error_x\":{\"color\":\"#2a3f5f\"},\"error_y\":{\"color\":\"#2a3f5f\"},\"marker\":{\"line\":{\"color\":\"#E5ECF6\",\"width\":0.5},\"pattern\":{\"fillmode\":\"overlay\",\"size\":10,\"solidity\":0.2}},\"type\":\"bar\"}],\"scattergeo\":[{\"type\":\"scattergeo\",\"marker\":{\"colorbar\":{\"outlinewidth\":0,\"ticks\":\"\"}}}],\"scatterpolar\":[{\"type\":\"scatterpolar\",\"marker\":{\"colorbar\":{\"outlinewidth\":0,\"ticks\":\"\"}}}],\"histogram\":[{\"marker\":{\"pattern\":{\"fillmode\":\"overlay\",\"size\":10,\"solidity\":0.2}},\"type\":\"histogram\"}],\"scattergl\":[{\"type\":\"scattergl\",\"marker\":{\"colorbar\":{\"outlinewidth\":0,\"ticks\":\"\"}}}],\"scatter3d\":[{\"type\":\"scatter3d\",\"line\":{\"colorbar\":{\"outlinewidth\":0,\"ticks\":\"\"}},\"marker\":{\"colorbar\":{\"outlinewidth\":0,\"ticks\":\"\"}}}],\"scattermapbox\":[{\"type\":\"scattermapbox\",\"marker\":{\"colorbar\":{\"outlinewidth\":0,\"ticks\":\"\"}}}],\"scatterternary\":[{\"type\":\"scatterternary\",\"marker\":{\"colorbar\":{\"outlinewidth\":0,\"ticks\":\"\"}}}],\"scattercarpet\":[{\"type\":\"scattercarpet\",\"marker\":{\"colorbar\":{\"outlinewidth\":0,\"ticks\":\"\"}}}],\"carpet\":[{\"aaxis\":{\"endlinecolor\":\"#2a3f5f\",\"gridcolor\":\"white\",\"linecolor\":\"white\",\"minorgridcolor\":\"white\",\"startlinecolor\":\"#2a3f5f\"},\"baxis\":{\"endlinecolor\":\"#2a3f5f\",\"gridcolor\":\"white\",\"linecolor\":\"white\",\"minorgridcolor\":\"white\",\"startlinecolor\":\"#2a3f5f\"},\"type\":\"carpet\"}],\"table\":[{\"cells\":{\"fill\":{\"color\":\"#EBF0F8\"},\"line\":{\"color\":\"white\"}},\"header\":{\"fill\":{\"color\":\"#C8D4E3\"},\"line\":{\"color\":\"white\"}},\"type\":\"table\"}],\"barpolar\":[{\"marker\":{\"line\":{\"color\":\"#E5ECF6\",\"width\":0.5},\"pattern\":{\"fillmode\":\"overlay\",\"size\":10,\"solidity\":0.2}},\"type\":\"barpolar\"}],\"pie\":[{\"automargin\":true,\"type\":\"pie\"}]},\"layout\":{\"autotypenumbers\":\"strict\",\"colorway\":[\"#636efa\",\"#EF553B\",\"#00cc96\",\"#ab63fa\",\"#FFA15A\",\"#19d3f3\",\"#FF6692\",\"#B6E880\",\"#FF97FF\",\"#FECB52\"],\"font\":{\"color\":\"#2a3f5f\"},\"hovermode\":\"closest\",\"hoverlabel\":{\"align\":\"left\"},\"paper_bgcolor\":\"white\",\"plot_bgcolor\":\"#E5ECF6\",\"polar\":{\"bgcolor\":\"#E5ECF6\",\"angularaxis\":{\"gridcolor\":\"white\",\"linecolor\":\"white\",\"ticks\":\"\"},\"radialaxis\":{\"gridcolor\":\"white\",\"linecolor\":\"white\",\"ticks\":\"\"}},\"ternary\":{\"bgcolor\":\"#E5ECF6\",\"aaxis\":{\"gridcolor\":\"white\",\"linecolor\":\"white\",\"ticks\":\"\"},\"baxis\":{\"gridcolor\":\"white\",\"linecolor\":\"white\",\"ticks\":\"\"},\"caxis\":{\"gridcolor\":\"white\",\"linecolor\":\"white\",\"ticks\":\"\"}},\"coloraxis\":{\"colorbar\":{\"outlinewidth\":0,\"ticks\":\"\"}},\"colorscale\":{\"sequential\":[[0.0,\"#0d0887\"],[0.1111111111111111,\"#46039f\"],[0.2222222222222222,\"#7201a8\"],[0.3333333333333333,\"#9c179e\"],[0.4444444444444444,\"#bd3786\"],[0.5555555555555556,\"#d8576b\"],[0.6666666666666666,\"#ed7953\"],[0.7777777777777778,\"#fb9f3a\"],[0.8888888888888888,\"#fdca26\"],[1.0,\"#f0f921\"]],\"sequentialminus\":[[0.0,\"#0d0887\"],[0.1111111111111111,\"#46039f\"],[0.2222222222222222,\"#7201a8\"],[0.3333333333333333,\"#9c179e\"],[0.4444444444444444,\"#bd3786\"],[0.5555555555555556,\"#d8576b\"],[0.6666666666666666,\"#ed7953\"],[0.7777777777777778,\"#fb9f3a\"],[0.8888888888888888,\"#fdca26\"],[1.0,\"#f0f921\"]],\"diverging\":[[0,\"#8e0152\"],[0.1,\"#c51b7d\"],[0.2,\"#de77ae\"],[0.3,\"#f1b6da\"],[0.4,\"#fde0ef\"],[0.5,\"#f7f7f7\"],[0.6,\"#e6f5d0\"],[0.7,\"#b8e186\"],[0.8,\"#7fbc41\"],[0.9,\"#4d9221\"],[1,\"#276419\"]]},\"xaxis\":{\"gridcolor\":\"white\",\"linecolor\":\"white\",\"ticks\":\"\",\"title\":{\"standoff\":15},\"zerolinecolor\":\"white\",\"automargin\":true,\"zerolinewidth\":2},\"yaxis\":{\"gridcolor\":\"white\",\"linecolor\":\"white\",\"ticks\":\"\",\"title\":{\"standoff\":15},\"zerolinecolor\":\"white\",\"automargin\":true,\"zerolinewidth\":2},\"scene\":{\"xaxis\":{\"backgroundcolor\":\"#E5ECF6\",\"gridcolor\":\"white\",\"linecolor\":\"white\",\"showbackground\":true,\"ticks\":\"\",\"zerolinecolor\":\"white\",\"gridwidth\":2},\"yaxis\":{\"backgroundcolor\":\"#E5ECF6\",\"gridcolor\":\"white\",\"linecolor\":\"white\",\"showbackground\":true,\"ticks\":\"\",\"zerolinecolor\":\"white\",\"gridwidth\":2},\"zaxis\":{\"backgroundcolor\":\"#E5ECF6\",\"gridcolor\":\"white\",\"linecolor\":\"white\",\"showbackground\":true,\"ticks\":\"\",\"zerolinecolor\":\"white\",\"gridwidth\":2}},\"shapedefaults\":{\"line\":{\"color\":\"#2a3f5f\"}},\"annotationdefaults\":{\"arrowcolor\":\"#2a3f5f\",\"arrowhead\":0,\"arrowwidth\":1},\"geo\":{\"bgcolor\":\"white\",\"landcolor\":\"#E5ECF6\",\"subunitcolor\":\"white\",\"showland\":true,\"showlakes\":true,\"lakecolor\":\"white\"},\"title\":{\"x\":0.05},\"mapbox\":{\"style\":\"light\"}}},\"yaxis\":{\"range\":[-2,2]},\"xaxis\":{\"range\":[-1,2]}},                        {\"responsive\": true}                    ).then(function(){\n",
       "                            \n",
       "var gd = document.getElementById('0584ff89-6e06-43c8-a7cb-47e3ce441a39');\n",
       "var x = new MutationObserver(function (mutations, observer) {{\n",
       "        var display = window.getComputedStyle(gd).display;\n",
       "        if (!display || display === 'none') {{\n",
       "            console.log([gd, 'removed!']);\n",
       "            Plotly.purge(gd);\n",
       "            observer.disconnect();\n",
       "        }}\n",
       "}});\n",
       "\n",
       "// Listen for the removal of the full notebook cells\n",
       "var notebookContainer = gd.closest('#notebook-container');\n",
       "if (notebookContainer) {{\n",
       "    x.observe(notebookContainer, {childList: true});\n",
       "}}\n",
       "\n",
       "// Listen for the clearing of the current output cell\n",
       "var outputEl = gd.closest('.output');\n",
       "if (outputEl) {{\n",
       "    x.observe(outputEl, {childList: true});\n",
       "}}\n",
       "\n",
       "                        })                };                });            </script>        </div>"
      ]
     },
     "metadata": {},
     "output_type": "display_data"
    }
   ],
   "source": [
    "np.random.seed(0)\n",
    "\n",
    "fig = go.Figure()\n",
    "\n",
    "cluster_labels = df_kmeans['label'].unique()\n",
    "\n",
    "for idx, cluster_number in enumerate(cluster_labels):\n",
    "    \n",
    "    df_cluster = df_kmeans[df_kmeans['label']==cluster_number].copy()\n",
    "    n_count = df_cluster.shape[0]\n",
    "    center = mu_list[idx]\n",
    "    \n",
    "    # Generate coordinates\n",
    "    df_simul_cluster = pd.DataFrame()\n",
    "    df_simul_cluster['x'] = np.random.normal(center[0],1-dict_silhouette_clusters[cluster_number],n_count)\n",
    "    df_simul_cluster['y'] = np.random.normal(center[1],1-dict_silhouette_clusters[cluster_number],n_count)\n",
    "    \n",
    "    # Associate coordinates to points w.r.t their distance to the center\n",
    "    df_simul_cluster['distance_to_center'] = df_simul_cluster.apply(lambda x: distance_to_center(x, center), axis=1)\n",
    "    df_simul_cluster = df_simul_cluster.sort_values(by='distance_to_center')\n",
    "    df_cluster = df_cluster.sort_values(by='silhouette', ascending=False)\n",
    "    df_cluster['x'] = df_simul_cluster['x'].values\n",
    "    df_cluster['y'] = df_simul_cluster['y'].values\n",
    "    \n",
    "    d = df_cluster.drop(columns=['x','y','label']).to_dict('index')\n",
    "    info = [d[x] for x in d.keys()]\n",
    "    info_str = [str(x).replace(',','<br>').replace('{','').replace('}','') for x in info]\n",
    "#     df_cluster['info'] = info_str\n",
    "    \n",
    "    # Graph\n",
    "    fig.add_trace(go.Scatter(\n",
    "                             x=df_cluster['x'], \n",
    "                             y=df_cluster['y'], \n",
    "                             text=['client ' + val for val in df_cluster['client_id'].values],\n",
    "                             name=dict_label[cluster_number],\n",
    "                             mode='markers',\n",
    "                             marker=dict(size=20),\n",
    "                             marker_line=dict(width=2),\n",
    "                             hovertemplate=info_str\n",
    "                            )\n",
    "                 )\n",
    "\n",
    "fig.update_layout(yaxis_range=[-2,2])\n",
    "fig.update_layout(xaxis_range=[-1,2])\n",
    "fig.show()"
   ]
  },
  {
   "cell_type": "code",
   "execution_count": 39,
   "id": "05e86d1a",
   "metadata": {},
   "outputs": [
    {
     "data": {
      "text/html": [
       "<div>\n",
       "<style scoped>\n",
       "    .dataframe tbody tr th:only-of-type {\n",
       "        vertical-align: middle;\n",
       "    }\n",
       "\n",
       "    .dataframe tbody tr th {\n",
       "        vertical-align: top;\n",
       "    }\n",
       "\n",
       "    .dataframe thead th {\n",
       "        text-align: right;\n",
       "    }\n",
       "</style>\n",
       "<table border=\"1\" class=\"dataframe\">\n",
       "  <thead>\n",
       "    <tr style=\"text-align: right;\">\n",
       "      <th></th>\n",
       "      <th>client_id</th>\n",
       "      <th>nb_trades</th>\n",
       "      <th>nb_products</th>\n",
       "      <th>aum</th>\n",
       "      <th>age</th>\n",
       "      <th>label</th>\n",
       "      <th>silhouette</th>\n",
       "    </tr>\n",
       "  </thead>\n",
       "  <tbody>\n",
       "    <tr>\n",
       "      <th>1</th>\n",
       "      <td>002</td>\n",
       "      <td>1</td>\n",
       "      <td>2</td>\n",
       "      <td>3000000</td>\n",
       "      <td>33</td>\n",
       "      <td>1</td>\n",
       "      <td>0.646431</td>\n",
       "    </tr>\n",
       "    <tr>\n",
       "      <th>2</th>\n",
       "      <td>003</td>\n",
       "      <td>2</td>\n",
       "      <td>2</td>\n",
       "      <td>3500000</td>\n",
       "      <td>45</td>\n",
       "      <td>1</td>\n",
       "      <td>0.757484</td>\n",
       "    </tr>\n",
       "    <tr>\n",
       "      <th>9</th>\n",
       "      <td>010</td>\n",
       "      <td>3</td>\n",
       "      <td>2</td>\n",
       "      <td>4000000</td>\n",
       "      <td>46</td>\n",
       "      <td>1</td>\n",
       "      <td>0.757159</td>\n",
       "    </tr>\n",
       "    <tr>\n",
       "      <th>10</th>\n",
       "      <td>011</td>\n",
       "      <td>15</td>\n",
       "      <td>6</td>\n",
       "      <td>4000000</td>\n",
       "      <td>43</td>\n",
       "      <td>1</td>\n",
       "      <td>0.504055</td>\n",
       "    </tr>\n",
       "  </tbody>\n",
       "</table>\n",
       "</div>"
      ],
      "text/plain": [
       "   client_id  nb_trades  nb_products      aum  age  label  silhouette\n",
       "1        002          1            2  3000000   33      1    0.646431\n",
       "2        003          2            2  3500000   45      1    0.757484\n",
       "9        010          3            2  4000000   46      1    0.757159\n",
       "10       011         15            6  4000000   43      1    0.504055"
      ]
     },
     "execution_count": 39,
     "metadata": {},
     "output_type": "execute_result"
    }
   ],
   "source": [
    "df_kmeans[df_kmeans['label']==1]"
   ]
  },
  {
   "cell_type": "markdown",
   "id": "ab4d6045",
   "metadata": {},
   "source": [
    "# GMM"
   ]
  },
  {
   "cell_type": "code",
   "execution_count": 40,
   "id": "99e62a2d",
   "metadata": {},
   "outputs": [],
   "source": [
    "df_gmm = df.copy()\n",
    "df_gmm_pre = df_pre.copy()"
   ]
  },
  {
   "cell_type": "markdown",
   "id": "7f869bfa",
   "metadata": {},
   "source": [
    "#### Clustering"
   ]
  },
  {
   "cell_type": "code",
   "execution_count": 41,
   "id": "da5b2d08",
   "metadata": {},
   "outputs": [],
   "source": [
    "gm = GaussianMixture(n_components=3, random_state=0).fit(df_gmm_pre)"
   ]
  },
  {
   "cell_type": "code",
   "execution_count": 42,
   "id": "146fdb96",
   "metadata": {},
   "outputs": [],
   "source": [
    "df_gmm['label'] = gm.predict(df_gmm_pre)"
   ]
  },
  {
   "cell_type": "code",
   "execution_count": 43,
   "id": "69832676",
   "metadata": {},
   "outputs": [],
   "source": [
    "dict_label = {\n",
    "    0:'active & old',\n",
    "    1:'passive & wealthy',\n",
    "    2:'diversified & young'\n",
    "}"
   ]
  },
  {
   "cell_type": "markdown",
   "id": "565ed608",
   "metadata": {},
   "source": [
    "#### Cluster quality"
   ]
  },
  {
   "cell_type": "code",
   "execution_count": 44,
   "id": "915ebe53",
   "metadata": {},
   "outputs": [],
   "source": [
    "df_gmm['silhouette'] = metrics.silhouette_samples(df_gmm_pre, df_gmm['label'])"
   ]
  },
  {
   "cell_type": "code",
   "execution_count": 45,
   "id": "9fbee52c",
   "metadata": {},
   "outputs": [],
   "source": [
    "dict_silhouette_clusters = {\n",
    "    0:np.mean(df_gmm[df_gmm['label']==0]['silhouette']),\n",
    "    1:np.mean(df_gmm[df_gmm['label']==1]['silhouette']),\n",
    "    2:np.mean(df_gmm[df_gmm['label']==2]['silhouette'])\n",
    "}"
   ]
  },
  {
   "cell_type": "code",
   "execution_count": 46,
   "id": "21f36a34",
   "metadata": {},
   "outputs": [
    {
     "data": {
      "application/vnd.plotly.v1+json": {
       "config": {
        "plotlyServerURL": "https://plot.ly"
       },
       "data": [
        {
         "hovertemplate": [
          "'client_id': '0022'<br> 'nb_trades': 2<br> 'nb_products': 2<br> 'aum': 152167<br> 'age': 42<br> 'silhouette': 0.7016916371074822",
          "'client_id': '0027'<br> 'nb_trades': 2<br> 'nb_products': 2<br> 'aum': 165262<br> 'age': 40<br> 'silhouette': 0.7006076902309724",
          "'client_id': '003'<br> 'nb_trades': 2<br> 'nb_products': 1<br> 'aum': 160614<br> 'age': 45<br> 'silhouette': 0.6864185106165799",
          "'client_id': '006'<br> 'nb_trades': 1<br> 'nb_products': 4<br> 'aum': 168491<br> 'age': 41<br> 'silhouette': 0.6688879090216626",
          "'client_id': '007'<br> 'nb_trades': 1<br> 'nb_products': 1<br> 'aum': 194243<br> 'age': 35<br> 'silhouette': 0.6592862647329463",
          "'client_id': '009'<br> 'nb_trades': 2<br> 'nb_products': 1<br> 'aum': 106364<br> 'age': 45<br> 'silhouette': 0.6567053270667068",
          "'client_id': '0033'<br> 'nb_trades': 1<br> 'nb_products': 1<br> 'aum': 207852<br> 'age': 49<br> 'silhouette': 0.653100980067294",
          "'client_id': '005'<br> 'nb_trades': 1<br> 'nb_products': 4<br> 'aum': 229418<br> 'age': 44<br> 'silhouette': 0.6529733399833354",
          "'client_id': '002'<br> 'nb_trades': 1<br> 'nb_products': 4<br> 'aum': 130392<br> 'age': 44<br> 'silhouette': 0.6511539517550113",
          "'client_id': '0018'<br> 'nb_trades': 3<br> 'nb_products': 1<br> 'aum': 158589<br> 'age': 48<br> 'silhouette': 0.6506865671905436",
          "'client_id': '0026'<br> 'nb_trades': 3<br> 'nb_products': 1<br> 'aum': 122266<br> 'age': 37<br> 'silhouette': 0.6448561751397293",
          "'client_id': '0025'<br> 'nb_trades': 1<br> 'nb_products': 3<br> 'aum': 240450<br> 'age': 34<br> 'silhouette': 0.641621437128159",
          "'client_id': '0016'<br> 'nb_trades': 2<br> 'nb_products': 4<br> 'aum': 180571<br> 'age': 48<br> 'silhouette': 0.6306135173438054",
          "'client_id': '0024'<br> 'nb_trades': 3<br> 'nb_products': 2<br> 'aum': 261941<br> 'age': 47<br> 'silhouette': 0.6292995135695943",
          "'client_id': '0031'<br> 'nb_trades': 3<br> 'nb_products': 4<br> 'aum': 259454<br> 'age': 40<br> 'silhouette': 0.6184689087022589",
          "'client_id': '0011'<br> 'nb_trades': 3<br> 'nb_products': 1<br> 'aum': 272249<br> 'age': 46<br> 'silhouette': 0.6161928351059146",
          "'client_id': '0013'<br> 'nb_trades': 2<br> 'nb_products': 1<br> 'aum': 244651<br> 'age': 32<br> 'silhouette': 0.6161574880683379",
          "'client_id': '0030'<br> 'nb_trades': 3<br> 'nb_products': 3<br> 'aum': 260519<br> 'age': 47<br> 'silhouette': 0.6154033465648346",
          "'client_id': '0029'<br> 'nb_trades': 3<br> 'nb_products': 4<br> 'aum': 149578<br> 'age': 33<br> 'silhouette': 0.6024231266095803",
          "'client_id': '008'<br> 'nb_trades': 2<br> 'nb_products': 3<br> 'aum': 202613<br> 'age': 52<br> 'silhouette': 0.5982603847066523",
          "'client_id': '0015'<br> 'nb_trades': 3<br> 'nb_products': 4<br> 'aum': 271481<br> 'age': 36<br> 'silhouette': 0.5973230697632093",
          "'client_id': '0020'<br> 'nb_trades': 1<br> 'nb_products': 4<br> 'aum': 173656<br> 'age': 51<br> 'silhouette': 0.5935839608293265",
          "'client_id': '0014'<br> 'nb_trades': 2<br> 'nb_products': 1<br> 'aum': 293113<br> 'age': 31<br> 'silhouette': 0.5766629662433542",
          "'client_id': '0032'<br> 'nb_trades': 4<br> 'nb_products': 4<br> 'aum': 216382<br> 'age': 32<br> 'silhouette': 0.5748625193140628",
          "'client_id': '001'<br> 'nb_trades': 3<br> 'nb_products': 4<br> 'aum': 298890<br> 'age': 36<br> 'silhouette': 0.5695936845084545",
          "'client_id': '0021'<br> 'nb_trades': 1<br> 'nb_products': 3<br> 'aum': 123646<br> 'age': 56<br> 'silhouette': 0.5156067911377009",
          "'client_id': '004'<br> 'nb_trades': 4<br> 'nb_products': 1<br> 'aum': 201998<br> 'age': 54<br> 'silhouette': 0.513417617533127",
          "'client_id': '0010'<br> 'nb_trades': 4<br> 'nb_products': 1<br> 'aum': 246225<br> 'age': 53<br> 'silhouette': 0.504197628890924",
          "'client_id': '0028'<br> 'nb_trades': 3<br> 'nb_products': 3<br> 'aum': 107709<br> 'age': 55<br> 'silhouette': 0.49595952246884134",
          "'client_id': '0017'<br> 'nb_trades': 4<br> 'nb_products': 1<br> 'aum': 120053<br> 'age': 57<br> 'silhouette': 0.4435416431726602",
          "'client_id': '0019'<br> 'nb_trades': 1<br> 'nb_products': 3<br> 'aum': 220576<br> 'age': 59<br> 'silhouette': 0.4120328425956592",
          "'client_id': '0023'<br> 'nb_trades': 4<br> 'nb_products': 4<br> 'aum': 272897<br> 'age': 53<br> 'silhouette': 0.37738981813733513",
          "'client_id': '0012'<br> 'nb_trades': 4<br> 'nb_products': 1<br> 'aum': 258754<br> 'age': 58<br> 'silhouette': 0.34577546919603525"
         ],
         "marker": {
          "line": {
           "width": 2
          },
          "size": 20
         },
         "mode": "markers",
         "name": "diversified & young",
         "text": [
          "client 0022",
          "client 0027",
          "client 003",
          "client 006",
          "client 007",
          "client 009",
          "client 0033",
          "client 005",
          "client 002",
          "client 0018",
          "client 0026",
          "client 0025",
          "client 0016",
          "client 0024",
          "client 0031",
          "client 0011",
          "client 0013",
          "client 0030",
          "client 0029",
          "client 008",
          "client 0015",
          "client 0020",
          "client 0014",
          "client 0032",
          "client 001",
          "client 0021",
          "client 004",
          "client 0010",
          "client 0028",
          "client 0017",
          "client 0019",
          "client 0023",
          "client 0012"
         ],
         "type": "scatter",
         "x": [
          2.018837594008443,
          2.155679694919887,
          2.1288818477662863,
          2.1647343374592984,
          2.269077812468477,
          1.9229412669013108,
          1.6944699224062854,
          2.313299480334666,
          2.182726973399311,
          1.9155416672520762,
          2.3558659484756124,
          1.6345216482831855,
          2.4029210270028334,
          1.6483909503597887,
          2.3911267439800823,
          1.597680060014495,
          1.9376901654968348,
          2.0500904464749787,
          1.957507477541384,
          2.615073578788444,
          2.5986866602545486,
          2.631005422541345,
          1.401275396721811,
          2.137365060775647,
          2.604896871500066,
          2.0637878338300006,
          2.1690327470410717,
          2.0592989999037643,
          2.7688251560667716,
          2.9343990720633095,
          2.9225175725154755,
          2.726214568624793,
          0.9490003502178272
         ],
         "y": [
          -0.14933112386486558,
          0.07304173804938334,
          0.1592777171408661,
          -0.14322640256098607,
          -0.01160189199749338,
          -0.2768345140750144,
          0.02738341414274402,
          -0.18034382069068533,
          0.32007260139476457,
          -0.3686403433218258,
          0.1763331146587188,
          -0.16540278407106682,
          0.06436481287662382,
          -0.21028521828099253,
          -0.12445019678978389,
          -0.15945239848675447,
          -0.4316620427659376,
          -0.5157433361053315,
          -0.5845845312046092,
          -0.08757965214459507,
          -0.20981057629354843,
          -0.14801870517204654,
          -0.26113394349361363,
          -0.6643998585687455,
          -0.3347512208430758,
          -0.7106657454028656,
          -0.7024271548826253,
          0.8030836020089864,
          0.4949885785442112,
          0.12451983028753294,
          0.5064787436892545,
          -0.8154424986270339,
          -0.4860356294170429
         ]
        },
        {
         "hovertemplate": [
          "'client_id': '0045'<br> 'nb_trades': 13<br> 'nb_products': 7<br> 'aum': 411508<br> 'age': 65<br> 'silhouette': 0.6551943269733458",
          "'client_id': '0047'<br> 'nb_trades': 14<br> 'nb_products': 6<br> 'aum': 341637<br> 'age': 63<br> 'silhouette': 0.6490491490487386",
          "'client_id': '0035'<br> 'nb_trades': 13<br> 'nb_products': 4<br> 'aum': 394038<br> 'age': 69<br> 'silhouette': 0.6176534394415301",
          "'client_id': '0061'<br> 'nb_trades': 12<br> 'nb_products': 7<br> 'aum': 462421<br> 'age': 67<br> 'silhouette': 0.6175486259469195",
          "'client_id': '0044'<br> 'nb_trades': 11<br> 'nb_products': 7<br> 'aum': 278116<br> 'age': 72<br> 'silhouette': 0.598225962010438",
          "'client_id': '0055'<br> 'nb_trades': 14<br> 'nb_products': 7<br> 'aum': 360178<br> 'age': 58<br> 'silhouette': 0.5942035325125476",
          "'client_id': '0038'<br> 'nb_trades': 11<br> 'nb_products': 6<br> 'aum': 260647<br> 'age': 67<br> 'silhouette': 0.5915919330097045",
          "'client_id': '0057'<br> 'nb_trades': 10<br> 'nb_products': 7<br> 'aum': 324064<br> 'age': 74<br> 'silhouette': 0.5878753088548692",
          "'client_id': '0043'<br> 'nb_trades': 13<br> 'nb_products': 7<br> 'aum': 234605<br> 'age': 67<br> 'silhouette': 0.5863473164199078",
          "'client_id': '0041'<br> 'nb_trades': 13<br> 'nb_products': 6<br> 'aum': 316830<br> 'age': 58<br> 'silhouette': 0.575900605566483",
          "'client_id': '0051'<br> 'nb_trades': 10<br> 'nb_products': 7<br> 'aum': 337652<br> 'age': 61<br> 'silhouette': 0.5652767615527118",
          "'client_id': '0056'<br> 'nb_trades': 10<br> 'nb_products': 6<br> 'aum': 267509<br> 'age': 65<br> 'silhouette': 0.5569873751597443",
          "'client_id': '0049'<br> 'nb_trades': 14<br> 'nb_products': 6<br> 'aum': 345292<br> 'age': 56<br> 'silhouette': 0.5543301929017194",
          "'client_id': '0062'<br> 'nb_trades': 13<br> 'nb_products': 8<br> 'aum': 487342<br> 'age': 61<br> 'silhouette': 0.5501308479643231",
          "'client_id': '0058'<br> 'nb_trades': 11<br> 'nb_products': 4<br> 'aum': 276410<br> 'age': 71<br> 'silhouette': 0.5473458578833575",
          "'client_id': '0053'<br> 'nb_trades': 11<br> 'nb_products': 3<br> 'aum': 368235<br> 'age': 72<br> 'silhouette': 0.5413652281686686",
          "'client_id': '0039'<br> 'nb_trades': 12<br> 'nb_products': 4<br> 'aum': 414892<br> 'age': 59<br> 'silhouette': 0.5374182667540517",
          "'client_id': '0054'<br> 'nb_trades': 12<br> 'nb_products': 9<br> 'aum': 236503<br> 'age': 66<br> 'silhouette': 0.5352444774103194",
          "'client_id': '0040'<br> 'nb_trades': 10<br> 'nb_products': 4<br> 'aum': 486380<br> 'age': 72<br> 'silhouette': 0.5310223168271497",
          "'client_id': '0036'<br> 'nb_trades': 12<br> 'nb_products': 9<br> 'aum': 430567<br> 'age': 69<br> 'silhouette': 0.5254514544680553",
          "'client_id': '0050'<br> 'nb_trades': 14<br> 'nb_products': 3<br> 'aum': 265187<br> 'age': 73<br> 'silhouette': 0.5204165680073689",
          "'client_id': '0066'<br> 'nb_trades': 13<br> 'nb_products': 4<br> 'aum': 493708<br> 'age': 59<br> 'silhouette': 0.5171488352263447",
          "'client_id': '0037'<br> 'nb_trades': 10<br> 'nb_products': 7<br> 'aum': 218677<br> 'age': 73<br> 'silhouette': 0.5143499919864278",
          "'client_id': '0060'<br> 'nb_trades': 11<br> 'nb_products': 5<br> 'aum': 351811<br> 'age': 57<br> 'silhouette': 0.5022099941920182",
          "'client_id': '0059'<br> 'nb_trades': 11<br> 'nb_products': 5<br> 'aum': 236819<br> 'age': 62<br> 'silhouette': 0.48961421788487963",
          "'client_id': '0064'<br> 'nb_trades': 14<br> 'nb_products': 4<br> 'aum': 481210<br> 'age': 56<br> 'silhouette': 0.4866276029684865",
          "'client_id': '0063'<br> 'nb_trades': 14<br> 'nb_products': 7<br> 'aum': 498484<br> 'age': 71<br> 'silhouette': 0.4688824097287978",
          "'client_id': '0048'<br> 'nb_trades': 11<br> 'nb_products': 8<br> 'aum': 499446<br> 'age': 74<br> 'silhouette': 0.43325126132767644",
          "'client_id': '0034'<br> 'nb_trades': 11<br> 'nb_products': 9<br> 'aum': 263435<br> 'age': 56<br> 'silhouette': 0.4166873995006108",
          "'client_id': '0046'<br> 'nb_trades': 10<br> 'nb_products': 3<br> 'aum': 468264<br> 'age': 59<br> 'silhouette': 0.41207912970916366",
          "'client_id': '0065'<br> 'nb_trades': 13<br> 'nb_products': 5<br> 'aum': 205613<br> 'age': 55<br> 'silhouette': 0.3448570031458321",
          "'client_id': '0052'<br> 'nb_trades': 10<br> 'nb_products': 3<br> 'aum': 230434<br> 'age': 60<br> 'silhouette': 0.2672284541078339",
          "'client_id': '0042'<br> 'nb_trades': 10<br> 'nb_products': 3<br> 'aum': 241513<br> 'age': 57<br> 'silhouette': 0.19148790682070116"
         ],
         "marker": {
          "line": {
           "width": 2
          },
          "size": 20
         },
         "mode": "markers",
         "name": "active & old",
         "text": [
          "client 0045",
          "client 0047",
          "client 0035",
          "client 0061",
          "client 0044",
          "client 0055",
          "client 0038",
          "client 0057",
          "client 0043",
          "client 0041",
          "client 0051",
          "client 0056",
          "client 0049",
          "client 0062",
          "client 0058",
          "client 0053",
          "client 0039",
          "client 0054",
          "client 0040",
          "client 0036",
          "client 0050",
          "client 0066",
          "client 0037",
          "client 0060",
          "client 0059",
          "client 0064",
          "client 0063",
          "client 0048",
          "client 0034",
          "client 0046",
          "client 0065",
          "client 0052",
          "client 0042"
         ],
         "type": "scatter",
         "x": [
          -0.8995420592638399,
          -0.9949354911999488,
          -1.0867837253418415,
          -0.9387860817211685,
          -0.805937260835107,
          -0.9729095896528683,
          -0.7753955362019772,
          -0.5655014602540922,
          -1.1502721358928774,
          -0.6591962889090155,
          -0.5289345491540766,
          -0.4914029036454943,
          -0.9377872573820955,
          -0.6483354017711365,
          -0.9749450100026934,
          -1.5955975135658838,
          -1.194465634898642,
          -0.4103741334286938,
          -0.282166527802465,
          -0.4314354542538855,
          -1.5164595593192112,
          -1.4376201412230645,
          -1.786298817264862,
          -1.4200143925759905,
          -1.7409813632791966,
          -0.8281126482966494,
          -0.7767847447224399,
          -0.1386153349009479,
          -1.2791984224652766,
          -0.08554966973650513,
          -1.330306655971984,
          -1.5619904740115516,
          -0.450429199419478
         ],
         "y": [
          1.659877097970539,
          1.9285831869037142,
          1.9136133459476103,
          1.9921486061667688,
          1.3715285218675044,
          1.3166530501015536,
          2.1191021845351385,
          1.602783878796525,
          2.1690662446885183,
          2.0563209022331663,
          1.522161793950307,
          1.8759009863387732,
          1.1662144186020291,
          2.1996230428761265,
          1.1192536878065602,
          1.5325486328948768,
          2.3718107875386827,
          1.3970376555598754,
          1.6572842902991984,
          2.1768617205943155,
          1.20177328462497,
          1.0819818403744335,
          1.9259436314806955,
          2.4461522735742713,
          2.188941898949567,
          2.6240121356000876,
          2.6403569462559853,
          1.3606947085664243,
          2.632836533728367,
          2.0282416873526197,
          2.659549626288952,
          2.653338586026009,
          2.6695238717093366
         ]
        },
        {
         "hovertemplate": [
          "'client_id': '0081'<br> 'nb_trades': 22<br> 'nb_products': 15<br> 'aum': 709504<br> 'age': 84<br> 'silhouette': 0.6627874287923095",
          "'client_id': '0094'<br> 'nb_trades': 21<br> 'nb_products': 15<br> 'aum': 734105<br> 'age': 87<br> 'silhouette': 0.6549142524830961",
          "'client_id': '0080'<br> 'nb_trades': 22<br> 'nb_products': 14<br> 'aum': 681324<br> 'age': 83<br> 'silhouette': 0.6525610135048547",
          "'client_id': '0083'<br> 'nb_trades': 24<br> 'nb_products': 15<br> 'aum': 801988<br> 'age': 86<br> 'silhouette': 0.644972015106427",
          "'client_id': '0069'<br> 'nb_trades': 20<br> 'nb_products': 15<br> 'aum': 727622<br> 'age': 80<br> 'silhouette': 0.627648875032173",
          "'client_id': '0088'<br> 'nb_trades': 23<br> 'nb_products': 18<br> 'aum': 744736<br> 'age': 83<br> 'silhouette': 0.6256026412559745",
          "'client_id': '0071'<br> 'nb_trades': 22<br> 'nb_products': 18<br> 'aum': 710646<br> 'age': 85<br> 'silhouette': 0.6255098627635381",
          "'client_id': '0073'<br> 'nb_trades': 23<br> 'nb_products': 18<br> 'aum': 774311<br> 'age': 84<br> 'silhouette': 0.6238905747189314",
          "'client_id': '0090'<br> 'nb_trades': 20<br> 'nb_products': 14<br> 'aum': 831559<br> 'age': 85<br> 'silhouette': 0.6139091921131064",
          "'client_id': '0099'<br> 'nb_trades': 21<br> 'nb_products': 12<br> 'aum': 761807<br> 'age': 85<br> 'silhouette': 0.6082894734451729",
          "'client_id': '0075'<br> 'nb_trades': 20<br> 'nb_products': 12<br> 'aum': 664104<br> 'age': 88<br> 'silhouette': 0.5869254824944656",
          "'client_id': '0091'<br> 'nb_trades': 24<br> 'nb_products': 17<br> 'aum': 945248<br> 'age': 83<br> 'silhouette': 0.5715333349484766",
          "'client_id': '0074'<br> 'nb_trades': 20<br> 'nb_products': 16<br> 'aum': 928960<br> 'age': 82<br> 'silhouette': 0.5667434304388504",
          "'client_id': '0079'<br> 'nb_trades': 24<br> 'nb_products': 13<br> 'aum': 937402<br> 'age': 85<br> 'silhouette': 0.5650241137669992",
          "'client_id': '0096'<br> 'nb_trades': 20<br> 'nb_products': 17<br> 'aum': 657509<br> 'age': 75<br> 'silhouette': 0.5609644766809376",
          "'client_id': '0086'<br> 'nb_trades': 24<br> 'nb_products': 13<br> 'aum': 535143<br> 'age': 86<br> 'silhouette': 0.5605844166425893",
          "'client_id': '0067'<br> 'nb_trades': 20<br> 'nb_products': 17<br> 'aum': 562594<br> 'age': 81<br> 'silhouette': 0.5588184569783006",
          "'client_id': '0084'<br> 'nb_trades': 22<br> 'nb_products': 16<br> 'aum': 984285<br> 'age': 87<br> 'silhouette': 0.5564285006672801",
          "'client_id': '0077'<br> 'nb_trades': 24<br> 'nb_products': 12<br> 'aum': 583338<br> 'age': 79<br> 'silhouette': 0.5414008035940845",
          "'client_id': '0070'<br> 'nb_trades': 20<br> 'nb_products': 12<br> 'aum': 577468<br> 'age': 81<br> 'silhouette': 0.5141261833362823",
          "'client_id': '00100'<br> 'nb_trades': 21<br> 'nb_products': 15<br> 'aum': 477699<br> 'age': 84<br> 'silhouette': 0.5120847968887051",
          "'client_id': '0092'<br> 'nb_trades': 23<br> 'nb_products': 9<br> 'aum': 780611<br> 'age': 85<br> 'silhouette': 0.5016966143839774",
          "'client_id': '0072'<br> 'nb_trades': 22<br> 'nb_products': 16<br> 'aum': 470253<br> 'age': 79<br> 'silhouette': 0.4899393119598332",
          "'client_id': '0089'<br> 'nb_trades': 22<br> 'nb_products': 19<br> 'aum': 415937<br> 'age': 88<br> 'silhouette': 0.44636198894876605",
          "'client_id': '0098'<br> 'nb_trades': 20<br> 'nb_products': 16<br> 'aum': 437662<br> 'age': 82<br> 'silhouette': 0.44497703794245574",
          "'client_id': '0082'<br> 'nb_trades': 24<br> 'nb_products': 8<br> 'aum': 671381<br> 'age': 87<br> 'silhouette': 0.44074422193175194",
          "'client_id': '0068'<br> 'nb_trades': 20<br> 'nb_products': 8<br> 'aum': 617948<br> 'age': 89<br> 'silhouette': 0.35909946257167713",
          "'client_id': '0097'<br> 'nb_trades': 20<br> 'nb_products': 8<br> 'aum': 715030<br> 'age': 79<br> 'silhouette': 0.35242756727755903",
          "'client_id': '0076'<br> 'nb_trades': 21<br> 'nb_products': 9<br> 'aum': 641529<br> 'age': 75<br> 'silhouette': 0.34045868082101693",
          "'client_id': '0095'<br> 'nb_trades': 20<br> 'nb_products': 12<br> 'aum': 426062<br> 'age': 83<br> 'silhouette': 0.32567523568093937",
          "'client_id': '0085'<br> 'nb_trades': 20<br> 'nb_products': 9<br> 'aum': 501445<br> 'age': 83<br> 'silhouette': 0.2470649223673078",
          "'client_id': '0093'<br> 'nb_trades': 21<br> 'nb_products': 11<br> 'aum': 415613<br> 'age': 79<br> 'silhouette': 0.22776874001646766",
          "'client_id': '0087'<br> 'nb_trades': 20<br> 'nb_products': 11<br> 'aum': 440361<br> 'age': 77<br> 'silhouette': 0.20159821722475837",
          "'client_id': '0078'<br> 'nb_trades': 21<br> 'nb_products': 8<br> 'aum': 453373<br> 'age': 77<br> 'silhouette': -0.008162146419777118"
         ],
         "marker": {
          "line": {
           "width": 2
          },
          "size": 20
         },
         "mode": "markers",
         "name": "passive & wealthy",
         "text": [
          "client 0081",
          "client 0094",
          "client 0080",
          "client 0083",
          "client 0069",
          "client 0088",
          "client 0071",
          "client 0073",
          "client 0090",
          "client 0099",
          "client 0075",
          "client 0091",
          "client 0074",
          "client 0079",
          "client 0096",
          "client 0086",
          "client 0067",
          "client 0084",
          "client 0077",
          "client 0070",
          "client 00100",
          "client 0092",
          "client 0072",
          "client 0089",
          "client 0098",
          "client 0082",
          "client 0068",
          "client 0097",
          "client 0076",
          "client 0095",
          "client 0085",
          "client 0093",
          "client 0087",
          "client 0078"
         ],
         "type": "scatter",
         "x": [
          -1.105347897091465,
          -1.034513454461824,
          -1.2518818281854653,
          -1.049792743037689,
          -0.657891258411379,
          -0.7777759564659175,
          -0.9157042384163213,
          -1.4179744707618767,
          -0.9557206228040893,
          -0.6788304074216882,
          -0.7997180813814952,
          -0.5223258654408593,
          -1.461663352726489,
          -0.7083869759851278,
          -1.5461795155386822,
          -1.5803366859991759,
          -1.3410463377144215,
          -0.5198267738711548,
          -1.2214291722018793,
          -1.5528200637438028,
          -1.3766626167968299,
          -1.321581600644694,
          -1.665525235999575,
          -0.9839015726803302,
          -0.5729601758831183,
          -1.3355566961509027,
          -0.43019954750914835,
          -0.4350647144228915,
          -1.7542092653279928,
          -0.02413173964411841,
          -1.2334481898948093,
          -0.1334703262058553,
          0.20528463936223829,
          -1.6197687286787787
         ],
         "y": [
          -1.5708530707447954,
          -1.41583759554853,
          -1.467401623126568,
          -2.106087638563356,
          -1.5717558621079246,
          -1.3873317574200028,
          -2.1383783364531386,
          -1.7056681180203763,
          -1.315560413157086,
          -2.0807932608029285,
          -1.2987054288263613,
          -1.7232106556385043,
          -1.911084590225217,
          -1.2663229143117136,
          -1.5969888028808574,
          -1.7519182440334375,
          -2.237913567976219,
          -1.3417147667230758,
          -2.3228185884506547,
          -2.0613095062902556,
          -2.290596930750453,
          -1.131200168979918,
          -2.0575632912112645,
          -2.513324733481797,
          -1.0560966546677113,
          -0.9516652389826559,
          -2.385918164104935,
          -2.4274377145278105,
          -2.2551231041918687,
          -1.8188110246324527,
          -2.856545506653484,
          -2.5422976310274867,
          -1.9624381239462567,
          -0.6379859028745896
         ]
        }
       ],
       "layout": {
        "showlegend": false,
        "template": {
         "data": {
          "bar": [
           {
            "error_x": {
             "color": "#2a3f5f"
            },
            "error_y": {
             "color": "#2a3f5f"
            },
            "marker": {
             "line": {
              "color": "#E5ECF6",
              "width": 0.5
             },
             "pattern": {
              "fillmode": "overlay",
              "size": 10,
              "solidity": 0.2
             }
            },
            "type": "bar"
           }
          ],
          "barpolar": [
           {
            "marker": {
             "line": {
              "color": "#E5ECF6",
              "width": 0.5
             },
             "pattern": {
              "fillmode": "overlay",
              "size": 10,
              "solidity": 0.2
             }
            },
            "type": "barpolar"
           }
          ],
          "carpet": [
           {
            "aaxis": {
             "endlinecolor": "#2a3f5f",
             "gridcolor": "white",
             "linecolor": "white",
             "minorgridcolor": "white",
             "startlinecolor": "#2a3f5f"
            },
            "baxis": {
             "endlinecolor": "#2a3f5f",
             "gridcolor": "white",
             "linecolor": "white",
             "minorgridcolor": "white",
             "startlinecolor": "#2a3f5f"
            },
            "type": "carpet"
           }
          ],
          "choropleth": [
           {
            "colorbar": {
             "outlinewidth": 0,
             "ticks": ""
            },
            "type": "choropleth"
           }
          ],
          "contour": [
           {
            "colorbar": {
             "outlinewidth": 0,
             "ticks": ""
            },
            "colorscale": [
             [
              0,
              "#0d0887"
             ],
             [
              0.1111111111111111,
              "#46039f"
             ],
             [
              0.2222222222222222,
              "#7201a8"
             ],
             [
              0.3333333333333333,
              "#9c179e"
             ],
             [
              0.4444444444444444,
              "#bd3786"
             ],
             [
              0.5555555555555556,
              "#d8576b"
             ],
             [
              0.6666666666666666,
              "#ed7953"
             ],
             [
              0.7777777777777778,
              "#fb9f3a"
             ],
             [
              0.8888888888888888,
              "#fdca26"
             ],
             [
              1,
              "#f0f921"
             ]
            ],
            "type": "contour"
           }
          ],
          "contourcarpet": [
           {
            "colorbar": {
             "outlinewidth": 0,
             "ticks": ""
            },
            "type": "contourcarpet"
           }
          ],
          "heatmap": [
           {
            "colorbar": {
             "outlinewidth": 0,
             "ticks": ""
            },
            "colorscale": [
             [
              0,
              "#0d0887"
             ],
             [
              0.1111111111111111,
              "#46039f"
             ],
             [
              0.2222222222222222,
              "#7201a8"
             ],
             [
              0.3333333333333333,
              "#9c179e"
             ],
             [
              0.4444444444444444,
              "#bd3786"
             ],
             [
              0.5555555555555556,
              "#d8576b"
             ],
             [
              0.6666666666666666,
              "#ed7953"
             ],
             [
              0.7777777777777778,
              "#fb9f3a"
             ],
             [
              0.8888888888888888,
              "#fdca26"
             ],
             [
              1,
              "#f0f921"
             ]
            ],
            "type": "heatmap"
           }
          ],
          "heatmapgl": [
           {
            "colorbar": {
             "outlinewidth": 0,
             "ticks": ""
            },
            "colorscale": [
             [
              0,
              "#0d0887"
             ],
             [
              0.1111111111111111,
              "#46039f"
             ],
             [
              0.2222222222222222,
              "#7201a8"
             ],
             [
              0.3333333333333333,
              "#9c179e"
             ],
             [
              0.4444444444444444,
              "#bd3786"
             ],
             [
              0.5555555555555556,
              "#d8576b"
             ],
             [
              0.6666666666666666,
              "#ed7953"
             ],
             [
              0.7777777777777778,
              "#fb9f3a"
             ],
             [
              0.8888888888888888,
              "#fdca26"
             ],
             [
              1,
              "#f0f921"
             ]
            ],
            "type": "heatmapgl"
           }
          ],
          "histogram": [
           {
            "marker": {
             "pattern": {
              "fillmode": "overlay",
              "size": 10,
              "solidity": 0.2
             }
            },
            "type": "histogram"
           }
          ],
          "histogram2d": [
           {
            "colorbar": {
             "outlinewidth": 0,
             "ticks": ""
            },
            "colorscale": [
             [
              0,
              "#0d0887"
             ],
             [
              0.1111111111111111,
              "#46039f"
             ],
             [
              0.2222222222222222,
              "#7201a8"
             ],
             [
              0.3333333333333333,
              "#9c179e"
             ],
             [
              0.4444444444444444,
              "#bd3786"
             ],
             [
              0.5555555555555556,
              "#d8576b"
             ],
             [
              0.6666666666666666,
              "#ed7953"
             ],
             [
              0.7777777777777778,
              "#fb9f3a"
             ],
             [
              0.8888888888888888,
              "#fdca26"
             ],
             [
              1,
              "#f0f921"
             ]
            ],
            "type": "histogram2d"
           }
          ],
          "histogram2dcontour": [
           {
            "colorbar": {
             "outlinewidth": 0,
             "ticks": ""
            },
            "colorscale": [
             [
              0,
              "#0d0887"
             ],
             [
              0.1111111111111111,
              "#46039f"
             ],
             [
              0.2222222222222222,
              "#7201a8"
             ],
             [
              0.3333333333333333,
              "#9c179e"
             ],
             [
              0.4444444444444444,
              "#bd3786"
             ],
             [
              0.5555555555555556,
              "#d8576b"
             ],
             [
              0.6666666666666666,
              "#ed7953"
             ],
             [
              0.7777777777777778,
              "#fb9f3a"
             ],
             [
              0.8888888888888888,
              "#fdca26"
             ],
             [
              1,
              "#f0f921"
             ]
            ],
            "type": "histogram2dcontour"
           }
          ],
          "mesh3d": [
           {
            "colorbar": {
             "outlinewidth": 0,
             "ticks": ""
            },
            "type": "mesh3d"
           }
          ],
          "parcoords": [
           {
            "line": {
             "colorbar": {
              "outlinewidth": 0,
              "ticks": ""
             }
            },
            "type": "parcoords"
           }
          ],
          "pie": [
           {
            "automargin": true,
            "type": "pie"
           }
          ],
          "scatter": [
           {
            "fillpattern": {
             "fillmode": "overlay",
             "size": 10,
             "solidity": 0.2
            },
            "type": "scatter"
           }
          ],
          "scatter3d": [
           {
            "line": {
             "colorbar": {
              "outlinewidth": 0,
              "ticks": ""
             }
            },
            "marker": {
             "colorbar": {
              "outlinewidth": 0,
              "ticks": ""
             }
            },
            "type": "scatter3d"
           }
          ],
          "scattercarpet": [
           {
            "marker": {
             "colorbar": {
              "outlinewidth": 0,
              "ticks": ""
             }
            },
            "type": "scattercarpet"
           }
          ],
          "scattergeo": [
           {
            "marker": {
             "colorbar": {
              "outlinewidth": 0,
              "ticks": ""
             }
            },
            "type": "scattergeo"
           }
          ],
          "scattergl": [
           {
            "marker": {
             "colorbar": {
              "outlinewidth": 0,
              "ticks": ""
             }
            },
            "type": "scattergl"
           }
          ],
          "scattermapbox": [
           {
            "marker": {
             "colorbar": {
              "outlinewidth": 0,
              "ticks": ""
             }
            },
            "type": "scattermapbox"
           }
          ],
          "scatterpolar": [
           {
            "marker": {
             "colorbar": {
              "outlinewidth": 0,
              "ticks": ""
             }
            },
            "type": "scatterpolar"
           }
          ],
          "scatterpolargl": [
           {
            "marker": {
             "colorbar": {
              "outlinewidth": 0,
              "ticks": ""
             }
            },
            "type": "scatterpolargl"
           }
          ],
          "scatterternary": [
           {
            "marker": {
             "colorbar": {
              "outlinewidth": 0,
              "ticks": ""
             }
            },
            "type": "scatterternary"
           }
          ],
          "surface": [
           {
            "colorbar": {
             "outlinewidth": 0,
             "ticks": ""
            },
            "colorscale": [
             [
              0,
              "#0d0887"
             ],
             [
              0.1111111111111111,
              "#46039f"
             ],
             [
              0.2222222222222222,
              "#7201a8"
             ],
             [
              0.3333333333333333,
              "#9c179e"
             ],
             [
              0.4444444444444444,
              "#bd3786"
             ],
             [
              0.5555555555555556,
              "#d8576b"
             ],
             [
              0.6666666666666666,
              "#ed7953"
             ],
             [
              0.7777777777777778,
              "#fb9f3a"
             ],
             [
              0.8888888888888888,
              "#fdca26"
             ],
             [
              1,
              "#f0f921"
             ]
            ],
            "type": "surface"
           }
          ],
          "table": [
           {
            "cells": {
             "fill": {
              "color": "#EBF0F8"
             },
             "line": {
              "color": "white"
             }
            },
            "header": {
             "fill": {
              "color": "#C8D4E3"
             },
             "line": {
              "color": "white"
             }
            },
            "type": "table"
           }
          ]
         },
         "layout": {
          "annotationdefaults": {
           "arrowcolor": "#2a3f5f",
           "arrowhead": 0,
           "arrowwidth": 1
          },
          "autotypenumbers": "strict",
          "coloraxis": {
           "colorbar": {
            "outlinewidth": 0,
            "ticks": ""
           }
          },
          "colorscale": {
           "diverging": [
            [
             0,
             "#8e0152"
            ],
            [
             0.1,
             "#c51b7d"
            ],
            [
             0.2,
             "#de77ae"
            ],
            [
             0.3,
             "#f1b6da"
            ],
            [
             0.4,
             "#fde0ef"
            ],
            [
             0.5,
             "#f7f7f7"
            ],
            [
             0.6,
             "#e6f5d0"
            ],
            [
             0.7,
             "#b8e186"
            ],
            [
             0.8,
             "#7fbc41"
            ],
            [
             0.9,
             "#4d9221"
            ],
            [
             1,
             "#276419"
            ]
           ],
           "sequential": [
            [
             0,
             "#0d0887"
            ],
            [
             0.1111111111111111,
             "#46039f"
            ],
            [
             0.2222222222222222,
             "#7201a8"
            ],
            [
             0.3333333333333333,
             "#9c179e"
            ],
            [
             0.4444444444444444,
             "#bd3786"
            ],
            [
             0.5555555555555556,
             "#d8576b"
            ],
            [
             0.6666666666666666,
             "#ed7953"
            ],
            [
             0.7777777777777778,
             "#fb9f3a"
            ],
            [
             0.8888888888888888,
             "#fdca26"
            ],
            [
             1,
             "#f0f921"
            ]
           ],
           "sequentialminus": [
            [
             0,
             "#0d0887"
            ],
            [
             0.1111111111111111,
             "#46039f"
            ],
            [
             0.2222222222222222,
             "#7201a8"
            ],
            [
             0.3333333333333333,
             "#9c179e"
            ],
            [
             0.4444444444444444,
             "#bd3786"
            ],
            [
             0.5555555555555556,
             "#d8576b"
            ],
            [
             0.6666666666666666,
             "#ed7953"
            ],
            [
             0.7777777777777778,
             "#fb9f3a"
            ],
            [
             0.8888888888888888,
             "#fdca26"
            ],
            [
             1,
             "#f0f921"
            ]
           ]
          },
          "colorway": [
           "#636efa",
           "#EF553B",
           "#00cc96",
           "#ab63fa",
           "#FFA15A",
           "#19d3f3",
           "#FF6692",
           "#B6E880",
           "#FF97FF",
           "#FECB52"
          ],
          "font": {
           "color": "#2a3f5f"
          },
          "geo": {
           "bgcolor": "white",
           "lakecolor": "white",
           "landcolor": "#E5ECF6",
           "showlakes": true,
           "showland": true,
           "subunitcolor": "white"
          },
          "hoverlabel": {
           "align": "left"
          },
          "hovermode": "closest",
          "mapbox": {
           "style": "light"
          },
          "paper_bgcolor": "white",
          "plot_bgcolor": "#E5ECF6",
          "polar": {
           "angularaxis": {
            "gridcolor": "white",
            "linecolor": "white",
            "ticks": ""
           },
           "bgcolor": "#E5ECF6",
           "radialaxis": {
            "gridcolor": "white",
            "linecolor": "white",
            "ticks": ""
           }
          },
          "scene": {
           "xaxis": {
            "backgroundcolor": "#E5ECF6",
            "gridcolor": "white",
            "gridwidth": 2,
            "linecolor": "white",
            "showbackground": true,
            "ticks": "",
            "zerolinecolor": "white"
           },
           "yaxis": {
            "backgroundcolor": "#E5ECF6",
            "gridcolor": "white",
            "gridwidth": 2,
            "linecolor": "white",
            "showbackground": true,
            "ticks": "",
            "zerolinecolor": "white"
           },
           "zaxis": {
            "backgroundcolor": "#E5ECF6",
            "gridcolor": "white",
            "gridwidth": 2,
            "linecolor": "white",
            "showbackground": true,
            "ticks": "",
            "zerolinecolor": "white"
           }
          },
          "shapedefaults": {
           "line": {
            "color": "#2a3f5f"
           }
          },
          "ternary": {
           "aaxis": {
            "gridcolor": "white",
            "linecolor": "white",
            "ticks": ""
           },
           "baxis": {
            "gridcolor": "white",
            "linecolor": "white",
            "ticks": ""
           },
           "bgcolor": "#E5ECF6",
           "caxis": {
            "gridcolor": "white",
            "linecolor": "white",
            "ticks": ""
           }
          },
          "title": {
           "x": 0.05
          },
          "xaxis": {
           "automargin": true,
           "gridcolor": "white",
           "linecolor": "white",
           "ticks": "",
           "title": {
            "standoff": 15
           },
           "zerolinecolor": "white",
           "zerolinewidth": 2
          },
          "yaxis": {
           "automargin": true,
           "gridcolor": "white",
           "linecolor": "white",
           "ticks": "",
           "title": {
            "standoff": 15
           },
           "zerolinecolor": "white",
           "zerolinewidth": 2
          }
         }
        },
        "xaxis": {
         "range": [
          -1,
          2
         ],
         "scaleanchor": "y",
         "scaleratio": 1,
         "visible": false
        },
        "yaxis": {
         "range": [
          -2,
          2
         ],
         "scaleanchor": "x",
         "scaleratio": 1,
         "visible": false
        }
       }
      },
      "text/html": [
       "<div>                            <div id=\"775ba039-f734-4d32-b2c9-469593caa136\" class=\"plotly-graph-div\" style=\"height:525px; width:100%;\"></div>            <script type=\"text/javascript\">                require([\"plotly\"], function(Plotly) {                    window.PLOTLYENV=window.PLOTLYENV || {};                                    if (document.getElementById(\"775ba039-f734-4d32-b2c9-469593caa136\")) {                    Plotly.newPlot(                        \"775ba039-f734-4d32-b2c9-469593caa136\",                        [{\"hovertemplate\":[\"'client_id': '0022'<br> 'nb_trades': 2<br> 'nb_products': 2<br> 'aum': 152167<br> 'age': 42<br> 'silhouette': 0.7016916371074822\",\"'client_id': '0027'<br> 'nb_trades': 2<br> 'nb_products': 2<br> 'aum': 165262<br> 'age': 40<br> 'silhouette': 0.7006076902309724\",\"'client_id': '003'<br> 'nb_trades': 2<br> 'nb_products': 1<br> 'aum': 160614<br> 'age': 45<br> 'silhouette': 0.6864185106165799\",\"'client_id': '006'<br> 'nb_trades': 1<br> 'nb_products': 4<br> 'aum': 168491<br> 'age': 41<br> 'silhouette': 0.6688879090216626\",\"'client_id': '007'<br> 'nb_trades': 1<br> 'nb_products': 1<br> 'aum': 194243<br> 'age': 35<br> 'silhouette': 0.6592862647329463\",\"'client_id': '009'<br> 'nb_trades': 2<br> 'nb_products': 1<br> 'aum': 106364<br> 'age': 45<br> 'silhouette': 0.6567053270667068\",\"'client_id': '0033'<br> 'nb_trades': 1<br> 'nb_products': 1<br> 'aum': 207852<br> 'age': 49<br> 'silhouette': 0.653100980067294\",\"'client_id': '005'<br> 'nb_trades': 1<br> 'nb_products': 4<br> 'aum': 229418<br> 'age': 44<br> 'silhouette': 0.6529733399833354\",\"'client_id': '002'<br> 'nb_trades': 1<br> 'nb_products': 4<br> 'aum': 130392<br> 'age': 44<br> 'silhouette': 0.6511539517550113\",\"'client_id': '0018'<br> 'nb_trades': 3<br> 'nb_products': 1<br> 'aum': 158589<br> 'age': 48<br> 'silhouette': 0.6506865671905436\",\"'client_id': '0026'<br> 'nb_trades': 3<br> 'nb_products': 1<br> 'aum': 122266<br> 'age': 37<br> 'silhouette': 0.6448561751397293\",\"'client_id': '0025'<br> 'nb_trades': 1<br> 'nb_products': 3<br> 'aum': 240450<br> 'age': 34<br> 'silhouette': 0.641621437128159\",\"'client_id': '0016'<br> 'nb_trades': 2<br> 'nb_products': 4<br> 'aum': 180571<br> 'age': 48<br> 'silhouette': 0.6306135173438054\",\"'client_id': '0024'<br> 'nb_trades': 3<br> 'nb_products': 2<br> 'aum': 261941<br> 'age': 47<br> 'silhouette': 0.6292995135695943\",\"'client_id': '0031'<br> 'nb_trades': 3<br> 'nb_products': 4<br> 'aum': 259454<br> 'age': 40<br> 'silhouette': 0.6184689087022589\",\"'client_id': '0011'<br> 'nb_trades': 3<br> 'nb_products': 1<br> 'aum': 272249<br> 'age': 46<br> 'silhouette': 0.6161928351059146\",\"'client_id': '0013'<br> 'nb_trades': 2<br> 'nb_products': 1<br> 'aum': 244651<br> 'age': 32<br> 'silhouette': 0.6161574880683379\",\"'client_id': '0030'<br> 'nb_trades': 3<br> 'nb_products': 3<br> 'aum': 260519<br> 'age': 47<br> 'silhouette': 0.6154033465648346\",\"'client_id': '0029'<br> 'nb_trades': 3<br> 'nb_products': 4<br> 'aum': 149578<br> 'age': 33<br> 'silhouette': 0.6024231266095803\",\"'client_id': '008'<br> 'nb_trades': 2<br> 'nb_products': 3<br> 'aum': 202613<br> 'age': 52<br> 'silhouette': 0.5982603847066523\",\"'client_id': '0015'<br> 'nb_trades': 3<br> 'nb_products': 4<br> 'aum': 271481<br> 'age': 36<br> 'silhouette': 0.5973230697632093\",\"'client_id': '0020'<br> 'nb_trades': 1<br> 'nb_products': 4<br> 'aum': 173656<br> 'age': 51<br> 'silhouette': 0.5935839608293265\",\"'client_id': '0014'<br> 'nb_trades': 2<br> 'nb_products': 1<br> 'aum': 293113<br> 'age': 31<br> 'silhouette': 0.5766629662433542\",\"'client_id': '0032'<br> 'nb_trades': 4<br> 'nb_products': 4<br> 'aum': 216382<br> 'age': 32<br> 'silhouette': 0.5748625193140628\",\"'client_id': '001'<br> 'nb_trades': 3<br> 'nb_products': 4<br> 'aum': 298890<br> 'age': 36<br> 'silhouette': 0.5695936845084545\",\"'client_id': '0021'<br> 'nb_trades': 1<br> 'nb_products': 3<br> 'aum': 123646<br> 'age': 56<br> 'silhouette': 0.5156067911377009\",\"'client_id': '004'<br> 'nb_trades': 4<br> 'nb_products': 1<br> 'aum': 201998<br> 'age': 54<br> 'silhouette': 0.513417617533127\",\"'client_id': '0010'<br> 'nb_trades': 4<br> 'nb_products': 1<br> 'aum': 246225<br> 'age': 53<br> 'silhouette': 0.504197628890924\",\"'client_id': '0028'<br> 'nb_trades': 3<br> 'nb_products': 3<br> 'aum': 107709<br> 'age': 55<br> 'silhouette': 0.49595952246884134\",\"'client_id': '0017'<br> 'nb_trades': 4<br> 'nb_products': 1<br> 'aum': 120053<br> 'age': 57<br> 'silhouette': 0.4435416431726602\",\"'client_id': '0019'<br> 'nb_trades': 1<br> 'nb_products': 3<br> 'aum': 220576<br> 'age': 59<br> 'silhouette': 0.4120328425956592\",\"'client_id': '0023'<br> 'nb_trades': 4<br> 'nb_products': 4<br> 'aum': 272897<br> 'age': 53<br> 'silhouette': 0.37738981813733513\",\"'client_id': '0012'<br> 'nb_trades': 4<br> 'nb_products': 1<br> 'aum': 258754<br> 'age': 58<br> 'silhouette': 0.34577546919603525\"],\"marker\":{\"line\":{\"width\":2},\"size\":20},\"mode\":\"markers\",\"name\":\"diversified & young\",\"text\":[\"client 0022\",\"client 0027\",\"client 003\",\"client 006\",\"client 007\",\"client 009\",\"client 0033\",\"client 005\",\"client 002\",\"client 0018\",\"client 0026\",\"client 0025\",\"client 0016\",\"client 0024\",\"client 0031\",\"client 0011\",\"client 0013\",\"client 0030\",\"client 0029\",\"client 008\",\"client 0015\",\"client 0020\",\"client 0014\",\"client 0032\",\"client 001\",\"client 0021\",\"client 004\",\"client 0010\",\"client 0028\",\"client 0017\",\"client 0019\",\"client 0023\",\"client 0012\"],\"x\":[2.018837594008443,2.155679694919887,2.1288818477662863,2.1647343374592984,2.269077812468477,1.9229412669013108,1.6944699224062854,2.313299480334666,2.182726973399311,1.9155416672520762,2.3558659484756124,1.6345216482831855,2.4029210270028334,1.6483909503597887,2.3911267439800823,1.597680060014495,1.9376901654968348,2.0500904464749787,1.957507477541384,2.615073578788444,2.5986866602545486,2.631005422541345,1.401275396721811,2.137365060775647,2.604896871500066,2.0637878338300006,2.1690327470410717,2.0592989999037643,2.7688251560667716,2.9343990720633095,2.9225175725154755,2.726214568624793,0.9490003502178272],\"y\":[-0.14933112386486558,0.07304173804938334,0.1592777171408661,-0.14322640256098607,-0.01160189199749338,-0.2768345140750144,0.02738341414274402,-0.18034382069068533,0.32007260139476457,-0.3686403433218258,0.1763331146587188,-0.16540278407106682,0.06436481287662382,-0.21028521828099253,-0.12445019678978389,-0.15945239848675447,-0.4316620427659376,-0.5157433361053315,-0.5845845312046092,-0.08757965214459507,-0.20981057629354843,-0.14801870517204654,-0.26113394349361363,-0.6643998585687455,-0.3347512208430758,-0.7106657454028656,-0.7024271548826253,0.8030836020089864,0.4949885785442112,0.12451983028753294,0.5064787436892545,-0.8154424986270339,-0.4860356294170429],\"type\":\"scatter\"},{\"hovertemplate\":[\"'client_id': '0045'<br> 'nb_trades': 13<br> 'nb_products': 7<br> 'aum': 411508<br> 'age': 65<br> 'silhouette': 0.6551943269733458\",\"'client_id': '0047'<br> 'nb_trades': 14<br> 'nb_products': 6<br> 'aum': 341637<br> 'age': 63<br> 'silhouette': 0.6490491490487386\",\"'client_id': '0035'<br> 'nb_trades': 13<br> 'nb_products': 4<br> 'aum': 394038<br> 'age': 69<br> 'silhouette': 0.6176534394415301\",\"'client_id': '0061'<br> 'nb_trades': 12<br> 'nb_products': 7<br> 'aum': 462421<br> 'age': 67<br> 'silhouette': 0.6175486259469195\",\"'client_id': '0044'<br> 'nb_trades': 11<br> 'nb_products': 7<br> 'aum': 278116<br> 'age': 72<br> 'silhouette': 0.598225962010438\",\"'client_id': '0055'<br> 'nb_trades': 14<br> 'nb_products': 7<br> 'aum': 360178<br> 'age': 58<br> 'silhouette': 0.5942035325125476\",\"'client_id': '0038'<br> 'nb_trades': 11<br> 'nb_products': 6<br> 'aum': 260647<br> 'age': 67<br> 'silhouette': 0.5915919330097045\",\"'client_id': '0057'<br> 'nb_trades': 10<br> 'nb_products': 7<br> 'aum': 324064<br> 'age': 74<br> 'silhouette': 0.5878753088548692\",\"'client_id': '0043'<br> 'nb_trades': 13<br> 'nb_products': 7<br> 'aum': 234605<br> 'age': 67<br> 'silhouette': 0.5863473164199078\",\"'client_id': '0041'<br> 'nb_trades': 13<br> 'nb_products': 6<br> 'aum': 316830<br> 'age': 58<br> 'silhouette': 0.575900605566483\",\"'client_id': '0051'<br> 'nb_trades': 10<br> 'nb_products': 7<br> 'aum': 337652<br> 'age': 61<br> 'silhouette': 0.5652767615527118\",\"'client_id': '0056'<br> 'nb_trades': 10<br> 'nb_products': 6<br> 'aum': 267509<br> 'age': 65<br> 'silhouette': 0.5569873751597443\",\"'client_id': '0049'<br> 'nb_trades': 14<br> 'nb_products': 6<br> 'aum': 345292<br> 'age': 56<br> 'silhouette': 0.5543301929017194\",\"'client_id': '0062'<br> 'nb_trades': 13<br> 'nb_products': 8<br> 'aum': 487342<br> 'age': 61<br> 'silhouette': 0.5501308479643231\",\"'client_id': '0058'<br> 'nb_trades': 11<br> 'nb_products': 4<br> 'aum': 276410<br> 'age': 71<br> 'silhouette': 0.5473458578833575\",\"'client_id': '0053'<br> 'nb_trades': 11<br> 'nb_products': 3<br> 'aum': 368235<br> 'age': 72<br> 'silhouette': 0.5413652281686686\",\"'client_id': '0039'<br> 'nb_trades': 12<br> 'nb_products': 4<br> 'aum': 414892<br> 'age': 59<br> 'silhouette': 0.5374182667540517\",\"'client_id': '0054'<br> 'nb_trades': 12<br> 'nb_products': 9<br> 'aum': 236503<br> 'age': 66<br> 'silhouette': 0.5352444774103194\",\"'client_id': '0040'<br> 'nb_trades': 10<br> 'nb_products': 4<br> 'aum': 486380<br> 'age': 72<br> 'silhouette': 0.5310223168271497\",\"'client_id': '0036'<br> 'nb_trades': 12<br> 'nb_products': 9<br> 'aum': 430567<br> 'age': 69<br> 'silhouette': 0.5254514544680553\",\"'client_id': '0050'<br> 'nb_trades': 14<br> 'nb_products': 3<br> 'aum': 265187<br> 'age': 73<br> 'silhouette': 0.5204165680073689\",\"'client_id': '0066'<br> 'nb_trades': 13<br> 'nb_products': 4<br> 'aum': 493708<br> 'age': 59<br> 'silhouette': 0.5171488352263447\",\"'client_id': '0037'<br> 'nb_trades': 10<br> 'nb_products': 7<br> 'aum': 218677<br> 'age': 73<br> 'silhouette': 0.5143499919864278\",\"'client_id': '0060'<br> 'nb_trades': 11<br> 'nb_products': 5<br> 'aum': 351811<br> 'age': 57<br> 'silhouette': 0.5022099941920182\",\"'client_id': '0059'<br> 'nb_trades': 11<br> 'nb_products': 5<br> 'aum': 236819<br> 'age': 62<br> 'silhouette': 0.48961421788487963\",\"'client_id': '0064'<br> 'nb_trades': 14<br> 'nb_products': 4<br> 'aum': 481210<br> 'age': 56<br> 'silhouette': 0.4866276029684865\",\"'client_id': '0063'<br> 'nb_trades': 14<br> 'nb_products': 7<br> 'aum': 498484<br> 'age': 71<br> 'silhouette': 0.4688824097287978\",\"'client_id': '0048'<br> 'nb_trades': 11<br> 'nb_products': 8<br> 'aum': 499446<br> 'age': 74<br> 'silhouette': 0.43325126132767644\",\"'client_id': '0034'<br> 'nb_trades': 11<br> 'nb_products': 9<br> 'aum': 263435<br> 'age': 56<br> 'silhouette': 0.4166873995006108\",\"'client_id': '0046'<br> 'nb_trades': 10<br> 'nb_products': 3<br> 'aum': 468264<br> 'age': 59<br> 'silhouette': 0.41207912970916366\",\"'client_id': '0065'<br> 'nb_trades': 13<br> 'nb_products': 5<br> 'aum': 205613<br> 'age': 55<br> 'silhouette': 0.3448570031458321\",\"'client_id': '0052'<br> 'nb_trades': 10<br> 'nb_products': 3<br> 'aum': 230434<br> 'age': 60<br> 'silhouette': 0.2672284541078339\",\"'client_id': '0042'<br> 'nb_trades': 10<br> 'nb_products': 3<br> 'aum': 241513<br> 'age': 57<br> 'silhouette': 0.19148790682070116\"],\"marker\":{\"line\":{\"width\":2},\"size\":20},\"mode\":\"markers\",\"name\":\"active & old\",\"text\":[\"client 0045\",\"client 0047\",\"client 0035\",\"client 0061\",\"client 0044\",\"client 0055\",\"client 0038\",\"client 0057\",\"client 0043\",\"client 0041\",\"client 0051\",\"client 0056\",\"client 0049\",\"client 0062\",\"client 0058\",\"client 0053\",\"client 0039\",\"client 0054\",\"client 0040\",\"client 0036\",\"client 0050\",\"client 0066\",\"client 0037\",\"client 0060\",\"client 0059\",\"client 0064\",\"client 0063\",\"client 0048\",\"client 0034\",\"client 0046\",\"client 0065\",\"client 0052\",\"client 0042\"],\"x\":[-0.8995420592638399,-0.9949354911999488,-1.0867837253418415,-0.9387860817211685,-0.805937260835107,-0.9729095896528683,-0.7753955362019772,-0.5655014602540922,-1.1502721358928774,-0.6591962889090155,-0.5289345491540766,-0.4914029036454943,-0.9377872573820955,-0.6483354017711365,-0.9749450100026934,-1.5955975135658838,-1.194465634898642,-0.4103741334286938,-0.282166527802465,-0.4314354542538855,-1.5164595593192112,-1.4376201412230645,-1.786298817264862,-1.4200143925759905,-1.7409813632791966,-0.8281126482966494,-0.7767847447224399,-0.1386153349009479,-1.2791984224652766,-0.08554966973650513,-1.330306655971984,-1.5619904740115516,-0.450429199419478],\"y\":[1.659877097970539,1.9285831869037142,1.9136133459476103,1.9921486061667688,1.3715285218675044,1.3166530501015536,2.1191021845351385,1.602783878796525,2.1690662446885183,2.0563209022331663,1.522161793950307,1.8759009863387732,1.1662144186020291,2.1996230428761265,1.1192536878065602,1.5325486328948768,2.3718107875386827,1.3970376555598754,1.6572842902991984,2.1768617205943155,1.20177328462497,1.0819818403744335,1.9259436314806955,2.4461522735742713,2.188941898949567,2.6240121356000876,2.6403569462559853,1.3606947085664243,2.632836533728367,2.0282416873526197,2.659549626288952,2.653338586026009,2.6695238717093366],\"type\":\"scatter\"},{\"hovertemplate\":[\"'client_id': '0081'<br> 'nb_trades': 22<br> 'nb_products': 15<br> 'aum': 709504<br> 'age': 84<br> 'silhouette': 0.6627874287923095\",\"'client_id': '0094'<br> 'nb_trades': 21<br> 'nb_products': 15<br> 'aum': 734105<br> 'age': 87<br> 'silhouette': 0.6549142524830961\",\"'client_id': '0080'<br> 'nb_trades': 22<br> 'nb_products': 14<br> 'aum': 681324<br> 'age': 83<br> 'silhouette': 0.6525610135048547\",\"'client_id': '0083'<br> 'nb_trades': 24<br> 'nb_products': 15<br> 'aum': 801988<br> 'age': 86<br> 'silhouette': 0.644972015106427\",\"'client_id': '0069'<br> 'nb_trades': 20<br> 'nb_products': 15<br> 'aum': 727622<br> 'age': 80<br> 'silhouette': 0.627648875032173\",\"'client_id': '0088'<br> 'nb_trades': 23<br> 'nb_products': 18<br> 'aum': 744736<br> 'age': 83<br> 'silhouette': 0.6256026412559745\",\"'client_id': '0071'<br> 'nb_trades': 22<br> 'nb_products': 18<br> 'aum': 710646<br> 'age': 85<br> 'silhouette': 0.6255098627635381\",\"'client_id': '0073'<br> 'nb_trades': 23<br> 'nb_products': 18<br> 'aum': 774311<br> 'age': 84<br> 'silhouette': 0.6238905747189314\",\"'client_id': '0090'<br> 'nb_trades': 20<br> 'nb_products': 14<br> 'aum': 831559<br> 'age': 85<br> 'silhouette': 0.6139091921131064\",\"'client_id': '0099'<br> 'nb_trades': 21<br> 'nb_products': 12<br> 'aum': 761807<br> 'age': 85<br> 'silhouette': 0.6082894734451729\",\"'client_id': '0075'<br> 'nb_trades': 20<br> 'nb_products': 12<br> 'aum': 664104<br> 'age': 88<br> 'silhouette': 0.5869254824944656\",\"'client_id': '0091'<br> 'nb_trades': 24<br> 'nb_products': 17<br> 'aum': 945248<br> 'age': 83<br> 'silhouette': 0.5715333349484766\",\"'client_id': '0074'<br> 'nb_trades': 20<br> 'nb_products': 16<br> 'aum': 928960<br> 'age': 82<br> 'silhouette': 0.5667434304388504\",\"'client_id': '0079'<br> 'nb_trades': 24<br> 'nb_products': 13<br> 'aum': 937402<br> 'age': 85<br> 'silhouette': 0.5650241137669992\",\"'client_id': '0096'<br> 'nb_trades': 20<br> 'nb_products': 17<br> 'aum': 657509<br> 'age': 75<br> 'silhouette': 0.5609644766809376\",\"'client_id': '0086'<br> 'nb_trades': 24<br> 'nb_products': 13<br> 'aum': 535143<br> 'age': 86<br> 'silhouette': 0.5605844166425893\",\"'client_id': '0067'<br> 'nb_trades': 20<br> 'nb_products': 17<br> 'aum': 562594<br> 'age': 81<br> 'silhouette': 0.5588184569783006\",\"'client_id': '0084'<br> 'nb_trades': 22<br> 'nb_products': 16<br> 'aum': 984285<br> 'age': 87<br> 'silhouette': 0.5564285006672801\",\"'client_id': '0077'<br> 'nb_trades': 24<br> 'nb_products': 12<br> 'aum': 583338<br> 'age': 79<br> 'silhouette': 0.5414008035940845\",\"'client_id': '0070'<br> 'nb_trades': 20<br> 'nb_products': 12<br> 'aum': 577468<br> 'age': 81<br> 'silhouette': 0.5141261833362823\",\"'client_id': '00100'<br> 'nb_trades': 21<br> 'nb_products': 15<br> 'aum': 477699<br> 'age': 84<br> 'silhouette': 0.5120847968887051\",\"'client_id': '0092'<br> 'nb_trades': 23<br> 'nb_products': 9<br> 'aum': 780611<br> 'age': 85<br> 'silhouette': 0.5016966143839774\",\"'client_id': '0072'<br> 'nb_trades': 22<br> 'nb_products': 16<br> 'aum': 470253<br> 'age': 79<br> 'silhouette': 0.4899393119598332\",\"'client_id': '0089'<br> 'nb_trades': 22<br> 'nb_products': 19<br> 'aum': 415937<br> 'age': 88<br> 'silhouette': 0.44636198894876605\",\"'client_id': '0098'<br> 'nb_trades': 20<br> 'nb_products': 16<br> 'aum': 437662<br> 'age': 82<br> 'silhouette': 0.44497703794245574\",\"'client_id': '0082'<br> 'nb_trades': 24<br> 'nb_products': 8<br> 'aum': 671381<br> 'age': 87<br> 'silhouette': 0.44074422193175194\",\"'client_id': '0068'<br> 'nb_trades': 20<br> 'nb_products': 8<br> 'aum': 617948<br> 'age': 89<br> 'silhouette': 0.35909946257167713\",\"'client_id': '0097'<br> 'nb_trades': 20<br> 'nb_products': 8<br> 'aum': 715030<br> 'age': 79<br> 'silhouette': 0.35242756727755903\",\"'client_id': '0076'<br> 'nb_trades': 21<br> 'nb_products': 9<br> 'aum': 641529<br> 'age': 75<br> 'silhouette': 0.34045868082101693\",\"'client_id': '0095'<br> 'nb_trades': 20<br> 'nb_products': 12<br> 'aum': 426062<br> 'age': 83<br> 'silhouette': 0.32567523568093937\",\"'client_id': '0085'<br> 'nb_trades': 20<br> 'nb_products': 9<br> 'aum': 501445<br> 'age': 83<br> 'silhouette': 0.2470649223673078\",\"'client_id': '0093'<br> 'nb_trades': 21<br> 'nb_products': 11<br> 'aum': 415613<br> 'age': 79<br> 'silhouette': 0.22776874001646766\",\"'client_id': '0087'<br> 'nb_trades': 20<br> 'nb_products': 11<br> 'aum': 440361<br> 'age': 77<br> 'silhouette': 0.20159821722475837\",\"'client_id': '0078'<br> 'nb_trades': 21<br> 'nb_products': 8<br> 'aum': 453373<br> 'age': 77<br> 'silhouette': -0.008162146419777118\"],\"marker\":{\"line\":{\"width\":2},\"size\":20},\"mode\":\"markers\",\"name\":\"passive & wealthy\",\"text\":[\"client 0081\",\"client 0094\",\"client 0080\",\"client 0083\",\"client 0069\",\"client 0088\",\"client 0071\",\"client 0073\",\"client 0090\",\"client 0099\",\"client 0075\",\"client 0091\",\"client 0074\",\"client 0079\",\"client 0096\",\"client 0086\",\"client 0067\",\"client 0084\",\"client 0077\",\"client 0070\",\"client 00100\",\"client 0092\",\"client 0072\",\"client 0089\",\"client 0098\",\"client 0082\",\"client 0068\",\"client 0097\",\"client 0076\",\"client 0095\",\"client 0085\",\"client 0093\",\"client 0087\",\"client 0078\"],\"x\":[-1.105347897091465,-1.034513454461824,-1.2518818281854653,-1.049792743037689,-0.657891258411379,-0.7777759564659175,-0.9157042384163213,-1.4179744707618767,-0.9557206228040893,-0.6788304074216882,-0.7997180813814952,-0.5223258654408593,-1.461663352726489,-0.7083869759851278,-1.5461795155386822,-1.5803366859991759,-1.3410463377144215,-0.5198267738711548,-1.2214291722018793,-1.5528200637438028,-1.3766626167968299,-1.321581600644694,-1.665525235999575,-0.9839015726803302,-0.5729601758831183,-1.3355566961509027,-0.43019954750914835,-0.4350647144228915,-1.7542092653279928,-0.02413173964411841,-1.2334481898948093,-0.1334703262058553,0.20528463936223829,-1.6197687286787787],\"y\":[-1.5708530707447954,-1.41583759554853,-1.467401623126568,-2.106087638563356,-1.5717558621079246,-1.3873317574200028,-2.1383783364531386,-1.7056681180203763,-1.315560413157086,-2.0807932608029285,-1.2987054288263613,-1.7232106556385043,-1.911084590225217,-1.2663229143117136,-1.5969888028808574,-1.7519182440334375,-2.237913567976219,-1.3417147667230758,-2.3228185884506547,-2.0613095062902556,-2.290596930750453,-1.131200168979918,-2.0575632912112645,-2.513324733481797,-1.0560966546677113,-0.9516652389826559,-2.385918164104935,-2.4274377145278105,-2.2551231041918687,-1.8188110246324527,-2.856545506653484,-2.5422976310274867,-1.9624381239462567,-0.6379859028745896],\"type\":\"scatter\"}],                        {\"template\":{\"data\":{\"histogram2dcontour\":[{\"type\":\"histogram2dcontour\",\"colorbar\":{\"outlinewidth\":0,\"ticks\":\"\"},\"colorscale\":[[0.0,\"#0d0887\"],[0.1111111111111111,\"#46039f\"],[0.2222222222222222,\"#7201a8\"],[0.3333333333333333,\"#9c179e\"],[0.4444444444444444,\"#bd3786\"],[0.5555555555555556,\"#d8576b\"],[0.6666666666666666,\"#ed7953\"],[0.7777777777777778,\"#fb9f3a\"],[0.8888888888888888,\"#fdca26\"],[1.0,\"#f0f921\"]]}],\"choropleth\":[{\"type\":\"choropleth\",\"colorbar\":{\"outlinewidth\":0,\"ticks\":\"\"}}],\"histogram2d\":[{\"type\":\"histogram2d\",\"colorbar\":{\"outlinewidth\":0,\"ticks\":\"\"},\"colorscale\":[[0.0,\"#0d0887\"],[0.1111111111111111,\"#46039f\"],[0.2222222222222222,\"#7201a8\"],[0.3333333333333333,\"#9c179e\"],[0.4444444444444444,\"#bd3786\"],[0.5555555555555556,\"#d8576b\"],[0.6666666666666666,\"#ed7953\"],[0.7777777777777778,\"#fb9f3a\"],[0.8888888888888888,\"#fdca26\"],[1.0,\"#f0f921\"]]}],\"heatmap\":[{\"type\":\"heatmap\",\"colorbar\":{\"outlinewidth\":0,\"ticks\":\"\"},\"colorscale\":[[0.0,\"#0d0887\"],[0.1111111111111111,\"#46039f\"],[0.2222222222222222,\"#7201a8\"],[0.3333333333333333,\"#9c179e\"],[0.4444444444444444,\"#bd3786\"],[0.5555555555555556,\"#d8576b\"],[0.6666666666666666,\"#ed7953\"],[0.7777777777777778,\"#fb9f3a\"],[0.8888888888888888,\"#fdca26\"],[1.0,\"#f0f921\"]]}],\"heatmapgl\":[{\"type\":\"heatmapgl\",\"colorbar\":{\"outlinewidth\":0,\"ticks\":\"\"},\"colorscale\":[[0.0,\"#0d0887\"],[0.1111111111111111,\"#46039f\"],[0.2222222222222222,\"#7201a8\"],[0.3333333333333333,\"#9c179e\"],[0.4444444444444444,\"#bd3786\"],[0.5555555555555556,\"#d8576b\"],[0.6666666666666666,\"#ed7953\"],[0.7777777777777778,\"#fb9f3a\"],[0.8888888888888888,\"#fdca26\"],[1.0,\"#f0f921\"]]}],\"contourcarpet\":[{\"type\":\"contourcarpet\",\"colorbar\":{\"outlinewidth\":0,\"ticks\":\"\"}}],\"contour\":[{\"type\":\"contour\",\"colorbar\":{\"outlinewidth\":0,\"ticks\":\"\"},\"colorscale\":[[0.0,\"#0d0887\"],[0.1111111111111111,\"#46039f\"],[0.2222222222222222,\"#7201a8\"],[0.3333333333333333,\"#9c179e\"],[0.4444444444444444,\"#bd3786\"],[0.5555555555555556,\"#d8576b\"],[0.6666666666666666,\"#ed7953\"],[0.7777777777777778,\"#fb9f3a\"],[0.8888888888888888,\"#fdca26\"],[1.0,\"#f0f921\"]]}],\"surface\":[{\"type\":\"surface\",\"colorbar\":{\"outlinewidth\":0,\"ticks\":\"\"},\"colorscale\":[[0.0,\"#0d0887\"],[0.1111111111111111,\"#46039f\"],[0.2222222222222222,\"#7201a8\"],[0.3333333333333333,\"#9c179e\"],[0.4444444444444444,\"#bd3786\"],[0.5555555555555556,\"#d8576b\"],[0.6666666666666666,\"#ed7953\"],[0.7777777777777778,\"#fb9f3a\"],[0.8888888888888888,\"#fdca26\"],[1.0,\"#f0f921\"]]}],\"mesh3d\":[{\"type\":\"mesh3d\",\"colorbar\":{\"outlinewidth\":0,\"ticks\":\"\"}}],\"scatter\":[{\"fillpattern\":{\"fillmode\":\"overlay\",\"size\":10,\"solidity\":0.2},\"type\":\"scatter\"}],\"parcoords\":[{\"type\":\"parcoords\",\"line\":{\"colorbar\":{\"outlinewidth\":0,\"ticks\":\"\"}}}],\"scatterpolargl\":[{\"type\":\"scatterpolargl\",\"marker\":{\"colorbar\":{\"outlinewidth\":0,\"ticks\":\"\"}}}],\"bar\":[{\"error_x\":{\"color\":\"#2a3f5f\"},\"error_y\":{\"color\":\"#2a3f5f\"},\"marker\":{\"line\":{\"color\":\"#E5ECF6\",\"width\":0.5},\"pattern\":{\"fillmode\":\"overlay\",\"size\":10,\"solidity\":0.2}},\"type\":\"bar\"}],\"scattergeo\":[{\"type\":\"scattergeo\",\"marker\":{\"colorbar\":{\"outlinewidth\":0,\"ticks\":\"\"}}}],\"scatterpolar\":[{\"type\":\"scatterpolar\",\"marker\":{\"colorbar\":{\"outlinewidth\":0,\"ticks\":\"\"}}}],\"histogram\":[{\"marker\":{\"pattern\":{\"fillmode\":\"overlay\",\"size\":10,\"solidity\":0.2}},\"type\":\"histogram\"}],\"scattergl\":[{\"type\":\"scattergl\",\"marker\":{\"colorbar\":{\"outlinewidth\":0,\"ticks\":\"\"}}}],\"scatter3d\":[{\"type\":\"scatter3d\",\"line\":{\"colorbar\":{\"outlinewidth\":0,\"ticks\":\"\"}},\"marker\":{\"colorbar\":{\"outlinewidth\":0,\"ticks\":\"\"}}}],\"scattermapbox\":[{\"type\":\"scattermapbox\",\"marker\":{\"colorbar\":{\"outlinewidth\":0,\"ticks\":\"\"}}}],\"scatterternary\":[{\"type\":\"scatterternary\",\"marker\":{\"colorbar\":{\"outlinewidth\":0,\"ticks\":\"\"}}}],\"scattercarpet\":[{\"type\":\"scattercarpet\",\"marker\":{\"colorbar\":{\"outlinewidth\":0,\"ticks\":\"\"}}}],\"carpet\":[{\"aaxis\":{\"endlinecolor\":\"#2a3f5f\",\"gridcolor\":\"white\",\"linecolor\":\"white\",\"minorgridcolor\":\"white\",\"startlinecolor\":\"#2a3f5f\"},\"baxis\":{\"endlinecolor\":\"#2a3f5f\",\"gridcolor\":\"white\",\"linecolor\":\"white\",\"minorgridcolor\":\"white\",\"startlinecolor\":\"#2a3f5f\"},\"type\":\"carpet\"}],\"table\":[{\"cells\":{\"fill\":{\"color\":\"#EBF0F8\"},\"line\":{\"color\":\"white\"}},\"header\":{\"fill\":{\"color\":\"#C8D4E3\"},\"line\":{\"color\":\"white\"}},\"type\":\"table\"}],\"barpolar\":[{\"marker\":{\"line\":{\"color\":\"#E5ECF6\",\"width\":0.5},\"pattern\":{\"fillmode\":\"overlay\",\"size\":10,\"solidity\":0.2}},\"type\":\"barpolar\"}],\"pie\":[{\"automargin\":true,\"type\":\"pie\"}]},\"layout\":{\"autotypenumbers\":\"strict\",\"colorway\":[\"#636efa\",\"#EF553B\",\"#00cc96\",\"#ab63fa\",\"#FFA15A\",\"#19d3f3\",\"#FF6692\",\"#B6E880\",\"#FF97FF\",\"#FECB52\"],\"font\":{\"color\":\"#2a3f5f\"},\"hovermode\":\"closest\",\"hoverlabel\":{\"align\":\"left\"},\"paper_bgcolor\":\"white\",\"plot_bgcolor\":\"#E5ECF6\",\"polar\":{\"bgcolor\":\"#E5ECF6\",\"angularaxis\":{\"gridcolor\":\"white\",\"linecolor\":\"white\",\"ticks\":\"\"},\"radialaxis\":{\"gridcolor\":\"white\",\"linecolor\":\"white\",\"ticks\":\"\"}},\"ternary\":{\"bgcolor\":\"#E5ECF6\",\"aaxis\":{\"gridcolor\":\"white\",\"linecolor\":\"white\",\"ticks\":\"\"},\"baxis\":{\"gridcolor\":\"white\",\"linecolor\":\"white\",\"ticks\":\"\"},\"caxis\":{\"gridcolor\":\"white\",\"linecolor\":\"white\",\"ticks\":\"\"}},\"coloraxis\":{\"colorbar\":{\"outlinewidth\":0,\"ticks\":\"\"}},\"colorscale\":{\"sequential\":[[0.0,\"#0d0887\"],[0.1111111111111111,\"#46039f\"],[0.2222222222222222,\"#7201a8\"],[0.3333333333333333,\"#9c179e\"],[0.4444444444444444,\"#bd3786\"],[0.5555555555555556,\"#d8576b\"],[0.6666666666666666,\"#ed7953\"],[0.7777777777777778,\"#fb9f3a\"],[0.8888888888888888,\"#fdca26\"],[1.0,\"#f0f921\"]],\"sequentialminus\":[[0.0,\"#0d0887\"],[0.1111111111111111,\"#46039f\"],[0.2222222222222222,\"#7201a8\"],[0.3333333333333333,\"#9c179e\"],[0.4444444444444444,\"#bd3786\"],[0.5555555555555556,\"#d8576b\"],[0.6666666666666666,\"#ed7953\"],[0.7777777777777778,\"#fb9f3a\"],[0.8888888888888888,\"#fdca26\"],[1.0,\"#f0f921\"]],\"diverging\":[[0,\"#8e0152\"],[0.1,\"#c51b7d\"],[0.2,\"#de77ae\"],[0.3,\"#f1b6da\"],[0.4,\"#fde0ef\"],[0.5,\"#f7f7f7\"],[0.6,\"#e6f5d0\"],[0.7,\"#b8e186\"],[0.8,\"#7fbc41\"],[0.9,\"#4d9221\"],[1,\"#276419\"]]},\"xaxis\":{\"gridcolor\":\"white\",\"linecolor\":\"white\",\"ticks\":\"\",\"title\":{\"standoff\":15},\"zerolinecolor\":\"white\",\"automargin\":true,\"zerolinewidth\":2},\"yaxis\":{\"gridcolor\":\"white\",\"linecolor\":\"white\",\"ticks\":\"\",\"title\":{\"standoff\":15},\"zerolinecolor\":\"white\",\"automargin\":true,\"zerolinewidth\":2},\"scene\":{\"xaxis\":{\"backgroundcolor\":\"#E5ECF6\",\"gridcolor\":\"white\",\"linecolor\":\"white\",\"showbackground\":true,\"ticks\":\"\",\"zerolinecolor\":\"white\",\"gridwidth\":2},\"yaxis\":{\"backgroundcolor\":\"#E5ECF6\",\"gridcolor\":\"white\",\"linecolor\":\"white\",\"showbackground\":true,\"ticks\":\"\",\"zerolinecolor\":\"white\",\"gridwidth\":2},\"zaxis\":{\"backgroundcolor\":\"#E5ECF6\",\"gridcolor\":\"white\",\"linecolor\":\"white\",\"showbackground\":true,\"ticks\":\"\",\"zerolinecolor\":\"white\",\"gridwidth\":2}},\"shapedefaults\":{\"line\":{\"color\":\"#2a3f5f\"}},\"annotationdefaults\":{\"arrowcolor\":\"#2a3f5f\",\"arrowhead\":0,\"arrowwidth\":1},\"geo\":{\"bgcolor\":\"white\",\"landcolor\":\"#E5ECF6\",\"subunitcolor\":\"white\",\"showland\":true,\"showlakes\":true,\"lakecolor\":\"white\"},\"title\":{\"x\":0.05},\"mapbox\":{\"style\":\"light\"}}},\"yaxis\":{\"range\":[-2,2],\"visible\":false,\"scaleanchor\":\"x\",\"scaleratio\":1},\"xaxis\":{\"range\":[-1,2],\"visible\":false,\"scaleanchor\":\"y\",\"scaleratio\":1},\"showlegend\":false},                        {\"responsive\": true}                    ).then(function(){\n",
       "                            \n",
       "var gd = document.getElementById('775ba039-f734-4d32-b2c9-469593caa136');\n",
       "var x = new MutationObserver(function (mutations, observer) {{\n",
       "        var display = window.getComputedStyle(gd).display;\n",
       "        if (!display || display === 'none') {{\n",
       "            console.log([gd, 'removed!']);\n",
       "            Plotly.purge(gd);\n",
       "            observer.disconnect();\n",
       "        }}\n",
       "}});\n",
       "\n",
       "// Listen for the removal of the full notebook cells\n",
       "var notebookContainer = gd.closest('#notebook-container');\n",
       "if (notebookContainer) {{\n",
       "    x.observe(notebookContainer, {childList: true});\n",
       "}}\n",
       "\n",
       "// Listen for the clearing of the current output cell\n",
       "var outputEl = gd.closest('.output');\n",
       "if (outputEl) {{\n",
       "    x.observe(outputEl, {childList: true});\n",
       "}}\n",
       "\n",
       "                        })                };                });            </script>        </div>"
      ]
     },
     "metadata": {},
     "output_type": "display_data"
    }
   ],
   "source": [
    "np.random.seed(0)\n",
    "\n",
    "fig = go.Figure()\n",
    "\n",
    "cluster_labels = df_gmm['label'].unique()\n",
    "\n",
    "for idx, cluster_number in enumerate(cluster_labels):\n",
    "    \n",
    "    df_cluster = df_gmm[df_gmm['label']==cluster_number].copy()\n",
    "    n_count = df_cluster.shape[0]\n",
    "    \n",
    "    # Define centers for each cluster\n",
    "    center = mu_list[idx]\n",
    "    \n",
    "    # Generate coordinates\n",
    "    df_simul_cluster = pd.DataFrame()\n",
    "    df_simul_cluster['x'] = np.random.normal(center[0],1-dict_silhouette_clusters[cluster_number],n_count)\n",
    "    df_simul_cluster['y'] = np.random.normal(center[1],1-dict_silhouette_clusters[cluster_number],n_count)\n",
    "    \n",
    "    # Compute the distance to center\n",
    "    df_simul_cluster['distance_to_center'] = df_simul_cluster.apply(lambda x: distance_to_center(x, center), axis=1)\n",
    "    \n",
    "    # Associate coordinates to points w.r.t their distance to the center\n",
    "    df_simul_cluster = df_simul_cluster.sort_values(by='distance_to_center')\n",
    "    df_cluster = df_cluster.sort_values(by='silhouette', ascending=False)\n",
    "    df_cluster['x'] = df_simul_cluster['x'].values\n",
    "    df_cluster['y'] = df_simul_cluster['y'].values\n",
    "    \n",
    "    d = df_cluster.drop(columns=['x','y','label']).to_dict('index')\n",
    "    info = [d[x] for x in d.keys()]\n",
    "    info_str = [str(x).replace(',','<br>').replace('{','').replace('}','') for x in info]\n",
    "#     df_cluster['info'] = info_str\n",
    "    \n",
    "    # Graph\n",
    "    fig.add_trace(go.Scatter(\n",
    "                             x=df_cluster['x'], \n",
    "                             y=df_cluster['y'], \n",
    "                             text=['client ' + val for val in df_cluster['client_id'].values],\n",
    "                             name=dict_label[cluster_number],\n",
    "                             mode='markers',\n",
    "                             marker=dict(size=20),\n",
    "                             marker_line=dict(width=2),\n",
    "                             hovertemplate=info_str\n",
    "                            )\n",
    "                 )\n",
    "\n",
    "fig.update_layout(yaxis_range=[-2,2])\n",
    "fig.update_layout(xaxis_range=[-1,2])\n",
    "fig.update_layout({'showlegend':False})\n",
    "fig.update_xaxes(visible=False, scaleanchor='y', scaleratio=1)\n",
    "fig.update_yaxes(visible=False, scaleanchor='x', scaleratio=1)\n",
    "fig.show()"
   ]
  },
  {
   "cell_type": "code",
   "execution_count": 47,
   "id": "1252c1be",
   "metadata": {},
   "outputs": [
    {
     "data": {
      "text/html": [
       "<div>\n",
       "<style scoped>\n",
       "    .dataframe tbody tr th:only-of-type {\n",
       "        vertical-align: middle;\n",
       "    }\n",
       "\n",
       "    .dataframe tbody tr th {\n",
       "        vertical-align: top;\n",
       "    }\n",
       "\n",
       "    .dataframe thead th {\n",
       "        text-align: right;\n",
       "    }\n",
       "</style>\n",
       "<table border=\"1\" class=\"dataframe\">\n",
       "  <thead>\n",
       "    <tr style=\"text-align: right;\">\n",
       "      <th></th>\n",
       "      <th>client_id</th>\n",
       "      <th>nb_trades</th>\n",
       "      <th>nb_products</th>\n",
       "      <th>aum</th>\n",
       "      <th>age</th>\n",
       "      <th>label</th>\n",
       "      <th>silhouette</th>\n",
       "    </tr>\n",
       "  </thead>\n",
       "  <tbody>\n",
       "    <tr>\n",
       "      <th>66</th>\n",
       "      <td>0067</td>\n",
       "      <td>20</td>\n",
       "      <td>17</td>\n",
       "      <td>562594</td>\n",
       "      <td>81</td>\n",
       "      <td>1</td>\n",
       "      <td>0.558818</td>\n",
       "    </tr>\n",
       "    <tr>\n",
       "      <th>67</th>\n",
       "      <td>0068</td>\n",
       "      <td>20</td>\n",
       "      <td>8</td>\n",
       "      <td>617948</td>\n",
       "      <td>89</td>\n",
       "      <td>1</td>\n",
       "      <td>0.359099</td>\n",
       "    </tr>\n",
       "    <tr>\n",
       "      <th>68</th>\n",
       "      <td>0069</td>\n",
       "      <td>20</td>\n",
       "      <td>15</td>\n",
       "      <td>727622</td>\n",
       "      <td>80</td>\n",
       "      <td>1</td>\n",
       "      <td>0.627649</td>\n",
       "    </tr>\n",
       "    <tr>\n",
       "      <th>69</th>\n",
       "      <td>0070</td>\n",
       "      <td>20</td>\n",
       "      <td>12</td>\n",
       "      <td>577468</td>\n",
       "      <td>81</td>\n",
       "      <td>1</td>\n",
       "      <td>0.514126</td>\n",
       "    </tr>\n",
       "    <tr>\n",
       "      <th>70</th>\n",
       "      <td>0071</td>\n",
       "      <td>22</td>\n",
       "      <td>18</td>\n",
       "      <td>710646</td>\n",
       "      <td>85</td>\n",
       "      <td>1</td>\n",
       "      <td>0.625510</td>\n",
       "    </tr>\n",
       "    <tr>\n",
       "      <th>71</th>\n",
       "      <td>0072</td>\n",
       "      <td>22</td>\n",
       "      <td>16</td>\n",
       "      <td>470253</td>\n",
       "      <td>79</td>\n",
       "      <td>1</td>\n",
       "      <td>0.489939</td>\n",
       "    </tr>\n",
       "    <tr>\n",
       "      <th>72</th>\n",
       "      <td>0073</td>\n",
       "      <td>23</td>\n",
       "      <td>18</td>\n",
       "      <td>774311</td>\n",
       "      <td>84</td>\n",
       "      <td>1</td>\n",
       "      <td>0.623891</td>\n",
       "    </tr>\n",
       "    <tr>\n",
       "      <th>73</th>\n",
       "      <td>0074</td>\n",
       "      <td>20</td>\n",
       "      <td>16</td>\n",
       "      <td>928960</td>\n",
       "      <td>82</td>\n",
       "      <td>1</td>\n",
       "      <td>0.566743</td>\n",
       "    </tr>\n",
       "    <tr>\n",
       "      <th>74</th>\n",
       "      <td>0075</td>\n",
       "      <td>20</td>\n",
       "      <td>12</td>\n",
       "      <td>664104</td>\n",
       "      <td>88</td>\n",
       "      <td>1</td>\n",
       "      <td>0.586925</td>\n",
       "    </tr>\n",
       "    <tr>\n",
       "      <th>75</th>\n",
       "      <td>0076</td>\n",
       "      <td>21</td>\n",
       "      <td>9</td>\n",
       "      <td>641529</td>\n",
       "      <td>75</td>\n",
       "      <td>1</td>\n",
       "      <td>0.340459</td>\n",
       "    </tr>\n",
       "    <tr>\n",
       "      <th>76</th>\n",
       "      <td>0077</td>\n",
       "      <td>24</td>\n",
       "      <td>12</td>\n",
       "      <td>583338</td>\n",
       "      <td>79</td>\n",
       "      <td>1</td>\n",
       "      <td>0.541401</td>\n",
       "    </tr>\n",
       "    <tr>\n",
       "      <th>77</th>\n",
       "      <td>0078</td>\n",
       "      <td>21</td>\n",
       "      <td>8</td>\n",
       "      <td>453373</td>\n",
       "      <td>77</td>\n",
       "      <td>1</td>\n",
       "      <td>-0.008162</td>\n",
       "    </tr>\n",
       "    <tr>\n",
       "      <th>78</th>\n",
       "      <td>0079</td>\n",
       "      <td>24</td>\n",
       "      <td>13</td>\n",
       "      <td>937402</td>\n",
       "      <td>85</td>\n",
       "      <td>1</td>\n",
       "      <td>0.565024</td>\n",
       "    </tr>\n",
       "    <tr>\n",
       "      <th>79</th>\n",
       "      <td>0080</td>\n",
       "      <td>22</td>\n",
       "      <td>14</td>\n",
       "      <td>681324</td>\n",
       "      <td>83</td>\n",
       "      <td>1</td>\n",
       "      <td>0.652561</td>\n",
       "    </tr>\n",
       "    <tr>\n",
       "      <th>80</th>\n",
       "      <td>0081</td>\n",
       "      <td>22</td>\n",
       "      <td>15</td>\n",
       "      <td>709504</td>\n",
       "      <td>84</td>\n",
       "      <td>1</td>\n",
       "      <td>0.662787</td>\n",
       "    </tr>\n",
       "    <tr>\n",
       "      <th>81</th>\n",
       "      <td>0082</td>\n",
       "      <td>24</td>\n",
       "      <td>8</td>\n",
       "      <td>671381</td>\n",
       "      <td>87</td>\n",
       "      <td>1</td>\n",
       "      <td>0.440744</td>\n",
       "    </tr>\n",
       "    <tr>\n",
       "      <th>82</th>\n",
       "      <td>0083</td>\n",
       "      <td>24</td>\n",
       "      <td>15</td>\n",
       "      <td>801988</td>\n",
       "      <td>86</td>\n",
       "      <td>1</td>\n",
       "      <td>0.644972</td>\n",
       "    </tr>\n",
       "    <tr>\n",
       "      <th>83</th>\n",
       "      <td>0084</td>\n",
       "      <td>22</td>\n",
       "      <td>16</td>\n",
       "      <td>984285</td>\n",
       "      <td>87</td>\n",
       "      <td>1</td>\n",
       "      <td>0.556429</td>\n",
       "    </tr>\n",
       "    <tr>\n",
       "      <th>84</th>\n",
       "      <td>0085</td>\n",
       "      <td>20</td>\n",
       "      <td>9</td>\n",
       "      <td>501445</td>\n",
       "      <td>83</td>\n",
       "      <td>1</td>\n",
       "      <td>0.247065</td>\n",
       "    </tr>\n",
       "    <tr>\n",
       "      <th>85</th>\n",
       "      <td>0086</td>\n",
       "      <td>24</td>\n",
       "      <td>13</td>\n",
       "      <td>535143</td>\n",
       "      <td>86</td>\n",
       "      <td>1</td>\n",
       "      <td>0.560584</td>\n",
       "    </tr>\n",
       "    <tr>\n",
       "      <th>86</th>\n",
       "      <td>0087</td>\n",
       "      <td>20</td>\n",
       "      <td>11</td>\n",
       "      <td>440361</td>\n",
       "      <td>77</td>\n",
       "      <td>1</td>\n",
       "      <td>0.201598</td>\n",
       "    </tr>\n",
       "    <tr>\n",
       "      <th>87</th>\n",
       "      <td>0088</td>\n",
       "      <td>23</td>\n",
       "      <td>18</td>\n",
       "      <td>744736</td>\n",
       "      <td>83</td>\n",
       "      <td>1</td>\n",
       "      <td>0.625603</td>\n",
       "    </tr>\n",
       "    <tr>\n",
       "      <th>88</th>\n",
       "      <td>0089</td>\n",
       "      <td>22</td>\n",
       "      <td>19</td>\n",
       "      <td>415937</td>\n",
       "      <td>88</td>\n",
       "      <td>1</td>\n",
       "      <td>0.446362</td>\n",
       "    </tr>\n",
       "    <tr>\n",
       "      <th>89</th>\n",
       "      <td>0090</td>\n",
       "      <td>20</td>\n",
       "      <td>14</td>\n",
       "      <td>831559</td>\n",
       "      <td>85</td>\n",
       "      <td>1</td>\n",
       "      <td>0.613909</td>\n",
       "    </tr>\n",
       "    <tr>\n",
       "      <th>90</th>\n",
       "      <td>0091</td>\n",
       "      <td>24</td>\n",
       "      <td>17</td>\n",
       "      <td>945248</td>\n",
       "      <td>83</td>\n",
       "      <td>1</td>\n",
       "      <td>0.571533</td>\n",
       "    </tr>\n",
       "    <tr>\n",
       "      <th>91</th>\n",
       "      <td>0092</td>\n",
       "      <td>23</td>\n",
       "      <td>9</td>\n",
       "      <td>780611</td>\n",
       "      <td>85</td>\n",
       "      <td>1</td>\n",
       "      <td>0.501697</td>\n",
       "    </tr>\n",
       "    <tr>\n",
       "      <th>92</th>\n",
       "      <td>0093</td>\n",
       "      <td>21</td>\n",
       "      <td>11</td>\n",
       "      <td>415613</td>\n",
       "      <td>79</td>\n",
       "      <td>1</td>\n",
       "      <td>0.227769</td>\n",
       "    </tr>\n",
       "    <tr>\n",
       "      <th>93</th>\n",
       "      <td>0094</td>\n",
       "      <td>21</td>\n",
       "      <td>15</td>\n",
       "      <td>734105</td>\n",
       "      <td>87</td>\n",
       "      <td>1</td>\n",
       "      <td>0.654914</td>\n",
       "    </tr>\n",
       "    <tr>\n",
       "      <th>94</th>\n",
       "      <td>0095</td>\n",
       "      <td>20</td>\n",
       "      <td>12</td>\n",
       "      <td>426062</td>\n",
       "      <td>83</td>\n",
       "      <td>1</td>\n",
       "      <td>0.325675</td>\n",
       "    </tr>\n",
       "    <tr>\n",
       "      <th>95</th>\n",
       "      <td>0096</td>\n",
       "      <td>20</td>\n",
       "      <td>17</td>\n",
       "      <td>657509</td>\n",
       "      <td>75</td>\n",
       "      <td>1</td>\n",
       "      <td>0.560964</td>\n",
       "    </tr>\n",
       "    <tr>\n",
       "      <th>96</th>\n",
       "      <td>0097</td>\n",
       "      <td>20</td>\n",
       "      <td>8</td>\n",
       "      <td>715030</td>\n",
       "      <td>79</td>\n",
       "      <td>1</td>\n",
       "      <td>0.352428</td>\n",
       "    </tr>\n",
       "    <tr>\n",
       "      <th>97</th>\n",
       "      <td>0098</td>\n",
       "      <td>20</td>\n",
       "      <td>16</td>\n",
       "      <td>437662</td>\n",
       "      <td>82</td>\n",
       "      <td>1</td>\n",
       "      <td>0.444977</td>\n",
       "    </tr>\n",
       "    <tr>\n",
       "      <th>98</th>\n",
       "      <td>0099</td>\n",
       "      <td>21</td>\n",
       "      <td>12</td>\n",
       "      <td>761807</td>\n",
       "      <td>85</td>\n",
       "      <td>1</td>\n",
       "      <td>0.608289</td>\n",
       "    </tr>\n",
       "    <tr>\n",
       "      <th>99</th>\n",
       "      <td>00100</td>\n",
       "      <td>21</td>\n",
       "      <td>15</td>\n",
       "      <td>477699</td>\n",
       "      <td>84</td>\n",
       "      <td>1</td>\n",
       "      <td>0.512085</td>\n",
       "    </tr>\n",
       "  </tbody>\n",
       "</table>\n",
       "</div>"
      ],
      "text/plain": [
       "   client_id  nb_trades  nb_products     aum  age  label  silhouette\n",
       "66      0067         20           17  562594   81      1    0.558818\n",
       "67      0068         20            8  617948   89      1    0.359099\n",
       "68      0069         20           15  727622   80      1    0.627649\n",
       "69      0070         20           12  577468   81      1    0.514126\n",
       "70      0071         22           18  710646   85      1    0.625510\n",
       "71      0072         22           16  470253   79      1    0.489939\n",
       "72      0073         23           18  774311   84      1    0.623891\n",
       "73      0074         20           16  928960   82      1    0.566743\n",
       "74      0075         20           12  664104   88      1    0.586925\n",
       "75      0076         21            9  641529   75      1    0.340459\n",
       "76      0077         24           12  583338   79      1    0.541401\n",
       "77      0078         21            8  453373   77      1   -0.008162\n",
       "78      0079         24           13  937402   85      1    0.565024\n",
       "79      0080         22           14  681324   83      1    0.652561\n",
       "80      0081         22           15  709504   84      1    0.662787\n",
       "81      0082         24            8  671381   87      1    0.440744\n",
       "82      0083         24           15  801988   86      1    0.644972\n",
       "83      0084         22           16  984285   87      1    0.556429\n",
       "84      0085         20            9  501445   83      1    0.247065\n",
       "85      0086         24           13  535143   86      1    0.560584\n",
       "86      0087         20           11  440361   77      1    0.201598\n",
       "87      0088         23           18  744736   83      1    0.625603\n",
       "88      0089         22           19  415937   88      1    0.446362\n",
       "89      0090         20           14  831559   85      1    0.613909\n",
       "90      0091         24           17  945248   83      1    0.571533\n",
       "91      0092         23            9  780611   85      1    0.501697\n",
       "92      0093         21           11  415613   79      1    0.227769\n",
       "93      0094         21           15  734105   87      1    0.654914\n",
       "94      0095         20           12  426062   83      1    0.325675\n",
       "95      0096         20           17  657509   75      1    0.560964\n",
       "96      0097         20            8  715030   79      1    0.352428\n",
       "97      0098         20           16  437662   82      1    0.444977\n",
       "98      0099         21           12  761807   85      1    0.608289\n",
       "99     00100         21           15  477699   84      1    0.512085"
      ]
     },
     "execution_count": 47,
     "metadata": {},
     "output_type": "execute_result"
    }
   ],
   "source": [
    "df_gmm[df_gmm['label']==1]"
   ]
  },
  {
   "cell_type": "markdown",
   "id": "53f7a72c",
   "metadata": {},
   "source": [
    "# GMM - large sample"
   ]
  },
  {
   "cell_type": "code",
   "execution_count": 48,
   "id": "0df7aa5d",
   "metadata": {},
   "outputs": [],
   "source": [
    "n_clients = 100\n",
    "n_cluster_1 = int(n_clients/3)\n",
    "n_cluster_2 = int(n_clients/3)\n",
    "n_cluster_3 = n_clients-(n_cluster_1+n_cluster_2)"
   ]
  },
  {
   "cell_type": "code",
   "execution_count": 49,
   "id": "c8b9b9d8",
   "metadata": {},
   "outputs": [],
   "source": [
    "np.random.seed(3)\n",
    "\n",
    "trades = list(np.random.randint(low=1, high=5, size=n_cluster_1)) + \\\n",
    "         list(np.random.randint(low=10, high=15, size=n_cluster_2)) + \\\n",
    "         list(np.random.randint(low=20, high=25, size=n_cluster_3))\n",
    "\n",
    "products = list(np.random.randint(low=1, high=5, size=n_cluster_1)) + \\\n",
    "           list(np.random.randint(low=3, high=10, size=n_cluster_2)) + \\\n",
    "           list(np.random.randint(low=8, high=20, size=n_cluster_3))\n",
    "\n",
    "aum = list(np.random.randint(low=100000, high=300000, size=n_cluster_1)) + \\\n",
    "           list(np.random.randint(low=200000, high=500000, size=n_cluster_2)) + \\\n",
    "           list(np.random.randint(low=400000, high=1000000, size=n_cluster_3))\n",
    "\n",
    "age = list(np.random.randint(low=30, high=60, size=n_cluster_1)) + \\\n",
    "           list(np.random.randint(low=55, high=75, size=n_cluster_2)) + \\\n",
    "           list(np.random.randint(low=75, high=90, size=n_cluster_3))"
   ]
  },
  {
   "cell_type": "code",
   "execution_count": 50,
   "id": "fa87cff9",
   "metadata": {},
   "outputs": [
    {
     "data": {
      "text/html": [
       "<div>\n",
       "<style scoped>\n",
       "    .dataframe tbody tr th:only-of-type {\n",
       "        vertical-align: middle;\n",
       "    }\n",
       "\n",
       "    .dataframe tbody tr th {\n",
       "        vertical-align: top;\n",
       "    }\n",
       "\n",
       "    .dataframe thead th {\n",
       "        text-align: right;\n",
       "    }\n",
       "</style>\n",
       "<table border=\"1\" class=\"dataframe\">\n",
       "  <thead>\n",
       "    <tr style=\"text-align: right;\">\n",
       "      <th></th>\n",
       "      <th>client_id</th>\n",
       "      <th>nb_trades</th>\n",
       "      <th>nb_products</th>\n",
       "      <th>aum</th>\n",
       "      <th>age</th>\n",
       "    </tr>\n",
       "  </thead>\n",
       "  <tbody>\n",
       "    <tr>\n",
       "      <th>0</th>\n",
       "      <td>001</td>\n",
       "      <td>3</td>\n",
       "      <td>4</td>\n",
       "      <td>298890</td>\n",
       "      <td>36</td>\n",
       "    </tr>\n",
       "    <tr>\n",
       "      <th>1</th>\n",
       "      <td>002</td>\n",
       "      <td>1</td>\n",
       "      <td>4</td>\n",
       "      <td>130392</td>\n",
       "      <td>44</td>\n",
       "    </tr>\n",
       "    <tr>\n",
       "      <th>2</th>\n",
       "      <td>003</td>\n",
       "      <td>2</td>\n",
       "      <td>1</td>\n",
       "      <td>160614</td>\n",
       "      <td>45</td>\n",
       "    </tr>\n",
       "    <tr>\n",
       "      <th>3</th>\n",
       "      <td>004</td>\n",
       "      <td>4</td>\n",
       "      <td>1</td>\n",
       "      <td>201998</td>\n",
       "      <td>54</td>\n",
       "    </tr>\n",
       "    <tr>\n",
       "      <th>4</th>\n",
       "      <td>005</td>\n",
       "      <td>1</td>\n",
       "      <td>4</td>\n",
       "      <td>229418</td>\n",
       "      <td>44</td>\n",
       "    </tr>\n",
       "    <tr>\n",
       "      <th>...</th>\n",
       "      <td>...</td>\n",
       "      <td>...</td>\n",
       "      <td>...</td>\n",
       "      <td>...</td>\n",
       "      <td>...</td>\n",
       "    </tr>\n",
       "    <tr>\n",
       "      <th>95</th>\n",
       "      <td>0096</td>\n",
       "      <td>20</td>\n",
       "      <td>17</td>\n",
       "      <td>657509</td>\n",
       "      <td>75</td>\n",
       "    </tr>\n",
       "    <tr>\n",
       "      <th>96</th>\n",
       "      <td>0097</td>\n",
       "      <td>20</td>\n",
       "      <td>8</td>\n",
       "      <td>715030</td>\n",
       "      <td>79</td>\n",
       "    </tr>\n",
       "    <tr>\n",
       "      <th>97</th>\n",
       "      <td>0098</td>\n",
       "      <td>20</td>\n",
       "      <td>16</td>\n",
       "      <td>437662</td>\n",
       "      <td>82</td>\n",
       "    </tr>\n",
       "    <tr>\n",
       "      <th>98</th>\n",
       "      <td>0099</td>\n",
       "      <td>21</td>\n",
       "      <td>12</td>\n",
       "      <td>761807</td>\n",
       "      <td>85</td>\n",
       "    </tr>\n",
       "    <tr>\n",
       "      <th>99</th>\n",
       "      <td>00100</td>\n",
       "      <td>21</td>\n",
       "      <td>15</td>\n",
       "      <td>477699</td>\n",
       "      <td>84</td>\n",
       "    </tr>\n",
       "  </tbody>\n",
       "</table>\n",
       "<p>100 rows × 5 columns</p>\n",
       "</div>"
      ],
      "text/plain": [
       "   client_id  nb_trades  nb_products     aum  age\n",
       "0        001          3            4  298890   36\n",
       "1        002          1            4  130392   44\n",
       "2        003          2            1  160614   45\n",
       "3        004          4            1  201998   54\n",
       "4        005          1            4  229418   44\n",
       "..       ...        ...          ...     ...  ...\n",
       "95      0096         20           17  657509   75\n",
       "96      0097         20            8  715030   79\n",
       "97      0098         20           16  437662   82\n",
       "98      0099         21           12  761807   85\n",
       "99     00100         21           15  477699   84\n",
       "\n",
       "[100 rows x 5 columns]"
      ]
     },
     "execution_count": 50,
     "metadata": {},
     "output_type": "execute_result"
    }
   ],
   "source": [
    "# Dataset (example)\n",
    "data = {\n",
    "    'client_id':['00'+str(i) for i in range(1,n_clients+1)],\n",
    "    'nb_trades':trades,\n",
    "    'nb_products':products,\n",
    "    'aum':aum,\n",
    "    'age':age\n",
    "}\n",
    "\n",
    "df = pd.DataFrame(data)\n",
    "df"
   ]
  },
  {
   "cell_type": "code",
   "execution_count": 51,
   "id": "07e83030",
   "metadata": {},
   "outputs": [],
   "source": [
    "scaler = StandardScaler()\n",
    "\n",
    "df_pre = scaler.fit_transform(df[['nb_trades','nb_products','aum','age']])"
   ]
  },
  {
   "cell_type": "code",
   "execution_count": 52,
   "id": "b4ddaa00",
   "metadata": {},
   "outputs": [],
   "source": [
    "df_gmm = df.copy()\n",
    "df_gmm_pre = df_pre.copy()"
   ]
  },
  {
   "cell_type": "markdown",
   "id": "bca31aeb",
   "metadata": {},
   "source": [
    "#### Clustering"
   ]
  },
  {
   "cell_type": "code",
   "execution_count": 53,
   "id": "4a07e3c3",
   "metadata": {},
   "outputs": [],
   "source": [
    "gm = GaussianMixture(n_components=3, random_state=0).fit(df_gmm_pre)"
   ]
  },
  {
   "cell_type": "code",
   "execution_count": 54,
   "id": "61790f35",
   "metadata": {},
   "outputs": [],
   "source": [
    "df_gmm['label'] = gm.predict(df_gmm_pre)"
   ]
  },
  {
   "cell_type": "code",
   "execution_count": 55,
   "id": "ae5a2f82",
   "metadata": {},
   "outputs": [],
   "source": [
    "dict_label = {\n",
    "    0:'emerging clients',\n",
    "    1:'active clients',\n",
    "    2:'passive clients'\n",
    "}"
   ]
  },
  {
   "cell_type": "markdown",
   "id": "d47620a8",
   "metadata": {},
   "source": [
    "#### Cluster quality"
   ]
  },
  {
   "cell_type": "code",
   "execution_count": 56,
   "id": "8eeee1af",
   "metadata": {},
   "outputs": [],
   "source": [
    "df_gmm['silhouette'] = metrics.silhouette_samples(df_gmm_pre, df_gmm['label'])"
   ]
  },
  {
   "cell_type": "code",
   "execution_count": 57,
   "id": "0b760189",
   "metadata": {},
   "outputs": [],
   "source": [
    "dict_silhouette_clusters = {\n",
    "    0:np.mean(df_gmm[df_gmm['label']==0]['silhouette']),\n",
    "    1:np.mean(df_gmm[df_gmm['label']==1]['silhouette']),\n",
    "    2:np.mean(df_gmm[df_gmm['label']==2]['silhouette'])\n",
    "}"
   ]
  },
  {
   "cell_type": "code",
   "execution_count": 58,
   "id": "74628657",
   "metadata": {},
   "outputs": [
    {
     "data": {
      "application/vnd.plotly.v1+json": {
       "config": {
        "plotlyServerURL": "https://plot.ly"
       },
       "data": [
        {
         "hovertemplate": [
          "'client_id': '0022'<br> 'nb_trades': 2<br> 'nb_products': 2<br> 'aum': 152167<br> 'age': 42<br> 'silhouette': 0.7016916371074822",
          "'client_id': '0027'<br> 'nb_trades': 2<br> 'nb_products': 2<br> 'aum': 165262<br> 'age': 40<br> 'silhouette': 0.7006076902309724",
          "'client_id': '003'<br> 'nb_trades': 2<br> 'nb_products': 1<br> 'aum': 160614<br> 'age': 45<br> 'silhouette': 0.6864185106165799",
          "'client_id': '006'<br> 'nb_trades': 1<br> 'nb_products': 4<br> 'aum': 168491<br> 'age': 41<br> 'silhouette': 0.6688879090216626",
          "'client_id': '007'<br> 'nb_trades': 1<br> 'nb_products': 1<br> 'aum': 194243<br> 'age': 35<br> 'silhouette': 0.6592862647329463",
          "'client_id': '009'<br> 'nb_trades': 2<br> 'nb_products': 1<br> 'aum': 106364<br> 'age': 45<br> 'silhouette': 0.6567053270667068",
          "'client_id': '0033'<br> 'nb_trades': 1<br> 'nb_products': 1<br> 'aum': 207852<br> 'age': 49<br> 'silhouette': 0.653100980067294",
          "'client_id': '005'<br> 'nb_trades': 1<br> 'nb_products': 4<br> 'aum': 229418<br> 'age': 44<br> 'silhouette': 0.6529733399833354",
          "'client_id': '002'<br> 'nb_trades': 1<br> 'nb_products': 4<br> 'aum': 130392<br> 'age': 44<br> 'silhouette': 0.6511539517550113",
          "'client_id': '0018'<br> 'nb_trades': 3<br> 'nb_products': 1<br> 'aum': 158589<br> 'age': 48<br> 'silhouette': 0.6506865671905436",
          "'client_id': '0026'<br> 'nb_trades': 3<br> 'nb_products': 1<br> 'aum': 122266<br> 'age': 37<br> 'silhouette': 0.6448561751397293",
          "'client_id': '0025'<br> 'nb_trades': 1<br> 'nb_products': 3<br> 'aum': 240450<br> 'age': 34<br> 'silhouette': 0.641621437128159",
          "'client_id': '0016'<br> 'nb_trades': 2<br> 'nb_products': 4<br> 'aum': 180571<br> 'age': 48<br> 'silhouette': 0.6306135173438054",
          "'client_id': '0024'<br> 'nb_trades': 3<br> 'nb_products': 2<br> 'aum': 261941<br> 'age': 47<br> 'silhouette': 0.6292995135695943",
          "'client_id': '0031'<br> 'nb_trades': 3<br> 'nb_products': 4<br> 'aum': 259454<br> 'age': 40<br> 'silhouette': 0.6184689087022589",
          "'client_id': '0011'<br> 'nb_trades': 3<br> 'nb_products': 1<br> 'aum': 272249<br> 'age': 46<br> 'silhouette': 0.6161928351059146",
          "'client_id': '0013'<br> 'nb_trades': 2<br> 'nb_products': 1<br> 'aum': 244651<br> 'age': 32<br> 'silhouette': 0.6161574880683379",
          "'client_id': '0030'<br> 'nb_trades': 3<br> 'nb_products': 3<br> 'aum': 260519<br> 'age': 47<br> 'silhouette': 0.6154033465648346",
          "'client_id': '0029'<br> 'nb_trades': 3<br> 'nb_products': 4<br> 'aum': 149578<br> 'age': 33<br> 'silhouette': 0.6024231266095803",
          "'client_id': '008'<br> 'nb_trades': 2<br> 'nb_products': 3<br> 'aum': 202613<br> 'age': 52<br> 'silhouette': 0.5982603847066523",
          "'client_id': '0015'<br> 'nb_trades': 3<br> 'nb_products': 4<br> 'aum': 271481<br> 'age': 36<br> 'silhouette': 0.5973230697632093",
          "'client_id': '0020'<br> 'nb_trades': 1<br> 'nb_products': 4<br> 'aum': 173656<br> 'age': 51<br> 'silhouette': 0.5935839608293265",
          "'client_id': '0014'<br> 'nb_trades': 2<br> 'nb_products': 1<br> 'aum': 293113<br> 'age': 31<br> 'silhouette': 0.5766629662433542",
          "'client_id': '0032'<br> 'nb_trades': 4<br> 'nb_products': 4<br> 'aum': 216382<br> 'age': 32<br> 'silhouette': 0.5748625193140628",
          "'client_id': '001'<br> 'nb_trades': 3<br> 'nb_products': 4<br> 'aum': 298890<br> 'age': 36<br> 'silhouette': 0.5695936845084545",
          "'client_id': '0021'<br> 'nb_trades': 1<br> 'nb_products': 3<br> 'aum': 123646<br> 'age': 56<br> 'silhouette': 0.5156067911377009",
          "'client_id': '004'<br> 'nb_trades': 4<br> 'nb_products': 1<br> 'aum': 201998<br> 'age': 54<br> 'silhouette': 0.513417617533127",
          "'client_id': '0010'<br> 'nb_trades': 4<br> 'nb_products': 1<br> 'aum': 246225<br> 'age': 53<br> 'silhouette': 0.504197628890924",
          "'client_id': '0028'<br> 'nb_trades': 3<br> 'nb_products': 3<br> 'aum': 107709<br> 'age': 55<br> 'silhouette': 0.49595952246884134",
          "'client_id': '0017'<br> 'nb_trades': 4<br> 'nb_products': 1<br> 'aum': 120053<br> 'age': 57<br> 'silhouette': 0.4435416431726602",
          "'client_id': '0019'<br> 'nb_trades': 1<br> 'nb_products': 3<br> 'aum': 220576<br> 'age': 59<br> 'silhouette': 0.4120328425956592",
          "'client_id': '0023'<br> 'nb_trades': 4<br> 'nb_products': 4<br> 'aum': 272897<br> 'age': 53<br> 'silhouette': 0.37738981813733513",
          "'client_id': '0012'<br> 'nb_trades': 4<br> 'nb_products': 1<br> 'aum': 258754<br> 'age': 58<br> 'silhouette': 0.34577546919603525"
         ],
         "marker": {
          "line": {
           "width": 2
          },
          "size": 20
         },
         "mode": "markers",
         "name": "passive clients",
         "text": [
          "client 0022",
          "client 0027",
          "client 003",
          "client 006",
          "client 007",
          "client 009",
          "client 0033",
          "client 005",
          "client 002",
          "client 0018",
          "client 0026",
          "client 0025",
          "client 0016",
          "client 0024",
          "client 0031",
          "client 0011",
          "client 0013",
          "client 0030",
          "client 0029",
          "client 008",
          "client 0015",
          "client 0020",
          "client 0014",
          "client 0032",
          "client 001",
          "client 0021",
          "client 004",
          "client 0010",
          "client 0028",
          "client 0017",
          "client 0019",
          "client 0023",
          "client 0012"
         ],
         "type": "scatter",
         "x": [
          2.018837594008443,
          2.155679694919887,
          2.1288818477662863,
          2.1647343374592984,
          2.269077812468477,
          1.9229412669013108,
          1.6944699224062854,
          2.313299480334666,
          2.182726973399311,
          1.9155416672520762,
          2.3558659484756124,
          1.6345216482831855,
          2.4029210270028334,
          1.6483909503597887,
          2.3911267439800823,
          1.597680060014495,
          1.9376901654968348,
          2.0500904464749787,
          1.957507477541384,
          2.615073578788444,
          2.5986866602545486,
          2.631005422541345,
          1.401275396721811,
          2.137365060775647,
          2.604896871500066,
          2.0637878338300006,
          2.1690327470410717,
          2.0592989999037643,
          2.7688251560667716,
          2.9343990720633095,
          2.9225175725154755,
          2.726214568624793,
          0.9490003502178272
         ],
         "y": [
          -0.14933112386486558,
          0.07304173804938334,
          0.1592777171408661,
          -0.14322640256098607,
          -0.01160189199749338,
          -0.2768345140750144,
          0.02738341414274402,
          -0.18034382069068533,
          0.32007260139476457,
          -0.3686403433218258,
          0.1763331146587188,
          -0.16540278407106682,
          0.06436481287662382,
          -0.21028521828099253,
          -0.12445019678978389,
          -0.15945239848675447,
          -0.4316620427659376,
          -0.5157433361053315,
          -0.5845845312046092,
          -0.08757965214459507,
          -0.20981057629354843,
          -0.14801870517204654,
          -0.26113394349361363,
          -0.6643998585687455,
          -0.3347512208430758,
          -0.7106657454028656,
          -0.7024271548826253,
          0.8030836020089864,
          0.4949885785442112,
          0.12451983028753294,
          0.5064787436892545,
          -0.8154424986270339,
          -0.4860356294170429
         ]
        },
        {
         "hovertemplate": [
          "'client_id': '0045'<br> 'nb_trades': 13<br> 'nb_products': 7<br> 'aum': 411508<br> 'age': 65<br> 'silhouette': 0.6551943269733458",
          "'client_id': '0047'<br> 'nb_trades': 14<br> 'nb_products': 6<br> 'aum': 341637<br> 'age': 63<br> 'silhouette': 0.6490491490487386",
          "'client_id': '0035'<br> 'nb_trades': 13<br> 'nb_products': 4<br> 'aum': 394038<br> 'age': 69<br> 'silhouette': 0.6176534394415301",
          "'client_id': '0061'<br> 'nb_trades': 12<br> 'nb_products': 7<br> 'aum': 462421<br> 'age': 67<br> 'silhouette': 0.6175486259469195",
          "'client_id': '0044'<br> 'nb_trades': 11<br> 'nb_products': 7<br> 'aum': 278116<br> 'age': 72<br> 'silhouette': 0.598225962010438",
          "'client_id': '0055'<br> 'nb_trades': 14<br> 'nb_products': 7<br> 'aum': 360178<br> 'age': 58<br> 'silhouette': 0.5942035325125476",
          "'client_id': '0038'<br> 'nb_trades': 11<br> 'nb_products': 6<br> 'aum': 260647<br> 'age': 67<br> 'silhouette': 0.5915919330097045",
          "'client_id': '0057'<br> 'nb_trades': 10<br> 'nb_products': 7<br> 'aum': 324064<br> 'age': 74<br> 'silhouette': 0.5878753088548692",
          "'client_id': '0043'<br> 'nb_trades': 13<br> 'nb_products': 7<br> 'aum': 234605<br> 'age': 67<br> 'silhouette': 0.5863473164199078",
          "'client_id': '0041'<br> 'nb_trades': 13<br> 'nb_products': 6<br> 'aum': 316830<br> 'age': 58<br> 'silhouette': 0.575900605566483",
          "'client_id': '0051'<br> 'nb_trades': 10<br> 'nb_products': 7<br> 'aum': 337652<br> 'age': 61<br> 'silhouette': 0.5652767615527118",
          "'client_id': '0056'<br> 'nb_trades': 10<br> 'nb_products': 6<br> 'aum': 267509<br> 'age': 65<br> 'silhouette': 0.5569873751597443",
          "'client_id': '0049'<br> 'nb_trades': 14<br> 'nb_products': 6<br> 'aum': 345292<br> 'age': 56<br> 'silhouette': 0.5543301929017194",
          "'client_id': '0062'<br> 'nb_trades': 13<br> 'nb_products': 8<br> 'aum': 487342<br> 'age': 61<br> 'silhouette': 0.5501308479643231",
          "'client_id': '0058'<br> 'nb_trades': 11<br> 'nb_products': 4<br> 'aum': 276410<br> 'age': 71<br> 'silhouette': 0.5473458578833575",
          "'client_id': '0053'<br> 'nb_trades': 11<br> 'nb_products': 3<br> 'aum': 368235<br> 'age': 72<br> 'silhouette': 0.5413652281686686",
          "'client_id': '0039'<br> 'nb_trades': 12<br> 'nb_products': 4<br> 'aum': 414892<br> 'age': 59<br> 'silhouette': 0.5374182667540517",
          "'client_id': '0054'<br> 'nb_trades': 12<br> 'nb_products': 9<br> 'aum': 236503<br> 'age': 66<br> 'silhouette': 0.5352444774103194",
          "'client_id': '0040'<br> 'nb_trades': 10<br> 'nb_products': 4<br> 'aum': 486380<br> 'age': 72<br> 'silhouette': 0.5310223168271497",
          "'client_id': '0036'<br> 'nb_trades': 12<br> 'nb_products': 9<br> 'aum': 430567<br> 'age': 69<br> 'silhouette': 0.5254514544680553",
          "'client_id': '0050'<br> 'nb_trades': 14<br> 'nb_products': 3<br> 'aum': 265187<br> 'age': 73<br> 'silhouette': 0.5204165680073689",
          "'client_id': '0066'<br> 'nb_trades': 13<br> 'nb_products': 4<br> 'aum': 493708<br> 'age': 59<br> 'silhouette': 0.5171488352263447",
          "'client_id': '0037'<br> 'nb_trades': 10<br> 'nb_products': 7<br> 'aum': 218677<br> 'age': 73<br> 'silhouette': 0.5143499919864278",
          "'client_id': '0060'<br> 'nb_trades': 11<br> 'nb_products': 5<br> 'aum': 351811<br> 'age': 57<br> 'silhouette': 0.5022099941920182",
          "'client_id': '0059'<br> 'nb_trades': 11<br> 'nb_products': 5<br> 'aum': 236819<br> 'age': 62<br> 'silhouette': 0.48961421788487963",
          "'client_id': '0064'<br> 'nb_trades': 14<br> 'nb_products': 4<br> 'aum': 481210<br> 'age': 56<br> 'silhouette': 0.4866276029684865",
          "'client_id': '0063'<br> 'nb_trades': 14<br> 'nb_products': 7<br> 'aum': 498484<br> 'age': 71<br> 'silhouette': 0.4688824097287978",
          "'client_id': '0048'<br> 'nb_trades': 11<br> 'nb_products': 8<br> 'aum': 499446<br> 'age': 74<br> 'silhouette': 0.43325126132767644",
          "'client_id': '0034'<br> 'nb_trades': 11<br> 'nb_products': 9<br> 'aum': 263435<br> 'age': 56<br> 'silhouette': 0.4166873995006108",
          "'client_id': '0046'<br> 'nb_trades': 10<br> 'nb_products': 3<br> 'aum': 468264<br> 'age': 59<br> 'silhouette': 0.41207912970916366",
          "'client_id': '0065'<br> 'nb_trades': 13<br> 'nb_products': 5<br> 'aum': 205613<br> 'age': 55<br> 'silhouette': 0.3448570031458321",
          "'client_id': '0052'<br> 'nb_trades': 10<br> 'nb_products': 3<br> 'aum': 230434<br> 'age': 60<br> 'silhouette': 0.2672284541078339",
          "'client_id': '0042'<br> 'nb_trades': 10<br> 'nb_products': 3<br> 'aum': 241513<br> 'age': 57<br> 'silhouette': 0.19148790682070116"
         ],
         "marker": {
          "line": {
           "width": 2
          },
          "size": 20
         },
         "mode": "markers",
         "name": "emerging clients",
         "text": [
          "client 0045",
          "client 0047",
          "client 0035",
          "client 0061",
          "client 0044",
          "client 0055",
          "client 0038",
          "client 0057",
          "client 0043",
          "client 0041",
          "client 0051",
          "client 0056",
          "client 0049",
          "client 0062",
          "client 0058",
          "client 0053",
          "client 0039",
          "client 0054",
          "client 0040",
          "client 0036",
          "client 0050",
          "client 0066",
          "client 0037",
          "client 0060",
          "client 0059",
          "client 0064",
          "client 0063",
          "client 0048",
          "client 0034",
          "client 0046",
          "client 0065",
          "client 0052",
          "client 0042"
         ],
         "type": "scatter",
         "x": [
          -0.8995420592638399,
          -0.9949354911999488,
          -1.0867837253418415,
          -0.9387860817211685,
          -0.805937260835107,
          -0.9729095896528683,
          -0.7753955362019772,
          -0.5655014602540922,
          -1.1502721358928774,
          -0.6591962889090155,
          -0.5289345491540766,
          -0.4914029036454943,
          -0.9377872573820955,
          -0.6483354017711365,
          -0.9749450100026934,
          -1.5955975135658838,
          -1.194465634898642,
          -0.4103741334286938,
          -0.282166527802465,
          -0.4314354542538855,
          -1.5164595593192112,
          -1.4376201412230645,
          -1.786298817264862,
          -1.4200143925759905,
          -1.7409813632791966,
          -0.8281126482966494,
          -0.7767847447224399,
          -0.1386153349009479,
          -1.2791984224652766,
          -0.08554966973650513,
          -1.330306655971984,
          -1.5619904740115516,
          -0.450429199419478
         ],
         "y": [
          1.659877097970539,
          1.9285831869037142,
          1.9136133459476103,
          1.9921486061667688,
          1.3715285218675044,
          1.3166530501015536,
          2.1191021845351385,
          1.602783878796525,
          2.1690662446885183,
          2.0563209022331663,
          1.522161793950307,
          1.8759009863387732,
          1.1662144186020291,
          2.1996230428761265,
          1.1192536878065602,
          1.5325486328948768,
          2.3718107875386827,
          1.3970376555598754,
          1.6572842902991984,
          2.1768617205943155,
          1.20177328462497,
          1.0819818403744335,
          1.9259436314806955,
          2.4461522735742713,
          2.188941898949567,
          2.6240121356000876,
          2.6403569462559853,
          1.3606947085664243,
          2.632836533728367,
          2.0282416873526197,
          2.659549626288952,
          2.653338586026009,
          2.6695238717093366
         ]
        },
        {
         "hovertemplate": [
          "'client_id': '0081'<br> 'nb_trades': 22<br> 'nb_products': 15<br> 'aum': 709504<br> 'age': 84<br> 'silhouette': 0.6627874287923095",
          "'client_id': '0094'<br> 'nb_trades': 21<br> 'nb_products': 15<br> 'aum': 734105<br> 'age': 87<br> 'silhouette': 0.6549142524830961",
          "'client_id': '0080'<br> 'nb_trades': 22<br> 'nb_products': 14<br> 'aum': 681324<br> 'age': 83<br> 'silhouette': 0.6525610135048547",
          "'client_id': '0083'<br> 'nb_trades': 24<br> 'nb_products': 15<br> 'aum': 801988<br> 'age': 86<br> 'silhouette': 0.644972015106427",
          "'client_id': '0069'<br> 'nb_trades': 20<br> 'nb_products': 15<br> 'aum': 727622<br> 'age': 80<br> 'silhouette': 0.627648875032173",
          "'client_id': '0088'<br> 'nb_trades': 23<br> 'nb_products': 18<br> 'aum': 744736<br> 'age': 83<br> 'silhouette': 0.6256026412559745",
          "'client_id': '0071'<br> 'nb_trades': 22<br> 'nb_products': 18<br> 'aum': 710646<br> 'age': 85<br> 'silhouette': 0.6255098627635381",
          "'client_id': '0073'<br> 'nb_trades': 23<br> 'nb_products': 18<br> 'aum': 774311<br> 'age': 84<br> 'silhouette': 0.6238905747189314",
          "'client_id': '0090'<br> 'nb_trades': 20<br> 'nb_products': 14<br> 'aum': 831559<br> 'age': 85<br> 'silhouette': 0.6139091921131064",
          "'client_id': '0099'<br> 'nb_trades': 21<br> 'nb_products': 12<br> 'aum': 761807<br> 'age': 85<br> 'silhouette': 0.6082894734451729",
          "'client_id': '0075'<br> 'nb_trades': 20<br> 'nb_products': 12<br> 'aum': 664104<br> 'age': 88<br> 'silhouette': 0.5869254824944656",
          "'client_id': '0091'<br> 'nb_trades': 24<br> 'nb_products': 17<br> 'aum': 945248<br> 'age': 83<br> 'silhouette': 0.5715333349484766",
          "'client_id': '0074'<br> 'nb_trades': 20<br> 'nb_products': 16<br> 'aum': 928960<br> 'age': 82<br> 'silhouette': 0.5667434304388504",
          "'client_id': '0079'<br> 'nb_trades': 24<br> 'nb_products': 13<br> 'aum': 937402<br> 'age': 85<br> 'silhouette': 0.5650241137669992",
          "'client_id': '0096'<br> 'nb_trades': 20<br> 'nb_products': 17<br> 'aum': 657509<br> 'age': 75<br> 'silhouette': 0.5609644766809376",
          "'client_id': '0086'<br> 'nb_trades': 24<br> 'nb_products': 13<br> 'aum': 535143<br> 'age': 86<br> 'silhouette': 0.5605844166425893",
          "'client_id': '0067'<br> 'nb_trades': 20<br> 'nb_products': 17<br> 'aum': 562594<br> 'age': 81<br> 'silhouette': 0.5588184569783006",
          "'client_id': '0084'<br> 'nb_trades': 22<br> 'nb_products': 16<br> 'aum': 984285<br> 'age': 87<br> 'silhouette': 0.5564285006672801",
          "'client_id': '0077'<br> 'nb_trades': 24<br> 'nb_products': 12<br> 'aum': 583338<br> 'age': 79<br> 'silhouette': 0.5414008035940845",
          "'client_id': '0070'<br> 'nb_trades': 20<br> 'nb_products': 12<br> 'aum': 577468<br> 'age': 81<br> 'silhouette': 0.5141261833362823",
          "'client_id': '00100'<br> 'nb_trades': 21<br> 'nb_products': 15<br> 'aum': 477699<br> 'age': 84<br> 'silhouette': 0.5120847968887051",
          "'client_id': '0092'<br> 'nb_trades': 23<br> 'nb_products': 9<br> 'aum': 780611<br> 'age': 85<br> 'silhouette': 0.5016966143839774",
          "'client_id': '0072'<br> 'nb_trades': 22<br> 'nb_products': 16<br> 'aum': 470253<br> 'age': 79<br> 'silhouette': 0.4899393119598332",
          "'client_id': '0089'<br> 'nb_trades': 22<br> 'nb_products': 19<br> 'aum': 415937<br> 'age': 88<br> 'silhouette': 0.44636198894876605",
          "'client_id': '0098'<br> 'nb_trades': 20<br> 'nb_products': 16<br> 'aum': 437662<br> 'age': 82<br> 'silhouette': 0.44497703794245574",
          "'client_id': '0082'<br> 'nb_trades': 24<br> 'nb_products': 8<br> 'aum': 671381<br> 'age': 87<br> 'silhouette': 0.44074422193175194",
          "'client_id': '0068'<br> 'nb_trades': 20<br> 'nb_products': 8<br> 'aum': 617948<br> 'age': 89<br> 'silhouette': 0.35909946257167713",
          "'client_id': '0097'<br> 'nb_trades': 20<br> 'nb_products': 8<br> 'aum': 715030<br> 'age': 79<br> 'silhouette': 0.35242756727755903",
          "'client_id': '0076'<br> 'nb_trades': 21<br> 'nb_products': 9<br> 'aum': 641529<br> 'age': 75<br> 'silhouette': 0.34045868082101693",
          "'client_id': '0095'<br> 'nb_trades': 20<br> 'nb_products': 12<br> 'aum': 426062<br> 'age': 83<br> 'silhouette': 0.32567523568093937",
          "'client_id': '0085'<br> 'nb_trades': 20<br> 'nb_products': 9<br> 'aum': 501445<br> 'age': 83<br> 'silhouette': 0.2470649223673078",
          "'client_id': '0093'<br> 'nb_trades': 21<br> 'nb_products': 11<br> 'aum': 415613<br> 'age': 79<br> 'silhouette': 0.22776874001646766",
          "'client_id': '0087'<br> 'nb_trades': 20<br> 'nb_products': 11<br> 'aum': 440361<br> 'age': 77<br> 'silhouette': 0.20159821722475837",
          "'client_id': '0078'<br> 'nb_trades': 21<br> 'nb_products': 8<br> 'aum': 453373<br> 'age': 77<br> 'silhouette': -0.008162146419777118"
         ],
         "marker": {
          "line": {
           "width": 2
          },
          "size": 20
         },
         "mode": "markers",
         "name": "active clients",
         "text": [
          "client 0081",
          "client 0094",
          "client 0080",
          "client 0083",
          "client 0069",
          "client 0088",
          "client 0071",
          "client 0073",
          "client 0090",
          "client 0099",
          "client 0075",
          "client 0091",
          "client 0074",
          "client 0079",
          "client 0096",
          "client 0086",
          "client 0067",
          "client 0084",
          "client 0077",
          "client 0070",
          "client 00100",
          "client 0092",
          "client 0072",
          "client 0089",
          "client 0098",
          "client 0082",
          "client 0068",
          "client 0097",
          "client 0076",
          "client 0095",
          "client 0085",
          "client 0093",
          "client 0087",
          "client 0078"
         ],
         "type": "scatter",
         "x": [
          -1.105347897091465,
          -1.034513454461824,
          -1.2518818281854653,
          -1.049792743037689,
          -0.657891258411379,
          -0.7777759564659175,
          -0.9157042384163213,
          -1.4179744707618767,
          -0.9557206228040893,
          -0.6788304074216882,
          -0.7997180813814952,
          -0.5223258654408593,
          -1.461663352726489,
          -0.7083869759851278,
          -1.5461795155386822,
          -1.5803366859991759,
          -1.3410463377144215,
          -0.5198267738711548,
          -1.2214291722018793,
          -1.5528200637438028,
          -1.3766626167968299,
          -1.321581600644694,
          -1.665525235999575,
          -0.9839015726803302,
          -0.5729601758831183,
          -1.3355566961509027,
          -0.43019954750914835,
          -0.4350647144228915,
          -1.7542092653279928,
          -0.02413173964411841,
          -1.2334481898948093,
          -0.1334703262058553,
          0.20528463936223829,
          -1.6197687286787787
         ],
         "y": [
          -1.5708530707447954,
          -1.41583759554853,
          -1.467401623126568,
          -2.106087638563356,
          -1.5717558621079246,
          -1.3873317574200028,
          -2.1383783364531386,
          -1.7056681180203763,
          -1.315560413157086,
          -2.0807932608029285,
          -1.2987054288263613,
          -1.7232106556385043,
          -1.911084590225217,
          -1.2663229143117136,
          -1.5969888028808574,
          -1.7519182440334375,
          -2.237913567976219,
          -1.3417147667230758,
          -2.3228185884506547,
          -2.0613095062902556,
          -2.290596930750453,
          -1.131200168979918,
          -2.0575632912112645,
          -2.513324733481797,
          -1.0560966546677113,
          -0.9516652389826559,
          -2.385918164104935,
          -2.4274377145278105,
          -2.2551231041918687,
          -1.8188110246324527,
          -2.856545506653484,
          -2.5422976310274867,
          -1.9624381239462567,
          -0.6379859028745896
         ]
        }
       ],
       "layout": {
        "showlegend": false,
        "template": {
         "data": {
          "bar": [
           {
            "error_x": {
             "color": "#2a3f5f"
            },
            "error_y": {
             "color": "#2a3f5f"
            },
            "marker": {
             "line": {
              "color": "#E5ECF6",
              "width": 0.5
             },
             "pattern": {
              "fillmode": "overlay",
              "size": 10,
              "solidity": 0.2
             }
            },
            "type": "bar"
           }
          ],
          "barpolar": [
           {
            "marker": {
             "line": {
              "color": "#E5ECF6",
              "width": 0.5
             },
             "pattern": {
              "fillmode": "overlay",
              "size": 10,
              "solidity": 0.2
             }
            },
            "type": "barpolar"
           }
          ],
          "carpet": [
           {
            "aaxis": {
             "endlinecolor": "#2a3f5f",
             "gridcolor": "white",
             "linecolor": "white",
             "minorgridcolor": "white",
             "startlinecolor": "#2a3f5f"
            },
            "baxis": {
             "endlinecolor": "#2a3f5f",
             "gridcolor": "white",
             "linecolor": "white",
             "minorgridcolor": "white",
             "startlinecolor": "#2a3f5f"
            },
            "type": "carpet"
           }
          ],
          "choropleth": [
           {
            "colorbar": {
             "outlinewidth": 0,
             "ticks": ""
            },
            "type": "choropleth"
           }
          ],
          "contour": [
           {
            "colorbar": {
             "outlinewidth": 0,
             "ticks": ""
            },
            "colorscale": [
             [
              0,
              "#0d0887"
             ],
             [
              0.1111111111111111,
              "#46039f"
             ],
             [
              0.2222222222222222,
              "#7201a8"
             ],
             [
              0.3333333333333333,
              "#9c179e"
             ],
             [
              0.4444444444444444,
              "#bd3786"
             ],
             [
              0.5555555555555556,
              "#d8576b"
             ],
             [
              0.6666666666666666,
              "#ed7953"
             ],
             [
              0.7777777777777778,
              "#fb9f3a"
             ],
             [
              0.8888888888888888,
              "#fdca26"
             ],
             [
              1,
              "#f0f921"
             ]
            ],
            "type": "contour"
           }
          ],
          "contourcarpet": [
           {
            "colorbar": {
             "outlinewidth": 0,
             "ticks": ""
            },
            "type": "contourcarpet"
           }
          ],
          "heatmap": [
           {
            "colorbar": {
             "outlinewidth": 0,
             "ticks": ""
            },
            "colorscale": [
             [
              0,
              "#0d0887"
             ],
             [
              0.1111111111111111,
              "#46039f"
             ],
             [
              0.2222222222222222,
              "#7201a8"
             ],
             [
              0.3333333333333333,
              "#9c179e"
             ],
             [
              0.4444444444444444,
              "#bd3786"
             ],
             [
              0.5555555555555556,
              "#d8576b"
             ],
             [
              0.6666666666666666,
              "#ed7953"
             ],
             [
              0.7777777777777778,
              "#fb9f3a"
             ],
             [
              0.8888888888888888,
              "#fdca26"
             ],
             [
              1,
              "#f0f921"
             ]
            ],
            "type": "heatmap"
           }
          ],
          "heatmapgl": [
           {
            "colorbar": {
             "outlinewidth": 0,
             "ticks": ""
            },
            "colorscale": [
             [
              0,
              "#0d0887"
             ],
             [
              0.1111111111111111,
              "#46039f"
             ],
             [
              0.2222222222222222,
              "#7201a8"
             ],
             [
              0.3333333333333333,
              "#9c179e"
             ],
             [
              0.4444444444444444,
              "#bd3786"
             ],
             [
              0.5555555555555556,
              "#d8576b"
             ],
             [
              0.6666666666666666,
              "#ed7953"
             ],
             [
              0.7777777777777778,
              "#fb9f3a"
             ],
             [
              0.8888888888888888,
              "#fdca26"
             ],
             [
              1,
              "#f0f921"
             ]
            ],
            "type": "heatmapgl"
           }
          ],
          "histogram": [
           {
            "marker": {
             "pattern": {
              "fillmode": "overlay",
              "size": 10,
              "solidity": 0.2
             }
            },
            "type": "histogram"
           }
          ],
          "histogram2d": [
           {
            "colorbar": {
             "outlinewidth": 0,
             "ticks": ""
            },
            "colorscale": [
             [
              0,
              "#0d0887"
             ],
             [
              0.1111111111111111,
              "#46039f"
             ],
             [
              0.2222222222222222,
              "#7201a8"
             ],
             [
              0.3333333333333333,
              "#9c179e"
             ],
             [
              0.4444444444444444,
              "#bd3786"
             ],
             [
              0.5555555555555556,
              "#d8576b"
             ],
             [
              0.6666666666666666,
              "#ed7953"
             ],
             [
              0.7777777777777778,
              "#fb9f3a"
             ],
             [
              0.8888888888888888,
              "#fdca26"
             ],
             [
              1,
              "#f0f921"
             ]
            ],
            "type": "histogram2d"
           }
          ],
          "histogram2dcontour": [
           {
            "colorbar": {
             "outlinewidth": 0,
             "ticks": ""
            },
            "colorscale": [
             [
              0,
              "#0d0887"
             ],
             [
              0.1111111111111111,
              "#46039f"
             ],
             [
              0.2222222222222222,
              "#7201a8"
             ],
             [
              0.3333333333333333,
              "#9c179e"
             ],
             [
              0.4444444444444444,
              "#bd3786"
             ],
             [
              0.5555555555555556,
              "#d8576b"
             ],
             [
              0.6666666666666666,
              "#ed7953"
             ],
             [
              0.7777777777777778,
              "#fb9f3a"
             ],
             [
              0.8888888888888888,
              "#fdca26"
             ],
             [
              1,
              "#f0f921"
             ]
            ],
            "type": "histogram2dcontour"
           }
          ],
          "mesh3d": [
           {
            "colorbar": {
             "outlinewidth": 0,
             "ticks": ""
            },
            "type": "mesh3d"
           }
          ],
          "parcoords": [
           {
            "line": {
             "colorbar": {
              "outlinewidth": 0,
              "ticks": ""
             }
            },
            "type": "parcoords"
           }
          ],
          "pie": [
           {
            "automargin": true,
            "type": "pie"
           }
          ],
          "scatter": [
           {
            "fillpattern": {
             "fillmode": "overlay",
             "size": 10,
             "solidity": 0.2
            },
            "type": "scatter"
           }
          ],
          "scatter3d": [
           {
            "line": {
             "colorbar": {
              "outlinewidth": 0,
              "ticks": ""
             }
            },
            "marker": {
             "colorbar": {
              "outlinewidth": 0,
              "ticks": ""
             }
            },
            "type": "scatter3d"
           }
          ],
          "scattercarpet": [
           {
            "marker": {
             "colorbar": {
              "outlinewidth": 0,
              "ticks": ""
             }
            },
            "type": "scattercarpet"
           }
          ],
          "scattergeo": [
           {
            "marker": {
             "colorbar": {
              "outlinewidth": 0,
              "ticks": ""
             }
            },
            "type": "scattergeo"
           }
          ],
          "scattergl": [
           {
            "marker": {
             "colorbar": {
              "outlinewidth": 0,
              "ticks": ""
             }
            },
            "type": "scattergl"
           }
          ],
          "scattermapbox": [
           {
            "marker": {
             "colorbar": {
              "outlinewidth": 0,
              "ticks": ""
             }
            },
            "type": "scattermapbox"
           }
          ],
          "scatterpolar": [
           {
            "marker": {
             "colorbar": {
              "outlinewidth": 0,
              "ticks": ""
             }
            },
            "type": "scatterpolar"
           }
          ],
          "scatterpolargl": [
           {
            "marker": {
             "colorbar": {
              "outlinewidth": 0,
              "ticks": ""
             }
            },
            "type": "scatterpolargl"
           }
          ],
          "scatterternary": [
           {
            "marker": {
             "colorbar": {
              "outlinewidth": 0,
              "ticks": ""
             }
            },
            "type": "scatterternary"
           }
          ],
          "surface": [
           {
            "colorbar": {
             "outlinewidth": 0,
             "ticks": ""
            },
            "colorscale": [
             [
              0,
              "#0d0887"
             ],
             [
              0.1111111111111111,
              "#46039f"
             ],
             [
              0.2222222222222222,
              "#7201a8"
             ],
             [
              0.3333333333333333,
              "#9c179e"
             ],
             [
              0.4444444444444444,
              "#bd3786"
             ],
             [
              0.5555555555555556,
              "#d8576b"
             ],
             [
              0.6666666666666666,
              "#ed7953"
             ],
             [
              0.7777777777777778,
              "#fb9f3a"
             ],
             [
              0.8888888888888888,
              "#fdca26"
             ],
             [
              1,
              "#f0f921"
             ]
            ],
            "type": "surface"
           }
          ],
          "table": [
           {
            "cells": {
             "fill": {
              "color": "#EBF0F8"
             },
             "line": {
              "color": "white"
             }
            },
            "header": {
             "fill": {
              "color": "#C8D4E3"
             },
             "line": {
              "color": "white"
             }
            },
            "type": "table"
           }
          ]
         },
         "layout": {
          "annotationdefaults": {
           "arrowcolor": "#2a3f5f",
           "arrowhead": 0,
           "arrowwidth": 1
          },
          "autotypenumbers": "strict",
          "coloraxis": {
           "colorbar": {
            "outlinewidth": 0,
            "ticks": ""
           }
          },
          "colorscale": {
           "diverging": [
            [
             0,
             "#8e0152"
            ],
            [
             0.1,
             "#c51b7d"
            ],
            [
             0.2,
             "#de77ae"
            ],
            [
             0.3,
             "#f1b6da"
            ],
            [
             0.4,
             "#fde0ef"
            ],
            [
             0.5,
             "#f7f7f7"
            ],
            [
             0.6,
             "#e6f5d0"
            ],
            [
             0.7,
             "#b8e186"
            ],
            [
             0.8,
             "#7fbc41"
            ],
            [
             0.9,
             "#4d9221"
            ],
            [
             1,
             "#276419"
            ]
           ],
           "sequential": [
            [
             0,
             "#0d0887"
            ],
            [
             0.1111111111111111,
             "#46039f"
            ],
            [
             0.2222222222222222,
             "#7201a8"
            ],
            [
             0.3333333333333333,
             "#9c179e"
            ],
            [
             0.4444444444444444,
             "#bd3786"
            ],
            [
             0.5555555555555556,
             "#d8576b"
            ],
            [
             0.6666666666666666,
             "#ed7953"
            ],
            [
             0.7777777777777778,
             "#fb9f3a"
            ],
            [
             0.8888888888888888,
             "#fdca26"
            ],
            [
             1,
             "#f0f921"
            ]
           ],
           "sequentialminus": [
            [
             0,
             "#0d0887"
            ],
            [
             0.1111111111111111,
             "#46039f"
            ],
            [
             0.2222222222222222,
             "#7201a8"
            ],
            [
             0.3333333333333333,
             "#9c179e"
            ],
            [
             0.4444444444444444,
             "#bd3786"
            ],
            [
             0.5555555555555556,
             "#d8576b"
            ],
            [
             0.6666666666666666,
             "#ed7953"
            ],
            [
             0.7777777777777778,
             "#fb9f3a"
            ],
            [
             0.8888888888888888,
             "#fdca26"
            ],
            [
             1,
             "#f0f921"
            ]
           ]
          },
          "colorway": [
           "#636efa",
           "#EF553B",
           "#00cc96",
           "#ab63fa",
           "#FFA15A",
           "#19d3f3",
           "#FF6692",
           "#B6E880",
           "#FF97FF",
           "#FECB52"
          ],
          "font": {
           "color": "#2a3f5f"
          },
          "geo": {
           "bgcolor": "white",
           "lakecolor": "white",
           "landcolor": "#E5ECF6",
           "showlakes": true,
           "showland": true,
           "subunitcolor": "white"
          },
          "hoverlabel": {
           "align": "left"
          },
          "hovermode": "closest",
          "mapbox": {
           "style": "light"
          },
          "paper_bgcolor": "white",
          "plot_bgcolor": "#E5ECF6",
          "polar": {
           "angularaxis": {
            "gridcolor": "white",
            "linecolor": "white",
            "ticks": ""
           },
           "bgcolor": "#E5ECF6",
           "radialaxis": {
            "gridcolor": "white",
            "linecolor": "white",
            "ticks": ""
           }
          },
          "scene": {
           "xaxis": {
            "backgroundcolor": "#E5ECF6",
            "gridcolor": "white",
            "gridwidth": 2,
            "linecolor": "white",
            "showbackground": true,
            "ticks": "",
            "zerolinecolor": "white"
           },
           "yaxis": {
            "backgroundcolor": "#E5ECF6",
            "gridcolor": "white",
            "gridwidth": 2,
            "linecolor": "white",
            "showbackground": true,
            "ticks": "",
            "zerolinecolor": "white"
           },
           "zaxis": {
            "backgroundcolor": "#E5ECF6",
            "gridcolor": "white",
            "gridwidth": 2,
            "linecolor": "white",
            "showbackground": true,
            "ticks": "",
            "zerolinecolor": "white"
           }
          },
          "shapedefaults": {
           "line": {
            "color": "#2a3f5f"
           }
          },
          "ternary": {
           "aaxis": {
            "gridcolor": "white",
            "linecolor": "white",
            "ticks": ""
           },
           "baxis": {
            "gridcolor": "white",
            "linecolor": "white",
            "ticks": ""
           },
           "bgcolor": "#E5ECF6",
           "caxis": {
            "gridcolor": "white",
            "linecolor": "white",
            "ticks": ""
           }
          },
          "title": {
           "x": 0.05
          },
          "xaxis": {
           "automargin": true,
           "gridcolor": "white",
           "linecolor": "white",
           "ticks": "",
           "title": {
            "standoff": 15
           },
           "zerolinecolor": "white",
           "zerolinewidth": 2
          },
          "yaxis": {
           "automargin": true,
           "gridcolor": "white",
           "linecolor": "white",
           "ticks": "",
           "title": {
            "standoff": 15
           },
           "zerolinecolor": "white",
           "zerolinewidth": 2
          }
         }
        },
        "xaxis": {
         "range": [
          -1,
          2
         ],
         "scaleanchor": "y",
         "scaleratio": 1,
         "visible": false
        },
        "yaxis": {
         "range": [
          -2,
          2
         ],
         "scaleanchor": "x",
         "scaleratio": 1,
         "visible": false
        }
       }
      },
      "text/html": [
       "<div>                            <div id=\"9c3239a1-dab7-4690-a9b2-ce5dc104b336\" class=\"plotly-graph-div\" style=\"height:525px; width:100%;\"></div>            <script type=\"text/javascript\">                require([\"plotly\"], function(Plotly) {                    window.PLOTLYENV=window.PLOTLYENV || {};                                    if (document.getElementById(\"9c3239a1-dab7-4690-a9b2-ce5dc104b336\")) {                    Plotly.newPlot(                        \"9c3239a1-dab7-4690-a9b2-ce5dc104b336\",                        [{\"hovertemplate\":[\"'client_id': '0022'<br> 'nb_trades': 2<br> 'nb_products': 2<br> 'aum': 152167<br> 'age': 42<br> 'silhouette': 0.7016916371074822\",\"'client_id': '0027'<br> 'nb_trades': 2<br> 'nb_products': 2<br> 'aum': 165262<br> 'age': 40<br> 'silhouette': 0.7006076902309724\",\"'client_id': '003'<br> 'nb_trades': 2<br> 'nb_products': 1<br> 'aum': 160614<br> 'age': 45<br> 'silhouette': 0.6864185106165799\",\"'client_id': '006'<br> 'nb_trades': 1<br> 'nb_products': 4<br> 'aum': 168491<br> 'age': 41<br> 'silhouette': 0.6688879090216626\",\"'client_id': '007'<br> 'nb_trades': 1<br> 'nb_products': 1<br> 'aum': 194243<br> 'age': 35<br> 'silhouette': 0.6592862647329463\",\"'client_id': '009'<br> 'nb_trades': 2<br> 'nb_products': 1<br> 'aum': 106364<br> 'age': 45<br> 'silhouette': 0.6567053270667068\",\"'client_id': '0033'<br> 'nb_trades': 1<br> 'nb_products': 1<br> 'aum': 207852<br> 'age': 49<br> 'silhouette': 0.653100980067294\",\"'client_id': '005'<br> 'nb_trades': 1<br> 'nb_products': 4<br> 'aum': 229418<br> 'age': 44<br> 'silhouette': 0.6529733399833354\",\"'client_id': '002'<br> 'nb_trades': 1<br> 'nb_products': 4<br> 'aum': 130392<br> 'age': 44<br> 'silhouette': 0.6511539517550113\",\"'client_id': '0018'<br> 'nb_trades': 3<br> 'nb_products': 1<br> 'aum': 158589<br> 'age': 48<br> 'silhouette': 0.6506865671905436\",\"'client_id': '0026'<br> 'nb_trades': 3<br> 'nb_products': 1<br> 'aum': 122266<br> 'age': 37<br> 'silhouette': 0.6448561751397293\",\"'client_id': '0025'<br> 'nb_trades': 1<br> 'nb_products': 3<br> 'aum': 240450<br> 'age': 34<br> 'silhouette': 0.641621437128159\",\"'client_id': '0016'<br> 'nb_trades': 2<br> 'nb_products': 4<br> 'aum': 180571<br> 'age': 48<br> 'silhouette': 0.6306135173438054\",\"'client_id': '0024'<br> 'nb_trades': 3<br> 'nb_products': 2<br> 'aum': 261941<br> 'age': 47<br> 'silhouette': 0.6292995135695943\",\"'client_id': '0031'<br> 'nb_trades': 3<br> 'nb_products': 4<br> 'aum': 259454<br> 'age': 40<br> 'silhouette': 0.6184689087022589\",\"'client_id': '0011'<br> 'nb_trades': 3<br> 'nb_products': 1<br> 'aum': 272249<br> 'age': 46<br> 'silhouette': 0.6161928351059146\",\"'client_id': '0013'<br> 'nb_trades': 2<br> 'nb_products': 1<br> 'aum': 244651<br> 'age': 32<br> 'silhouette': 0.6161574880683379\",\"'client_id': '0030'<br> 'nb_trades': 3<br> 'nb_products': 3<br> 'aum': 260519<br> 'age': 47<br> 'silhouette': 0.6154033465648346\",\"'client_id': '0029'<br> 'nb_trades': 3<br> 'nb_products': 4<br> 'aum': 149578<br> 'age': 33<br> 'silhouette': 0.6024231266095803\",\"'client_id': '008'<br> 'nb_trades': 2<br> 'nb_products': 3<br> 'aum': 202613<br> 'age': 52<br> 'silhouette': 0.5982603847066523\",\"'client_id': '0015'<br> 'nb_trades': 3<br> 'nb_products': 4<br> 'aum': 271481<br> 'age': 36<br> 'silhouette': 0.5973230697632093\",\"'client_id': '0020'<br> 'nb_trades': 1<br> 'nb_products': 4<br> 'aum': 173656<br> 'age': 51<br> 'silhouette': 0.5935839608293265\",\"'client_id': '0014'<br> 'nb_trades': 2<br> 'nb_products': 1<br> 'aum': 293113<br> 'age': 31<br> 'silhouette': 0.5766629662433542\",\"'client_id': '0032'<br> 'nb_trades': 4<br> 'nb_products': 4<br> 'aum': 216382<br> 'age': 32<br> 'silhouette': 0.5748625193140628\",\"'client_id': '001'<br> 'nb_trades': 3<br> 'nb_products': 4<br> 'aum': 298890<br> 'age': 36<br> 'silhouette': 0.5695936845084545\",\"'client_id': '0021'<br> 'nb_trades': 1<br> 'nb_products': 3<br> 'aum': 123646<br> 'age': 56<br> 'silhouette': 0.5156067911377009\",\"'client_id': '004'<br> 'nb_trades': 4<br> 'nb_products': 1<br> 'aum': 201998<br> 'age': 54<br> 'silhouette': 0.513417617533127\",\"'client_id': '0010'<br> 'nb_trades': 4<br> 'nb_products': 1<br> 'aum': 246225<br> 'age': 53<br> 'silhouette': 0.504197628890924\",\"'client_id': '0028'<br> 'nb_trades': 3<br> 'nb_products': 3<br> 'aum': 107709<br> 'age': 55<br> 'silhouette': 0.49595952246884134\",\"'client_id': '0017'<br> 'nb_trades': 4<br> 'nb_products': 1<br> 'aum': 120053<br> 'age': 57<br> 'silhouette': 0.4435416431726602\",\"'client_id': '0019'<br> 'nb_trades': 1<br> 'nb_products': 3<br> 'aum': 220576<br> 'age': 59<br> 'silhouette': 0.4120328425956592\",\"'client_id': '0023'<br> 'nb_trades': 4<br> 'nb_products': 4<br> 'aum': 272897<br> 'age': 53<br> 'silhouette': 0.37738981813733513\",\"'client_id': '0012'<br> 'nb_trades': 4<br> 'nb_products': 1<br> 'aum': 258754<br> 'age': 58<br> 'silhouette': 0.34577546919603525\"],\"marker\":{\"line\":{\"width\":2},\"size\":20},\"mode\":\"markers\",\"name\":\"passive clients\",\"text\":[\"client 0022\",\"client 0027\",\"client 003\",\"client 006\",\"client 007\",\"client 009\",\"client 0033\",\"client 005\",\"client 002\",\"client 0018\",\"client 0026\",\"client 0025\",\"client 0016\",\"client 0024\",\"client 0031\",\"client 0011\",\"client 0013\",\"client 0030\",\"client 0029\",\"client 008\",\"client 0015\",\"client 0020\",\"client 0014\",\"client 0032\",\"client 001\",\"client 0021\",\"client 004\",\"client 0010\",\"client 0028\",\"client 0017\",\"client 0019\",\"client 0023\",\"client 0012\"],\"x\":[2.018837594008443,2.155679694919887,2.1288818477662863,2.1647343374592984,2.269077812468477,1.9229412669013108,1.6944699224062854,2.313299480334666,2.182726973399311,1.9155416672520762,2.3558659484756124,1.6345216482831855,2.4029210270028334,1.6483909503597887,2.3911267439800823,1.597680060014495,1.9376901654968348,2.0500904464749787,1.957507477541384,2.615073578788444,2.5986866602545486,2.631005422541345,1.401275396721811,2.137365060775647,2.604896871500066,2.0637878338300006,2.1690327470410717,2.0592989999037643,2.7688251560667716,2.9343990720633095,2.9225175725154755,2.726214568624793,0.9490003502178272],\"y\":[-0.14933112386486558,0.07304173804938334,0.1592777171408661,-0.14322640256098607,-0.01160189199749338,-0.2768345140750144,0.02738341414274402,-0.18034382069068533,0.32007260139476457,-0.3686403433218258,0.1763331146587188,-0.16540278407106682,0.06436481287662382,-0.21028521828099253,-0.12445019678978389,-0.15945239848675447,-0.4316620427659376,-0.5157433361053315,-0.5845845312046092,-0.08757965214459507,-0.20981057629354843,-0.14801870517204654,-0.26113394349361363,-0.6643998585687455,-0.3347512208430758,-0.7106657454028656,-0.7024271548826253,0.8030836020089864,0.4949885785442112,0.12451983028753294,0.5064787436892545,-0.8154424986270339,-0.4860356294170429],\"type\":\"scatter\"},{\"hovertemplate\":[\"'client_id': '0045'<br> 'nb_trades': 13<br> 'nb_products': 7<br> 'aum': 411508<br> 'age': 65<br> 'silhouette': 0.6551943269733458\",\"'client_id': '0047'<br> 'nb_trades': 14<br> 'nb_products': 6<br> 'aum': 341637<br> 'age': 63<br> 'silhouette': 0.6490491490487386\",\"'client_id': '0035'<br> 'nb_trades': 13<br> 'nb_products': 4<br> 'aum': 394038<br> 'age': 69<br> 'silhouette': 0.6176534394415301\",\"'client_id': '0061'<br> 'nb_trades': 12<br> 'nb_products': 7<br> 'aum': 462421<br> 'age': 67<br> 'silhouette': 0.6175486259469195\",\"'client_id': '0044'<br> 'nb_trades': 11<br> 'nb_products': 7<br> 'aum': 278116<br> 'age': 72<br> 'silhouette': 0.598225962010438\",\"'client_id': '0055'<br> 'nb_trades': 14<br> 'nb_products': 7<br> 'aum': 360178<br> 'age': 58<br> 'silhouette': 0.5942035325125476\",\"'client_id': '0038'<br> 'nb_trades': 11<br> 'nb_products': 6<br> 'aum': 260647<br> 'age': 67<br> 'silhouette': 0.5915919330097045\",\"'client_id': '0057'<br> 'nb_trades': 10<br> 'nb_products': 7<br> 'aum': 324064<br> 'age': 74<br> 'silhouette': 0.5878753088548692\",\"'client_id': '0043'<br> 'nb_trades': 13<br> 'nb_products': 7<br> 'aum': 234605<br> 'age': 67<br> 'silhouette': 0.5863473164199078\",\"'client_id': '0041'<br> 'nb_trades': 13<br> 'nb_products': 6<br> 'aum': 316830<br> 'age': 58<br> 'silhouette': 0.575900605566483\",\"'client_id': '0051'<br> 'nb_trades': 10<br> 'nb_products': 7<br> 'aum': 337652<br> 'age': 61<br> 'silhouette': 0.5652767615527118\",\"'client_id': '0056'<br> 'nb_trades': 10<br> 'nb_products': 6<br> 'aum': 267509<br> 'age': 65<br> 'silhouette': 0.5569873751597443\",\"'client_id': '0049'<br> 'nb_trades': 14<br> 'nb_products': 6<br> 'aum': 345292<br> 'age': 56<br> 'silhouette': 0.5543301929017194\",\"'client_id': '0062'<br> 'nb_trades': 13<br> 'nb_products': 8<br> 'aum': 487342<br> 'age': 61<br> 'silhouette': 0.5501308479643231\",\"'client_id': '0058'<br> 'nb_trades': 11<br> 'nb_products': 4<br> 'aum': 276410<br> 'age': 71<br> 'silhouette': 0.5473458578833575\",\"'client_id': '0053'<br> 'nb_trades': 11<br> 'nb_products': 3<br> 'aum': 368235<br> 'age': 72<br> 'silhouette': 0.5413652281686686\",\"'client_id': '0039'<br> 'nb_trades': 12<br> 'nb_products': 4<br> 'aum': 414892<br> 'age': 59<br> 'silhouette': 0.5374182667540517\",\"'client_id': '0054'<br> 'nb_trades': 12<br> 'nb_products': 9<br> 'aum': 236503<br> 'age': 66<br> 'silhouette': 0.5352444774103194\",\"'client_id': '0040'<br> 'nb_trades': 10<br> 'nb_products': 4<br> 'aum': 486380<br> 'age': 72<br> 'silhouette': 0.5310223168271497\",\"'client_id': '0036'<br> 'nb_trades': 12<br> 'nb_products': 9<br> 'aum': 430567<br> 'age': 69<br> 'silhouette': 0.5254514544680553\",\"'client_id': '0050'<br> 'nb_trades': 14<br> 'nb_products': 3<br> 'aum': 265187<br> 'age': 73<br> 'silhouette': 0.5204165680073689\",\"'client_id': '0066'<br> 'nb_trades': 13<br> 'nb_products': 4<br> 'aum': 493708<br> 'age': 59<br> 'silhouette': 0.5171488352263447\",\"'client_id': '0037'<br> 'nb_trades': 10<br> 'nb_products': 7<br> 'aum': 218677<br> 'age': 73<br> 'silhouette': 0.5143499919864278\",\"'client_id': '0060'<br> 'nb_trades': 11<br> 'nb_products': 5<br> 'aum': 351811<br> 'age': 57<br> 'silhouette': 0.5022099941920182\",\"'client_id': '0059'<br> 'nb_trades': 11<br> 'nb_products': 5<br> 'aum': 236819<br> 'age': 62<br> 'silhouette': 0.48961421788487963\",\"'client_id': '0064'<br> 'nb_trades': 14<br> 'nb_products': 4<br> 'aum': 481210<br> 'age': 56<br> 'silhouette': 0.4866276029684865\",\"'client_id': '0063'<br> 'nb_trades': 14<br> 'nb_products': 7<br> 'aum': 498484<br> 'age': 71<br> 'silhouette': 0.4688824097287978\",\"'client_id': '0048'<br> 'nb_trades': 11<br> 'nb_products': 8<br> 'aum': 499446<br> 'age': 74<br> 'silhouette': 0.43325126132767644\",\"'client_id': '0034'<br> 'nb_trades': 11<br> 'nb_products': 9<br> 'aum': 263435<br> 'age': 56<br> 'silhouette': 0.4166873995006108\",\"'client_id': '0046'<br> 'nb_trades': 10<br> 'nb_products': 3<br> 'aum': 468264<br> 'age': 59<br> 'silhouette': 0.41207912970916366\",\"'client_id': '0065'<br> 'nb_trades': 13<br> 'nb_products': 5<br> 'aum': 205613<br> 'age': 55<br> 'silhouette': 0.3448570031458321\",\"'client_id': '0052'<br> 'nb_trades': 10<br> 'nb_products': 3<br> 'aum': 230434<br> 'age': 60<br> 'silhouette': 0.2672284541078339\",\"'client_id': '0042'<br> 'nb_trades': 10<br> 'nb_products': 3<br> 'aum': 241513<br> 'age': 57<br> 'silhouette': 0.19148790682070116\"],\"marker\":{\"line\":{\"width\":2},\"size\":20},\"mode\":\"markers\",\"name\":\"emerging clients\",\"text\":[\"client 0045\",\"client 0047\",\"client 0035\",\"client 0061\",\"client 0044\",\"client 0055\",\"client 0038\",\"client 0057\",\"client 0043\",\"client 0041\",\"client 0051\",\"client 0056\",\"client 0049\",\"client 0062\",\"client 0058\",\"client 0053\",\"client 0039\",\"client 0054\",\"client 0040\",\"client 0036\",\"client 0050\",\"client 0066\",\"client 0037\",\"client 0060\",\"client 0059\",\"client 0064\",\"client 0063\",\"client 0048\",\"client 0034\",\"client 0046\",\"client 0065\",\"client 0052\",\"client 0042\"],\"x\":[-0.8995420592638399,-0.9949354911999488,-1.0867837253418415,-0.9387860817211685,-0.805937260835107,-0.9729095896528683,-0.7753955362019772,-0.5655014602540922,-1.1502721358928774,-0.6591962889090155,-0.5289345491540766,-0.4914029036454943,-0.9377872573820955,-0.6483354017711365,-0.9749450100026934,-1.5955975135658838,-1.194465634898642,-0.4103741334286938,-0.282166527802465,-0.4314354542538855,-1.5164595593192112,-1.4376201412230645,-1.786298817264862,-1.4200143925759905,-1.7409813632791966,-0.8281126482966494,-0.7767847447224399,-0.1386153349009479,-1.2791984224652766,-0.08554966973650513,-1.330306655971984,-1.5619904740115516,-0.450429199419478],\"y\":[1.659877097970539,1.9285831869037142,1.9136133459476103,1.9921486061667688,1.3715285218675044,1.3166530501015536,2.1191021845351385,1.602783878796525,2.1690662446885183,2.0563209022331663,1.522161793950307,1.8759009863387732,1.1662144186020291,2.1996230428761265,1.1192536878065602,1.5325486328948768,2.3718107875386827,1.3970376555598754,1.6572842902991984,2.1768617205943155,1.20177328462497,1.0819818403744335,1.9259436314806955,2.4461522735742713,2.188941898949567,2.6240121356000876,2.6403569462559853,1.3606947085664243,2.632836533728367,2.0282416873526197,2.659549626288952,2.653338586026009,2.6695238717093366],\"type\":\"scatter\"},{\"hovertemplate\":[\"'client_id': '0081'<br> 'nb_trades': 22<br> 'nb_products': 15<br> 'aum': 709504<br> 'age': 84<br> 'silhouette': 0.6627874287923095\",\"'client_id': '0094'<br> 'nb_trades': 21<br> 'nb_products': 15<br> 'aum': 734105<br> 'age': 87<br> 'silhouette': 0.6549142524830961\",\"'client_id': '0080'<br> 'nb_trades': 22<br> 'nb_products': 14<br> 'aum': 681324<br> 'age': 83<br> 'silhouette': 0.6525610135048547\",\"'client_id': '0083'<br> 'nb_trades': 24<br> 'nb_products': 15<br> 'aum': 801988<br> 'age': 86<br> 'silhouette': 0.644972015106427\",\"'client_id': '0069'<br> 'nb_trades': 20<br> 'nb_products': 15<br> 'aum': 727622<br> 'age': 80<br> 'silhouette': 0.627648875032173\",\"'client_id': '0088'<br> 'nb_trades': 23<br> 'nb_products': 18<br> 'aum': 744736<br> 'age': 83<br> 'silhouette': 0.6256026412559745\",\"'client_id': '0071'<br> 'nb_trades': 22<br> 'nb_products': 18<br> 'aum': 710646<br> 'age': 85<br> 'silhouette': 0.6255098627635381\",\"'client_id': '0073'<br> 'nb_trades': 23<br> 'nb_products': 18<br> 'aum': 774311<br> 'age': 84<br> 'silhouette': 0.6238905747189314\",\"'client_id': '0090'<br> 'nb_trades': 20<br> 'nb_products': 14<br> 'aum': 831559<br> 'age': 85<br> 'silhouette': 0.6139091921131064\",\"'client_id': '0099'<br> 'nb_trades': 21<br> 'nb_products': 12<br> 'aum': 761807<br> 'age': 85<br> 'silhouette': 0.6082894734451729\",\"'client_id': '0075'<br> 'nb_trades': 20<br> 'nb_products': 12<br> 'aum': 664104<br> 'age': 88<br> 'silhouette': 0.5869254824944656\",\"'client_id': '0091'<br> 'nb_trades': 24<br> 'nb_products': 17<br> 'aum': 945248<br> 'age': 83<br> 'silhouette': 0.5715333349484766\",\"'client_id': '0074'<br> 'nb_trades': 20<br> 'nb_products': 16<br> 'aum': 928960<br> 'age': 82<br> 'silhouette': 0.5667434304388504\",\"'client_id': '0079'<br> 'nb_trades': 24<br> 'nb_products': 13<br> 'aum': 937402<br> 'age': 85<br> 'silhouette': 0.5650241137669992\",\"'client_id': '0096'<br> 'nb_trades': 20<br> 'nb_products': 17<br> 'aum': 657509<br> 'age': 75<br> 'silhouette': 0.5609644766809376\",\"'client_id': '0086'<br> 'nb_trades': 24<br> 'nb_products': 13<br> 'aum': 535143<br> 'age': 86<br> 'silhouette': 0.5605844166425893\",\"'client_id': '0067'<br> 'nb_trades': 20<br> 'nb_products': 17<br> 'aum': 562594<br> 'age': 81<br> 'silhouette': 0.5588184569783006\",\"'client_id': '0084'<br> 'nb_trades': 22<br> 'nb_products': 16<br> 'aum': 984285<br> 'age': 87<br> 'silhouette': 0.5564285006672801\",\"'client_id': '0077'<br> 'nb_trades': 24<br> 'nb_products': 12<br> 'aum': 583338<br> 'age': 79<br> 'silhouette': 0.5414008035940845\",\"'client_id': '0070'<br> 'nb_trades': 20<br> 'nb_products': 12<br> 'aum': 577468<br> 'age': 81<br> 'silhouette': 0.5141261833362823\",\"'client_id': '00100'<br> 'nb_trades': 21<br> 'nb_products': 15<br> 'aum': 477699<br> 'age': 84<br> 'silhouette': 0.5120847968887051\",\"'client_id': '0092'<br> 'nb_trades': 23<br> 'nb_products': 9<br> 'aum': 780611<br> 'age': 85<br> 'silhouette': 0.5016966143839774\",\"'client_id': '0072'<br> 'nb_trades': 22<br> 'nb_products': 16<br> 'aum': 470253<br> 'age': 79<br> 'silhouette': 0.4899393119598332\",\"'client_id': '0089'<br> 'nb_trades': 22<br> 'nb_products': 19<br> 'aum': 415937<br> 'age': 88<br> 'silhouette': 0.44636198894876605\",\"'client_id': '0098'<br> 'nb_trades': 20<br> 'nb_products': 16<br> 'aum': 437662<br> 'age': 82<br> 'silhouette': 0.44497703794245574\",\"'client_id': '0082'<br> 'nb_trades': 24<br> 'nb_products': 8<br> 'aum': 671381<br> 'age': 87<br> 'silhouette': 0.44074422193175194\",\"'client_id': '0068'<br> 'nb_trades': 20<br> 'nb_products': 8<br> 'aum': 617948<br> 'age': 89<br> 'silhouette': 0.35909946257167713\",\"'client_id': '0097'<br> 'nb_trades': 20<br> 'nb_products': 8<br> 'aum': 715030<br> 'age': 79<br> 'silhouette': 0.35242756727755903\",\"'client_id': '0076'<br> 'nb_trades': 21<br> 'nb_products': 9<br> 'aum': 641529<br> 'age': 75<br> 'silhouette': 0.34045868082101693\",\"'client_id': '0095'<br> 'nb_trades': 20<br> 'nb_products': 12<br> 'aum': 426062<br> 'age': 83<br> 'silhouette': 0.32567523568093937\",\"'client_id': '0085'<br> 'nb_trades': 20<br> 'nb_products': 9<br> 'aum': 501445<br> 'age': 83<br> 'silhouette': 0.2470649223673078\",\"'client_id': '0093'<br> 'nb_trades': 21<br> 'nb_products': 11<br> 'aum': 415613<br> 'age': 79<br> 'silhouette': 0.22776874001646766\",\"'client_id': '0087'<br> 'nb_trades': 20<br> 'nb_products': 11<br> 'aum': 440361<br> 'age': 77<br> 'silhouette': 0.20159821722475837\",\"'client_id': '0078'<br> 'nb_trades': 21<br> 'nb_products': 8<br> 'aum': 453373<br> 'age': 77<br> 'silhouette': -0.008162146419777118\"],\"marker\":{\"line\":{\"width\":2},\"size\":20},\"mode\":\"markers\",\"name\":\"active clients\",\"text\":[\"client 0081\",\"client 0094\",\"client 0080\",\"client 0083\",\"client 0069\",\"client 0088\",\"client 0071\",\"client 0073\",\"client 0090\",\"client 0099\",\"client 0075\",\"client 0091\",\"client 0074\",\"client 0079\",\"client 0096\",\"client 0086\",\"client 0067\",\"client 0084\",\"client 0077\",\"client 0070\",\"client 00100\",\"client 0092\",\"client 0072\",\"client 0089\",\"client 0098\",\"client 0082\",\"client 0068\",\"client 0097\",\"client 0076\",\"client 0095\",\"client 0085\",\"client 0093\",\"client 0087\",\"client 0078\"],\"x\":[-1.105347897091465,-1.034513454461824,-1.2518818281854653,-1.049792743037689,-0.657891258411379,-0.7777759564659175,-0.9157042384163213,-1.4179744707618767,-0.9557206228040893,-0.6788304074216882,-0.7997180813814952,-0.5223258654408593,-1.461663352726489,-0.7083869759851278,-1.5461795155386822,-1.5803366859991759,-1.3410463377144215,-0.5198267738711548,-1.2214291722018793,-1.5528200637438028,-1.3766626167968299,-1.321581600644694,-1.665525235999575,-0.9839015726803302,-0.5729601758831183,-1.3355566961509027,-0.43019954750914835,-0.4350647144228915,-1.7542092653279928,-0.02413173964411841,-1.2334481898948093,-0.1334703262058553,0.20528463936223829,-1.6197687286787787],\"y\":[-1.5708530707447954,-1.41583759554853,-1.467401623126568,-2.106087638563356,-1.5717558621079246,-1.3873317574200028,-2.1383783364531386,-1.7056681180203763,-1.315560413157086,-2.0807932608029285,-1.2987054288263613,-1.7232106556385043,-1.911084590225217,-1.2663229143117136,-1.5969888028808574,-1.7519182440334375,-2.237913567976219,-1.3417147667230758,-2.3228185884506547,-2.0613095062902556,-2.290596930750453,-1.131200168979918,-2.0575632912112645,-2.513324733481797,-1.0560966546677113,-0.9516652389826559,-2.385918164104935,-2.4274377145278105,-2.2551231041918687,-1.8188110246324527,-2.856545506653484,-2.5422976310274867,-1.9624381239462567,-0.6379859028745896],\"type\":\"scatter\"}],                        {\"template\":{\"data\":{\"histogram2dcontour\":[{\"type\":\"histogram2dcontour\",\"colorbar\":{\"outlinewidth\":0,\"ticks\":\"\"},\"colorscale\":[[0.0,\"#0d0887\"],[0.1111111111111111,\"#46039f\"],[0.2222222222222222,\"#7201a8\"],[0.3333333333333333,\"#9c179e\"],[0.4444444444444444,\"#bd3786\"],[0.5555555555555556,\"#d8576b\"],[0.6666666666666666,\"#ed7953\"],[0.7777777777777778,\"#fb9f3a\"],[0.8888888888888888,\"#fdca26\"],[1.0,\"#f0f921\"]]}],\"choropleth\":[{\"type\":\"choropleth\",\"colorbar\":{\"outlinewidth\":0,\"ticks\":\"\"}}],\"histogram2d\":[{\"type\":\"histogram2d\",\"colorbar\":{\"outlinewidth\":0,\"ticks\":\"\"},\"colorscale\":[[0.0,\"#0d0887\"],[0.1111111111111111,\"#46039f\"],[0.2222222222222222,\"#7201a8\"],[0.3333333333333333,\"#9c179e\"],[0.4444444444444444,\"#bd3786\"],[0.5555555555555556,\"#d8576b\"],[0.6666666666666666,\"#ed7953\"],[0.7777777777777778,\"#fb9f3a\"],[0.8888888888888888,\"#fdca26\"],[1.0,\"#f0f921\"]]}],\"heatmap\":[{\"type\":\"heatmap\",\"colorbar\":{\"outlinewidth\":0,\"ticks\":\"\"},\"colorscale\":[[0.0,\"#0d0887\"],[0.1111111111111111,\"#46039f\"],[0.2222222222222222,\"#7201a8\"],[0.3333333333333333,\"#9c179e\"],[0.4444444444444444,\"#bd3786\"],[0.5555555555555556,\"#d8576b\"],[0.6666666666666666,\"#ed7953\"],[0.7777777777777778,\"#fb9f3a\"],[0.8888888888888888,\"#fdca26\"],[1.0,\"#f0f921\"]]}],\"heatmapgl\":[{\"type\":\"heatmapgl\",\"colorbar\":{\"outlinewidth\":0,\"ticks\":\"\"},\"colorscale\":[[0.0,\"#0d0887\"],[0.1111111111111111,\"#46039f\"],[0.2222222222222222,\"#7201a8\"],[0.3333333333333333,\"#9c179e\"],[0.4444444444444444,\"#bd3786\"],[0.5555555555555556,\"#d8576b\"],[0.6666666666666666,\"#ed7953\"],[0.7777777777777778,\"#fb9f3a\"],[0.8888888888888888,\"#fdca26\"],[1.0,\"#f0f921\"]]}],\"contourcarpet\":[{\"type\":\"contourcarpet\",\"colorbar\":{\"outlinewidth\":0,\"ticks\":\"\"}}],\"contour\":[{\"type\":\"contour\",\"colorbar\":{\"outlinewidth\":0,\"ticks\":\"\"},\"colorscale\":[[0.0,\"#0d0887\"],[0.1111111111111111,\"#46039f\"],[0.2222222222222222,\"#7201a8\"],[0.3333333333333333,\"#9c179e\"],[0.4444444444444444,\"#bd3786\"],[0.5555555555555556,\"#d8576b\"],[0.6666666666666666,\"#ed7953\"],[0.7777777777777778,\"#fb9f3a\"],[0.8888888888888888,\"#fdca26\"],[1.0,\"#f0f921\"]]}],\"surface\":[{\"type\":\"surface\",\"colorbar\":{\"outlinewidth\":0,\"ticks\":\"\"},\"colorscale\":[[0.0,\"#0d0887\"],[0.1111111111111111,\"#46039f\"],[0.2222222222222222,\"#7201a8\"],[0.3333333333333333,\"#9c179e\"],[0.4444444444444444,\"#bd3786\"],[0.5555555555555556,\"#d8576b\"],[0.6666666666666666,\"#ed7953\"],[0.7777777777777778,\"#fb9f3a\"],[0.8888888888888888,\"#fdca26\"],[1.0,\"#f0f921\"]]}],\"mesh3d\":[{\"type\":\"mesh3d\",\"colorbar\":{\"outlinewidth\":0,\"ticks\":\"\"}}],\"scatter\":[{\"fillpattern\":{\"fillmode\":\"overlay\",\"size\":10,\"solidity\":0.2},\"type\":\"scatter\"}],\"parcoords\":[{\"type\":\"parcoords\",\"line\":{\"colorbar\":{\"outlinewidth\":0,\"ticks\":\"\"}}}],\"scatterpolargl\":[{\"type\":\"scatterpolargl\",\"marker\":{\"colorbar\":{\"outlinewidth\":0,\"ticks\":\"\"}}}],\"bar\":[{\"error_x\":{\"color\":\"#2a3f5f\"},\"error_y\":{\"color\":\"#2a3f5f\"},\"marker\":{\"line\":{\"color\":\"#E5ECF6\",\"width\":0.5},\"pattern\":{\"fillmode\":\"overlay\",\"size\":10,\"solidity\":0.2}},\"type\":\"bar\"}],\"scattergeo\":[{\"type\":\"scattergeo\",\"marker\":{\"colorbar\":{\"outlinewidth\":0,\"ticks\":\"\"}}}],\"scatterpolar\":[{\"type\":\"scatterpolar\",\"marker\":{\"colorbar\":{\"outlinewidth\":0,\"ticks\":\"\"}}}],\"histogram\":[{\"marker\":{\"pattern\":{\"fillmode\":\"overlay\",\"size\":10,\"solidity\":0.2}},\"type\":\"histogram\"}],\"scattergl\":[{\"type\":\"scattergl\",\"marker\":{\"colorbar\":{\"outlinewidth\":0,\"ticks\":\"\"}}}],\"scatter3d\":[{\"type\":\"scatter3d\",\"line\":{\"colorbar\":{\"outlinewidth\":0,\"ticks\":\"\"}},\"marker\":{\"colorbar\":{\"outlinewidth\":0,\"ticks\":\"\"}}}],\"scattermapbox\":[{\"type\":\"scattermapbox\",\"marker\":{\"colorbar\":{\"outlinewidth\":0,\"ticks\":\"\"}}}],\"scatterternary\":[{\"type\":\"scatterternary\",\"marker\":{\"colorbar\":{\"outlinewidth\":0,\"ticks\":\"\"}}}],\"scattercarpet\":[{\"type\":\"scattercarpet\",\"marker\":{\"colorbar\":{\"outlinewidth\":0,\"ticks\":\"\"}}}],\"carpet\":[{\"aaxis\":{\"endlinecolor\":\"#2a3f5f\",\"gridcolor\":\"white\",\"linecolor\":\"white\",\"minorgridcolor\":\"white\",\"startlinecolor\":\"#2a3f5f\"},\"baxis\":{\"endlinecolor\":\"#2a3f5f\",\"gridcolor\":\"white\",\"linecolor\":\"white\",\"minorgridcolor\":\"white\",\"startlinecolor\":\"#2a3f5f\"},\"type\":\"carpet\"}],\"table\":[{\"cells\":{\"fill\":{\"color\":\"#EBF0F8\"},\"line\":{\"color\":\"white\"}},\"header\":{\"fill\":{\"color\":\"#C8D4E3\"},\"line\":{\"color\":\"white\"}},\"type\":\"table\"}],\"barpolar\":[{\"marker\":{\"line\":{\"color\":\"#E5ECF6\",\"width\":0.5},\"pattern\":{\"fillmode\":\"overlay\",\"size\":10,\"solidity\":0.2}},\"type\":\"barpolar\"}],\"pie\":[{\"automargin\":true,\"type\":\"pie\"}]},\"layout\":{\"autotypenumbers\":\"strict\",\"colorway\":[\"#636efa\",\"#EF553B\",\"#00cc96\",\"#ab63fa\",\"#FFA15A\",\"#19d3f3\",\"#FF6692\",\"#B6E880\",\"#FF97FF\",\"#FECB52\"],\"font\":{\"color\":\"#2a3f5f\"},\"hovermode\":\"closest\",\"hoverlabel\":{\"align\":\"left\"},\"paper_bgcolor\":\"white\",\"plot_bgcolor\":\"#E5ECF6\",\"polar\":{\"bgcolor\":\"#E5ECF6\",\"angularaxis\":{\"gridcolor\":\"white\",\"linecolor\":\"white\",\"ticks\":\"\"},\"radialaxis\":{\"gridcolor\":\"white\",\"linecolor\":\"white\",\"ticks\":\"\"}},\"ternary\":{\"bgcolor\":\"#E5ECF6\",\"aaxis\":{\"gridcolor\":\"white\",\"linecolor\":\"white\",\"ticks\":\"\"},\"baxis\":{\"gridcolor\":\"white\",\"linecolor\":\"white\",\"ticks\":\"\"},\"caxis\":{\"gridcolor\":\"white\",\"linecolor\":\"white\",\"ticks\":\"\"}},\"coloraxis\":{\"colorbar\":{\"outlinewidth\":0,\"ticks\":\"\"}},\"colorscale\":{\"sequential\":[[0.0,\"#0d0887\"],[0.1111111111111111,\"#46039f\"],[0.2222222222222222,\"#7201a8\"],[0.3333333333333333,\"#9c179e\"],[0.4444444444444444,\"#bd3786\"],[0.5555555555555556,\"#d8576b\"],[0.6666666666666666,\"#ed7953\"],[0.7777777777777778,\"#fb9f3a\"],[0.8888888888888888,\"#fdca26\"],[1.0,\"#f0f921\"]],\"sequentialminus\":[[0.0,\"#0d0887\"],[0.1111111111111111,\"#46039f\"],[0.2222222222222222,\"#7201a8\"],[0.3333333333333333,\"#9c179e\"],[0.4444444444444444,\"#bd3786\"],[0.5555555555555556,\"#d8576b\"],[0.6666666666666666,\"#ed7953\"],[0.7777777777777778,\"#fb9f3a\"],[0.8888888888888888,\"#fdca26\"],[1.0,\"#f0f921\"]],\"diverging\":[[0,\"#8e0152\"],[0.1,\"#c51b7d\"],[0.2,\"#de77ae\"],[0.3,\"#f1b6da\"],[0.4,\"#fde0ef\"],[0.5,\"#f7f7f7\"],[0.6,\"#e6f5d0\"],[0.7,\"#b8e186\"],[0.8,\"#7fbc41\"],[0.9,\"#4d9221\"],[1,\"#276419\"]]},\"xaxis\":{\"gridcolor\":\"white\",\"linecolor\":\"white\",\"ticks\":\"\",\"title\":{\"standoff\":15},\"zerolinecolor\":\"white\",\"automargin\":true,\"zerolinewidth\":2},\"yaxis\":{\"gridcolor\":\"white\",\"linecolor\":\"white\",\"ticks\":\"\",\"title\":{\"standoff\":15},\"zerolinecolor\":\"white\",\"automargin\":true,\"zerolinewidth\":2},\"scene\":{\"xaxis\":{\"backgroundcolor\":\"#E5ECF6\",\"gridcolor\":\"white\",\"linecolor\":\"white\",\"showbackground\":true,\"ticks\":\"\",\"zerolinecolor\":\"white\",\"gridwidth\":2},\"yaxis\":{\"backgroundcolor\":\"#E5ECF6\",\"gridcolor\":\"white\",\"linecolor\":\"white\",\"showbackground\":true,\"ticks\":\"\",\"zerolinecolor\":\"white\",\"gridwidth\":2},\"zaxis\":{\"backgroundcolor\":\"#E5ECF6\",\"gridcolor\":\"white\",\"linecolor\":\"white\",\"showbackground\":true,\"ticks\":\"\",\"zerolinecolor\":\"white\",\"gridwidth\":2}},\"shapedefaults\":{\"line\":{\"color\":\"#2a3f5f\"}},\"annotationdefaults\":{\"arrowcolor\":\"#2a3f5f\",\"arrowhead\":0,\"arrowwidth\":1},\"geo\":{\"bgcolor\":\"white\",\"landcolor\":\"#E5ECF6\",\"subunitcolor\":\"white\",\"showland\":true,\"showlakes\":true,\"lakecolor\":\"white\"},\"title\":{\"x\":0.05},\"mapbox\":{\"style\":\"light\"}}},\"yaxis\":{\"range\":[-2,2],\"visible\":false,\"scaleanchor\":\"x\",\"scaleratio\":1},\"xaxis\":{\"range\":[-1,2],\"visible\":false,\"scaleanchor\":\"y\",\"scaleratio\":1},\"showlegend\":false},                        {\"responsive\": true}                    ).then(function(){\n",
       "                            \n",
       "var gd = document.getElementById('9c3239a1-dab7-4690-a9b2-ce5dc104b336');\n",
       "var x = new MutationObserver(function (mutations, observer) {{\n",
       "        var display = window.getComputedStyle(gd).display;\n",
       "        if (!display || display === 'none') {{\n",
       "            console.log([gd, 'removed!']);\n",
       "            Plotly.purge(gd);\n",
       "            observer.disconnect();\n",
       "        }}\n",
       "}});\n",
       "\n",
       "// Listen for the removal of the full notebook cells\n",
       "var notebookContainer = gd.closest('#notebook-container');\n",
       "if (notebookContainer) {{\n",
       "    x.observe(notebookContainer, {childList: true});\n",
       "}}\n",
       "\n",
       "// Listen for the clearing of the current output cell\n",
       "var outputEl = gd.closest('.output');\n",
       "if (outputEl) {{\n",
       "    x.observe(outputEl, {childList: true});\n",
       "}}\n",
       "\n",
       "                        })                };                });            </script>        </div>"
      ]
     },
     "metadata": {},
     "output_type": "display_data"
    }
   ],
   "source": [
    "np.random.seed(0)\n",
    "\n",
    "fig = go.Figure()\n",
    "\n",
    "cluster_labels = df_gmm['label'].unique()\n",
    "\n",
    "for idx, cluster_number in enumerate(cluster_labels):\n",
    "    \n",
    "    df_cluster = df_gmm[df_gmm['label']==cluster_number].copy()\n",
    "    n_count = df_cluster.shape[0]\n",
    "    \n",
    "    # Define centers for each cluster\n",
    "    center = mu_list[idx]\n",
    "    \n",
    "    # Generate coordinates\n",
    "    df_simul_cluster = pd.DataFrame()\n",
    "    df_simul_cluster['x'] = np.random.normal(center[0],1-dict_silhouette_clusters[cluster_number],n_count)\n",
    "    df_simul_cluster['y'] = np.random.normal(center[1],1-dict_silhouette_clusters[cluster_number],n_count)\n",
    "    \n",
    "    # Compute the distance to center\n",
    "    df_simul_cluster['distance_to_center'] = df_simul_cluster.apply(lambda x: distance_to_center(x, center), axis=1)\n",
    "    \n",
    "    # Associate coordinates to points w.r.t their distance to the center\n",
    "    df_simul_cluster = df_simul_cluster.sort_values(by='distance_to_center')\n",
    "    df_cluster = df_cluster.sort_values(by='silhouette', ascending=False)\n",
    "    df_cluster['x'] = df_simul_cluster['x'].values\n",
    "    df_cluster['y'] = df_simul_cluster['y'].values\n",
    "    \n",
    "    d = df_cluster.drop(columns=['x','y','label']).to_dict('index')\n",
    "    info = [d[x] for x in d.keys()]\n",
    "    info_str = [str(x).replace(',','<br>').replace('{','').replace('}','') for x in info]\n",
    "#     df_cluster['info'] = info_str\n",
    "    \n",
    "    # Graph\n",
    "    fig.add_trace(go.Scatter(\n",
    "                             x=df_cluster['x'], \n",
    "                             y=df_cluster['y'], \n",
    "                             text=['client ' + val for val in df_cluster['client_id'].values],\n",
    "                             name=dict_label[cluster_number],\n",
    "                             mode='markers',\n",
    "                             marker=dict(size=20),\n",
    "                             marker_line=dict(width=2),\n",
    "                             hovertemplate=info_str\n",
    "                            )\n",
    "                 )\n",
    "\n",
    "fig.update_layout(yaxis_range=[-2,2])\n",
    "fig.update_layout(xaxis_range=[-1,2])\n",
    "fig.update_layout({'showlegend':False})\n",
    "fig.update_xaxes(visible=False, scaleanchor='y', scaleratio=1)\n",
    "fig.update_yaxes(visible=False, scaleanchor='x', scaleratio=1)\n",
    "fig.show()"
   ]
  }
 ],
 "metadata": {
  "kernelspec": {
   "display_name": "Python 3 (ipykernel)",
   "language": "python",
   "name": "python3"
  },
  "language_info": {
   "codemirror_mode": {
    "name": "ipython",
    "version": 3
   },
   "file_extension": ".py",
   "mimetype": "text/x-python",
   "name": "python",
   "nbconvert_exporter": "python",
   "pygments_lexer": "ipython3",
   "version": "3.8.8"
  }
 },
 "nbformat": 4,
 "nbformat_minor": 5
}
